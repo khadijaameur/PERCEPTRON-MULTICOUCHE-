{
 "cells": [
  {
   "cell_type": "markdown",
   "id": "88753be7",
   "metadata": {},
   "source": [
    "# TP : Perceptron multichouche "
   ]
  },
  {
   "cell_type": "markdown",
   "id": "1d21e662",
   "metadata": {},
   "source": [
    "Objectifs du TP :\n",
    "\n",
    "  – découvrir l’apprentissage par perceptron multi-couches .\n",
    "  \n",
    "  – utiliser scikit-learn pour déterminer une architecture MLP performante pour un jeu de données.\n"
   ]
  },
  {
   "cell_type": "markdown",
   "id": "8e18a075",
   "metadata": {},
   "source": [
    "### 1-Apprentissage par perceptron multi-couches sous sklearn"
   ]
  },
  {
   "cell_type": "code",
   "execution_count": 151,
   "id": "6a7512fa",
   "metadata": {},
   "outputs": [],
   "source": [
    "#import des librairies l'environnement\n",
    "import numpy as np\n",
    "import matplotlib.pyplot as plt\n",
    "from sklearn import datasets\n",
    "from sklearn.model_selection import train_test_split\n",
    "from sklearn.neural_network import MLPClassifier"
   ]
  },
  {
   "cell_type": "markdown",
   "id": "7d8e93cd",
   "metadata": {},
   "source": [
    "### Question1 :"
   ]
  },
  {
   "cell_type": "code",
   "execution_count": 2,
   "id": "43a31279",
   "metadata": {},
   "outputs": [],
   "source": [
    "x= np.array([[0,0], [0,1]])\n",
    "y=np.array([0,1])"
   ]
  },
  {
   "cell_type": "markdown",
   "id": "f2ab9a99",
   "metadata": {},
   "source": [
    "### Question2:"
   ]
  },
  {
   "cell_type": "code",
   "execution_count": 3,
   "id": "e223115e",
   "metadata": {},
   "outputs": [],
   "source": [
    "mlp = MLPClassifier(solver='lbfgs',activation='relu', \n",
    "            hidden_layer_sizes=(4), random_state=1)"
   ]
  },
  {
   "cell_type": "code",
   "execution_count": 4,
   "id": "4600fff6",
   "metadata": {},
   "outputs": [
    {
     "data": {
      "text/plain": [
       "MLPClassifier(hidden_layer_sizes=4, random_state=1, solver='lbfgs')"
      ]
     },
     "execution_count": 4,
     "metadata": {},
     "output_type": "execute_result"
    }
   ],
   "source": [
    "mlp.fit(x, y)"
   ]
  },
  {
   "cell_type": "code",
   "execution_count": 5,
   "id": "d64438f3",
   "metadata": {},
   "outputs": [
    {
     "data": {
      "text/plain": [
       "array([1, 0])"
      ]
     },
     "execution_count": 5,
     "metadata": {},
     "output_type": "execute_result"
    }
   ],
   "source": [
    "mlp.predict([[2,2],[-1,-2]])"
   ]
  },
  {
   "cell_type": "markdown",
   "id": "bb02cff8",
   "metadata": {},
   "source": [
    "### Question3 :"
   ]
  },
  {
   "cell_type": "code",
   "execution_count": 6,
   "id": "00a7b82d",
   "metadata": {},
   "outputs": [],
   "source": [
    "row=np.array([[1,1],[1,0]])\n",
    "x=np.append(x,row,axis=0)\n",
    "y=np.append(y,[0,1],axis=0)"
   ]
  },
  {
   "cell_type": "code",
   "execution_count": 7,
   "id": "a5f54739",
   "metadata": {},
   "outputs": [
    {
     "data": {
      "text/plain": [
       "array([0, 1, 0, 1])"
      ]
     },
     "execution_count": 7,
     "metadata": {},
     "output_type": "execute_result"
    }
   ],
   "source": [
    "y"
   ]
  },
  {
   "cell_type": "code",
   "execution_count": 8,
   "id": "e03deb4b",
   "metadata": {},
   "outputs": [
    {
     "data": {
      "text/plain": [
       "MLPClassifier(hidden_layer_sizes=4, random_state=1, solver='lbfgs')"
      ]
     },
     "execution_count": 8,
     "metadata": {},
     "output_type": "execute_result"
    }
   ],
   "source": [
    "mlp.fit(x, y)"
   ]
  },
  {
   "cell_type": "code",
   "execution_count": 9,
   "id": "3e07f37d",
   "metadata": {},
   "outputs": [
    {
     "data": {
      "text/plain": [
       "[array([[-0.07222344,  3.76233975, -0.43509678, -3.53937686],\n",
       "        [-0.30746108, -3.80421067, -0.27307681,  3.84889465]]),\n",
       " array([[-0.28179514],\n",
       "        [ 4.76002364],\n",
       "        [-0.45062052],\n",
       "        [ 5.57832509]])]"
      ]
     },
     "execution_count": 9,
     "metadata": {},
     "output_type": "execute_result"
    }
   ],
   "source": [
    "mlp.coefs_"
   ]
  },
  {
   "cell_type": "code",
   "execution_count": 10,
   "id": "fde23130",
   "metadata": {},
   "outputs": [
    {
     "data": {
      "text/plain": [
       "[array([-0.20646505,  0.12307492, -0.16161097, -0.40162837]),\n",
       " array([-9.65245553])]"
      ]
     },
     "execution_count": 10,
     "metadata": {},
     "output_type": "execute_result"
    }
   ],
   "source": [
    "mlp.intercepts_"
   ]
  },
  {
   "cell_type": "code",
   "execution_count": 11,
   "id": "e0ea3693",
   "metadata": {},
   "outputs": [],
   "source": [
    "clf = MLPClassifier(solver='lbfgs', hidden_layer_sizes=(), random_state=1)"
   ]
  },
  {
   "cell_type": "code",
   "execution_count": 12,
   "id": "a4f5bd2f",
   "metadata": {},
   "outputs": [
    {
     "data": {
      "text/plain": [
       "MLPClassifier(hidden_layer_sizes=(), random_state=1, solver='lbfgs')"
      ]
     },
     "execution_count": 12,
     "metadata": {},
     "output_type": "execute_result"
    }
   ],
   "source": [
    "clf.fit(x,y)"
   ]
  },
  {
   "cell_type": "code",
   "execution_count": 13,
   "id": "a06b2465",
   "metadata": {},
   "outputs": [
    {
     "data": {
      "text/plain": [
       "array([0, 1])"
      ]
     },
     "execution_count": 13,
     "metadata": {},
     "output_type": "execute_result"
    }
   ],
   "source": [
    "mlp.predict([[2,2],[-1,-2]])"
   ]
  },
  {
   "cell_type": "code",
   "execution_count": 16,
   "id": "91922ba9",
   "metadata": {},
   "outputs": [
    {
     "name": "stdout",
     "output_type": "stream",
     "text": [
      "[[0 0]\n",
      " [0 1]\n",
      " [1 1]\n",
      " [1 0]]\n"
     ]
    },
    {
     "data": {
      "text/plain": [
       "array([1, 0, 0, 1])"
      ]
     },
     "execution_count": 16,
     "metadata": {},
     "output_type": "execute_result"
    }
   ],
   "source": [
    "print(x)\n",
    "clf.predict(x)\n"
   ]
  },
  {
   "cell_type": "markdown",
   "id": "444f7b68",
   "metadata": {},
   "source": [
    "- Les prédictions des réseaux obtenus ne sont pas correctes."
   ]
  },
  {
   "cell_type": "code",
   "execution_count": 17,
   "id": "5fefbbd3",
   "metadata": {},
   "outputs": [
    {
     "data": {
      "text/plain": [
       "[array([0.00073602])]"
      ]
     },
     "execution_count": 17,
     "metadata": {},
     "output_type": "execute_result"
    }
   ],
   "source": [
    "clf.intercepts_"
   ]
  },
  {
   "cell_type": "code",
   "execution_count": 18,
   "id": "69d8aeaa",
   "metadata": {},
   "outputs": [
    {
     "data": {
      "text/plain": [
       "[array([[-7.08348727e-05],\n",
       "        [-1.01628111e-03]])]"
      ]
     },
     "execution_count": 18,
     "metadata": {},
     "output_type": "execute_result"
    }
   ],
   "source": [
    "clf.coefs_"
   ]
  },
  {
   "cell_type": "markdown",
   "id": "c1811717",
   "metadata": {},
   "source": [
    "### Question4 :"
   ]
  },
  {
   "cell_type": "code",
   "execution_count": 19,
   "id": "dc5795e1",
   "metadata": {},
   "outputs": [
    {
     "name": "stdout",
     "output_type": "stream",
     "text": [
      "[[0 0]\n",
      " [0 1]\n",
      " [1 1]\n",
      " [1 1]]\n",
      "[0 1 0 0]\n",
      "(4, 2)\n"
     ]
    },
    {
     "data": {
      "text/plain": [
       "(4,)"
      ]
     },
     "execution_count": 19,
     "metadata": {},
     "output_type": "execute_result"
    }
   ],
   "source": [
    "xx= np.array([[0, 0], [0, 1], [1, 1], [1, 1]])\n",
    "yy=np.array([0,1,0,0])\n",
    "print(xx)\n",
    "print(yy)\n",
    "print(xx.shape)\n",
    "yy.shape\n"
   ]
  },
  {
   "cell_type": "markdown",
   "id": "677f90f3",
   "metadata": {},
   "source": [
    "### Optimisation des parametres d'architecture MLP "
   ]
  },
  {
   "cell_type": "markdown",
   "id": "8516a10a",
   "metadata": {},
   "source": [
    "#### Question5:"
   ]
  },
  {
   "cell_type": "markdown",
   "id": "a2128f45",
   "metadata": {},
   "source": [
    "- Afin de Déterminez une architecture MLP la plus simple possible pour\n",
    "\n",
    "  l’apprentissage conjoint de ces deux fonctions,Nous avons utiliser \n",
    "\n",
    "  la fonction random.choice pour une generation aleatoire des nombres\n",
    "\n",
    "  des couches cachées utilisés ainsi que le nombre des neurones\n",
    "\n",
    "  qu'ils le constituent ."
   ]
  },
  {
   "cell_type": "code",
   "execution_count": 20,
   "id": "0fc315e3",
   "metadata": {},
   "outputs": [
    {
     "data": {
      "text/plain": [
       "{'architecture_ :1couche_caché et [192]neurones': [192],\n",
       " 'architecture_ :2couche_caché et [52, 160]neurones': [52, 160],\n",
       " 'architecture_ :3couche_caché et [174, 176, 89]neurones': [174, 176, 89],\n",
       " 'architecture_ :4couche_caché et [51, 132, 1, 137]neurones': [51,\n",
       "  132,\n",
       "  1,\n",
       "  137],\n",
       " 'architecture_ :5couche_caché et [72, 41, 178, 100, 1]neurones': [72,\n",
       "  41,\n",
       "  178,\n",
       "  100,\n",
       "  1],\n",
       " 'architecture_ :6couche_caché et [219, 83, 231, 112, 222, 203]neurones': [219,\n",
       "  83,\n",
       "  231,\n",
       "  112,\n",
       "  222,\n",
       "  203],\n",
       " 'architecture_ :7couche_caché et [245, 115, 45, 34, 161, 51, 175]neurones': [245,\n",
       "  115,\n",
       "  45,\n",
       "  34,\n",
       "  161,\n",
       "  51,\n",
       "  175],\n",
       " 'architecture_ :8couche_caché et [100, 123, 130, 135, 222, 20, 35, 44]neurones': [100,\n",
       "  123,\n",
       "  130,\n",
       "  135,\n",
       "  222,\n",
       "  20,\n",
       "  35,\n",
       "  44],\n",
       " 'architecture_ :9couche_caché et [234, 75, 130, 188, 199, 193, 62, 77, 144]neurones': [234,\n",
       "  75,\n",
       "  130,\n",
       "  188,\n",
       "  199,\n",
       "  193,\n",
       "  62,\n",
       "  77,\n",
       "  144],\n",
       " 'architecture_ :10couche_caché et [88, 4, 254, 143, 24, 192, 241, 105, 47, 131]neurones': [88,\n",
       "  4,\n",
       "  254,\n",
       "  143,\n",
       "  24,\n",
       "  192,\n",
       "  241,\n",
       "  105,\n",
       "  47,\n",
       "  131],\n",
       " 'architecture_ :11couche_caché et [222, 30, 129, 156, 222, 80, 205, 19, 85, 117, 72]neurones': [222,\n",
       "  30,\n",
       "  129,\n",
       "  156,\n",
       "  222,\n",
       "  80,\n",
       "  205,\n",
       "  19,\n",
       "  85,\n",
       "  117,\n",
       "  72],\n",
       " 'architecture_ :12couche_caché et [89, 247, 213, 72, 186, 7, 136, 145, 240, 224, 164, 132]neurones': [89,\n",
       "  247,\n",
       "  213,\n",
       "  72,\n",
       "  186,\n",
       "  7,\n",
       "  136,\n",
       "  145,\n",
       "  240,\n",
       "  224,\n",
       "  164,\n",
       "  132],\n",
       " 'architecture_ :13couche_caché et [126, 37, 169, 28, 32, 37, 186, 232, 160, 134, 182, 90, 241]neurones': [126,\n",
       "  37,\n",
       "  169,\n",
       "  28,\n",
       "  32,\n",
       "  37,\n",
       "  186,\n",
       "  232,\n",
       "  160,\n",
       "  134,\n",
       "  182,\n",
       "  90,\n",
       "  241],\n",
       " 'architecture_ :14couche_caché et [93, 13, 95, 71, 255, 60, 69, 58, 174, 24, 163, 167, 99, 161]neurones': [93,\n",
       "  13,\n",
       "  95,\n",
       "  71,\n",
       "  255,\n",
       "  60,\n",
       "  69,\n",
       "  58,\n",
       "  174,\n",
       "  24,\n",
       "  163,\n",
       "  167,\n",
       "  99,\n",
       "  161],\n",
       " 'architecture_ :15couche_caché et [36, 217, 49, 4, 29, 210, 78, 37, 176, 114, 103, 197, 174, 10, 63]neurones': [36,\n",
       "  217,\n",
       "  49,\n",
       "  4,\n",
       "  29,\n",
       "  210,\n",
       "  78,\n",
       "  37,\n",
       "  176,\n",
       "  114,\n",
       "  103,\n",
       "  197,\n",
       "  174,\n",
       "  10,\n",
       "  63],\n",
       " 'architecture_ :16couche_caché et [161, 177, 34, 188, 134, 189, 169, 124, 175, 201, 31, 134, 137, 214, 63, 107]neurones': [161,\n",
       "  177,\n",
       "  34,\n",
       "  188,\n",
       "  134,\n",
       "  189,\n",
       "  169,\n",
       "  124,\n",
       "  175,\n",
       "  201,\n",
       "  31,\n",
       "  134,\n",
       "  137,\n",
       "  214,\n",
       "  63,\n",
       "  107],\n",
       " 'architecture_ :17couche_caché et [187, 199, 181, 26, 144, 177, 165, 167, 58, 110, 21, 60, 11, 162, 94, 248, 149]neurones': [187,\n",
       "  199,\n",
       "  181,\n",
       "  26,\n",
       "  144,\n",
       "  177,\n",
       "  165,\n",
       "  167,\n",
       "  58,\n",
       "  110,\n",
       "  21,\n",
       "  60,\n",
       "  11,\n",
       "  162,\n",
       "  94,\n",
       "  248,\n",
       "  149],\n",
       " 'architecture_ :18couche_caché et [164, 182, 71, 132, 107, 196, 99, 24, 237, 201, 43, 120, 122, 212, 14, 140, 252, 80]neurones': [164,\n",
       "  182,\n",
       "  71,\n",
       "  132,\n",
       "  107,\n",
       "  196,\n",
       "  99,\n",
       "  24,\n",
       "  237,\n",
       "  201,\n",
       "  43,\n",
       "  120,\n",
       "  122,\n",
       "  212,\n",
       "  14,\n",
       "  140,\n",
       "  252,\n",
       "  80],\n",
       " 'architecture_ :19couche_caché et [110, 78, 231, 207, 93, 236, 74, 101, 180, 143, 196, 178, 92, 115, 216, 203, 160, 174, 147]neurones': [110,\n",
       "  78,\n",
       "  231,\n",
       "  207,\n",
       "  93,\n",
       "  236,\n",
       "  74,\n",
       "  101,\n",
       "  180,\n",
       "  143,\n",
       "  196,\n",
       "  178,\n",
       "  92,\n",
       "  115,\n",
       "  216,\n",
       "  203,\n",
       "  160,\n",
       "  174,\n",
       "  147],\n",
       " 'architecture_ :20couche_caché et [34, 34, 43, 147, 169, 89, 34, 16, 175, 39, 172, 88, 195, 9, 213, 130, 35, 106, 34, 23]neurones': [34,\n",
       "  34,\n",
       "  43,\n",
       "  147,\n",
       "  169,\n",
       "  89,\n",
       "  34,\n",
       "  16,\n",
       "  175,\n",
       "  39,\n",
       "  172,\n",
       "  88,\n",
       "  195,\n",
       "  9,\n",
       "  213,\n",
       "  130,\n",
       "  35,\n",
       "  106,\n",
       "  34,\n",
       "  23]}"
      ]
     },
     "execution_count": 20,
     "metadata": {},
     "output_type": "execute_result"
    }
   ],
   "source": [
    "import random\n",
    "test_score=[]\n",
    "new_one=[x for x in range(1,256)]\n",
    "hidden_layer_sizes=[]\n",
    "dict={}\n",
    "for i in range (1,21):\n",
    "    hidden_layer_sizes=[]\n",
    "    for k in range(1,i+1):\n",
    "        hidden_layer_sizes.append(random.choice(new_one))\n",
    "    dict[\"architecture_ :\"+str(i)+\"couche_caché et \"\n",
    "         +str(hidden_layer_sizes)+'neurones']=hidden_layer_sizes\n",
    "dict"
   ]
  },
  {
   "cell_type": "markdown",
   "id": "45cf65b7",
   "metadata": {},
   "source": [
    "- Nous avons garder les architectures obtenue , ensuite nous avons fait \n",
    "\n",
    "  l'apprentissage sur chacune d'eux et ona stocker tous les scores obtenus."
   ]
  },
  {
   "cell_type": "code",
   "execution_count": 21,
   "id": "cd670eea",
   "metadata": {},
   "outputs": [
    {
     "name": "stdout",
     "output_type": "stream",
     "text": [
      "[192]\n",
      "[52, 160]\n",
      "[174, 176, 89]\n",
      "[51, 132, 1, 137]\n",
      "[72, 41, 178, 100, 1]\n",
      "[219, 83, 231, 112, 222, 203]\n",
      "[245, 115, 45, 34, 161, 51, 175]\n",
      "[100, 123, 130, 135, 222, 20, 35, 44]\n",
      "[234, 75, 130, 188, 199, 193, 62, 77, 144]\n",
      "[88, 4, 254, 143, 24, 192, 241, 105, 47, 131]\n",
      "[222, 30, 129, 156, 222, 80, 205, 19, 85, 117, 72]\n",
      "[89, 247, 213, 72, 186, 7, 136, 145, 240, 224, 164, 132]\n",
      "[126, 37, 169, 28, 32, 37, 186, 232, 160, 134, 182, 90, 241]\n",
      "[93, 13, 95, 71, 255, 60, 69, 58, 174, 24, 163, 167, 99, 161]\n",
      "[36, 217, 49, 4, 29, 210, 78, 37, 176, 114, 103, 197, 174, 10, 63]\n",
      "[161, 177, 34, 188, 134, 189, 169, 124, 175, 201, 31, 134, 137, 214, 63, 107]\n",
      "[187, 199, 181, 26, 144, 177, 165, 167, 58, 110, 21, 60, 11, 162, 94, 248, 149]\n",
      "[164, 182, 71, 132, 107, 196, 99, 24, 237, 201, 43, 120, 122, 212, 14, 140, 252, 80]\n",
      "[110, 78, 231, 207, 93, 236, 74, 101, 180, 143, 196, 178, 92, 115, 216, 203, 160, 174, 147]\n",
      "[34, 34, 43, 147, 169, 89, 34, 16, 175, 39, 172, 88, 195, 9, 213, 130, 35, 106, 34, 23]\n"
     ]
    },
    {
     "data": {
      "text/plain": [
       "[1.0,\n",
       " 1.0,\n",
       " 1.0,\n",
       " 1.0,\n",
       " 0.75,\n",
       " 1.0,\n",
       " 1.0,\n",
       " 1.0,\n",
       " 1.0,\n",
       " 1.0,\n",
       " 1.0,\n",
       " 1.0,\n",
       " 1.0,\n",
       " 1.0,\n",
       " 0.75,\n",
       " 0.75,\n",
       " 1.0,\n",
       " 0.75,\n",
       " 0.75,\n",
       " 0.75]"
      ]
     },
     "execution_count": 21,
     "metadata": {},
     "output_type": "execute_result"
    }
   ],
   "source": [
    "for i in dict.keys():    \n",
    "    clf = MLPClassifier(solver='lbfgs', hidden_layer_sizes=(dict[i]), \n",
    "                        random_state=1) \n",
    "    print(dict[i])\n",
    "    clf.fit(xx,yy)\n",
    "    clf.predict(xx)\n",
    "    test_score.append(clf.score(xx,yy))\n",
    "test_score    "
   ]
  },
  {
   "cell_type": "markdown",
   "id": "c2e82eec",
   "metadata": {},
   "source": [
    "Nous avons visualiser l'architecture qui nous a rammené le meilleure score"
   ]
  },
  {
   "cell_type": "code",
   "execution_count": 22,
   "id": "e70a8d96",
   "metadata": {},
   "outputs": [
    {
     "data": {
      "text/plain": [
       "Text(0, 0.5, 'score de test')"
      ]
     },
     "execution_count": 22,
     "metadata": {},
     "output_type": "execute_result"
    },
    {
     "data": {
      "image/png": "[encoded data removed]",
      "text/plain": [
       "<Figure size 432x288 with 1 Axes>"
      ]
     },
     "metadata": {
      "needs_background": "light"
     },
     "output_type": "display_data"
    }
   ],
   "source": [
    "import matplotlib.pyplot as plt\n",
    "plt.plot(range(len(test_score)), test_score)\n",
    "plt.xlabel('valeur de la i eme architechtures ')\n",
    "plt.ylabel('score de test')"
   ]
  },
  {
   "cell_type": "markdown",
   "id": "f6e45e47",
   "metadata": {},
   "source": [
    "la fonction qui nous retourne l'architecture du i eme architecture choisie"
   ]
  },
  {
   "cell_type": "code",
   "execution_count": 23,
   "id": "ed4c559f",
   "metadata": {},
   "outputs": [
    {
     "name": "stdout",
     "output_type": "stream",
     "text": [
      "1.0\n"
     ]
    },
    {
     "data": {
      "text/plain": [
       "'architecture_ :14couche_caché et [93, 13, 95, 71, 255, 60, 69, 58, 174, 24, 163, 167, 99, 161]neurones'"
      ]
     },
     "execution_count": 23,
     "metadata": {},
     "output_type": "execute_result"
    }
   ],
   "source": [
    "def get_architecture_via_indice(k):\n",
    "    print(test_score[k])\n",
    "    return(list(dict.keys())[k]) \n",
    "# Example :\n",
    "get_architecture_via_indice(13)"
   ]
  },
  {
   "cell_type": "markdown",
   "id": "ef80dde2",
   "metadata": {},
   "source": [
    "la fonction qui nous retourne les autres composantes d'architechture choisie."
   ]
  },
  {
   "cell_type": "code",
   "execution_count": 24,
   "id": "a0c8054e",
   "metadata": {},
   "outputs": [
    {
     "data": {
      "text/plain": [
       "{'n_layers_:': 16,\n",
       " ' n_outputs_,:': 1,\n",
       " 'out_activation_:': 'logistic',\n",
       " 'coefs_:': [array([[-3.97456206e-02,  3.36519000e-02, -2.39440159e-01,\n",
       "          -1.17505612e-01, -1.69200356e-01, -1.95265690e-01,\n",
       "          -2.10254410e-01, -7.41518695e-02, -2.24172059e-02,\n",
       "          -1.80168476e-01, -3.87050104e-02,  1.21985461e-01,\n",
       "          -1.44141508e-01,  1.05369919e-01, -2.99617054e-01,\n",
       "           1.11793709e-01, -4.28064190e-01,  2.81118343e-02,\n",
       "          -1.72251020e-01, -1.37058851e-01,  9.12905929e-02,\n",
       "           3.05345873e-01,  3.70826403e-02,  3.02010863e-01,\n",
       "           1.09267300e-01,  1.08447811e-01, -1.98759626e-01,\n",
       "          -2.20788097e-01, -1.58147890e-01,  1.81441861e-01,\n",
       "          -1.92387805e-01, -1.49540328e-01,  3.81009340e-01,\n",
       "           1.58858361e-02, -3.57452710e-02, -8.83661471e-02,\n",
       "           8.93320583e-02, -9.18833613e-02, -2.26510270e-01,\n",
       "          -1.50450951e-02,  1.79662778e-01,  2.40642770e-01,\n",
       "          -1.05078896e-01,  1.35988434e-01, -1.90050730e-01,\n",
       "          -3.37337611e-02,  2.11305115e-01, -9.88567358e-02,\n",
       "          -1.01653467e-01, -1.77212572e-01, -2.30218367e-01,\n",
       "           8.56604117e-02, -1.38127216e-01, -1.12300779e-01,\n",
       "          -3.50264701e-01, -4.38840215e-01,  3.47972878e-02,\n",
       "          -1.69213440e-01, -6.77514437e-02,  2.08439541e-01,\n",
       "          -1.90477787e-01, -4.11663127e-02,  9.53038471e-02,\n",
       "          -2.46792457e-01, -2.15567742e-01, -5.36568013e-02,\n",
       "           3.82019743e-02, -4.04757666e-02,  4.48870332e-01,\n",
       "          -2.75211435e-01,  3.78937344e-02, -1.73645951e-01,\n",
       "          -1.72782982e-01,  1.47237319e-01,  2.38818869e-01,\n",
       "          -4.55050725e-01,  6.01670889e-01, -7.29186137e-02,\n",
       "           6.89308990e-02,  2.59641398e-02,  2.52467573e-01,\n",
       "          -4.62651982e-02,  4.98860744e-01, -7.32360671e-02,\n",
       "          -1.10202213e-01,  1.89625495e-01, -3.44435928e-02,\n",
       "           6.87102139e-01,  1.53797592e-01,  9.43347683e-02,\n",
       "          -1.84532783e-01,  3.53666909e-01, -3.29628449e-01],\n",
       "         [ 3.75478325e-02,  1.98111733e-01, -1.25961417e-01,\n",
       "           1.58477906e-01,  3.52917290e-02, -2.38120086e-01,\n",
       "           1.52201453e-02,  1.85484842e-02,  4.74822782e-02,\n",
       "           1.10217436e-01, -6.83663415e-02,  2.01997814e-01,\n",
       "           5.26438687e-01, -3.07661238e-01,  2.60258811e-01,\n",
       "           8.75170661e-02,  4.64525811e-01, -1.56945583e-01,\n",
       "          -1.73808306e-01,  3.92655391e-01, -2.87553812e-02,\n",
       "          -1.27671297e-01,  1.00811215e-01,  7.57154873e-02,\n",
       "           2.19577809e-01,  1.39406989e-02, -1.79970410e-01,\n",
       "          -2.29972560e-01, -2.26940146e-01, -2.25620996e-01,\n",
       "          -1.21562332e-01,  1.61389106e-01, -1.08511400e-01,\n",
       "           2.53011936e-02,  1.00106928e-01, -1.80017181e-01,\n",
       "          -1.05768785e-01,  1.89538794e-01,  7.78094494e-01,\n",
       "           4.03906527e-02, -2.85059820e-01,  1.07871321e-01,\n",
       "          -2.74712519e-03,  2.13251370e-01, -5.37136174e-02,\n",
       "          -2.98465631e-04, -1.86149229e-02,  2.69385033e-02,\n",
       "          -1.74134270e-01, -2.10794976e-01, -1.81372655e-01,\n",
       "          -2.18155044e-01, -1.88006343e-01, -2.79892146e-01,\n",
       "           3.01451786e-01,  1.99333368e-01, -2.35741989e-01,\n",
       "          -2.05019991e-01,  3.91555164e-01,  9.30915189e-02,\n",
       "          -1.42119540e-01, -1.18633464e-01,  2.95878330e-01,\n",
       "           1.24072187e-01,  3.89701034e-02,  1.33568036e-01,\n",
       "           1.98994373e-01, -2.46025868e-01, -2.09435247e-01,\n",
       "           1.35465942e-01,  2.86198547e-01, -1.64393451e-01,\n",
       "          -2.30597131e-01, -2.05955045e-01, -5.33841861e-02,\n",
       "           3.10068970e-02, -1.62422669e-01, -1.10601746e-01,\n",
       "           1.54331880e-01, -4.40894561e-02, -3.25666993e-01,\n",
       "          -6.54804968e-02, -7.30251388e-02,  3.16058677e-01,\n",
       "          -1.12601155e-01, -2.07721229e-01, -6.22283554e-02,\n",
       "          -1.90482313e-01, -4.67182162e-02,  2.52540309e-01,\n",
       "          -2.07624642e-01,  2.36481436e-02,  1.89336858e-01]]),\n",
       "  array([[ 0.13496612,  0.17231253,  0.18312458, ...,  0.10571989,\n",
       "           0.00862094,  0.12283395],\n",
       "         [ 0.03122407, -0.07250171,  0.03677095, ...,  0.03922381,\n",
       "           0.01954794, -0.15373456],\n",
       "         [-0.01501845, -0.07241716, -0.11753129, ..., -0.00367305,\n",
       "           0.10196938, -0.132321  ],\n",
       "         ...,\n",
       "         [-0.15421189, -0.02523567, -0.18873977, ..., -0.21111497,\n",
       "           0.00734529,  0.16470725],\n",
       "         [ 0.21953012, -0.25805405, -0.04045841, ..., -0.12814664,\n",
       "          -0.11075225,  0.04105887],\n",
       "         [-0.05417255,  0.09296728, -0.05709504, ..., -0.11186072,\n",
       "           0.20723609,  0.19759493]]),\n",
       "  array([[ 0.05944758,  0.07272637, -0.02972165, ..., -0.08337079,\n",
       "           0.04757265,  0.04260892],\n",
       "         [ 0.17010882, -0.11024261,  0.01235827, ...,  0.17113137,\n",
       "           0.21272256,  0.10126431],\n",
       "         [ 0.21394422, -0.20509881,  0.30620807, ...,  0.02449177,\n",
       "           0.1686456 ,  0.0833803 ],\n",
       "         ...,\n",
       "         [ 0.16604461,  0.0720631 , -0.26024602, ...,  0.12849822,\n",
       "          -0.13995833,  0.27457995],\n",
       "         [-0.1404206 , -0.20001677, -0.01973441, ..., -0.13852429,\n",
       "          -0.01399872,  0.11065161],\n",
       "         [ 0.15393929,  0.1472616 , -0.21946365, ..., -0.11442035,\n",
       "          -0.06726864,  0.11263662]]),\n",
       "  array([[-0.08998831, -0.07240871, -0.11921934, ..., -0.16594956,\n",
       "           0.01246495,  0.11724048],\n",
       "         [-0.15077755, -0.14184066,  0.01060103, ..., -0.069883  ,\n",
       "           0.136527  ,  0.17712699],\n",
       "         [ 0.06278467, -0.06721168, -0.12559811, ...,  0.16888952,\n",
       "          -0.12473175,  0.01127522],\n",
       "         ...,\n",
       "         [ 0.11133266, -0.10796561, -0.10328278, ...,  0.05788243,\n",
       "          -0.00122288,  0.06731197],\n",
       "         [-0.06781204, -0.10349708,  0.14754257, ...,  0.02768168,\n",
       "          -0.17560666,  0.11058619],\n",
       "         [-0.19515805,  0.00046337,  0.03730252, ..., -0.15985198,\n",
       "           0.13358836, -0.14593786]]),\n",
       "  array([[-0.00291449, -0.11091621,  0.01714361, ..., -0.10853551,\n",
       "          -0.01503439,  0.01489036],\n",
       "         [ 0.04660385, -0.08030714,  0.01988675, ...,  0.03400079,\n",
       "           0.09649866,  0.04953109],\n",
       "         [-0.05941459, -0.00085998,  0.06162542, ..., -0.06162996,\n",
       "           0.0037844 , -0.07589688],\n",
       "         ...,\n",
       "         [-0.03855865, -0.24325393, -0.10619   , ..., -0.10611702,\n",
       "           0.02414539, -0.23311688],\n",
       "         [ 0.0089311 ,  0.09714329,  0.12272172, ..., -0.09753123,\n",
       "          -0.01080236, -0.02279237],\n",
       "         [-0.07340638, -0.06310511, -0.12420518, ...,  0.04144679,\n",
       "          -0.0491189 ,  0.08439151]]),\n",
       "  array([[-0.12764168, -0.00957139,  0.07653903, ...,  0.08071015,\n",
       "          -0.11325974, -0.02228767],\n",
       "         [ 0.00989623,  0.04022742, -0.12246931, ...,  0.04892189,\n",
       "          -0.12454041,  0.01794456],\n",
       "         [ 0.10870102, -0.02526006,  0.02939349, ...,  0.08826668,\n",
       "           0.00803268, -0.01493138],\n",
       "         ...,\n",
       "         [-0.09176448, -0.03854483,  0.12345425, ...,  0.05448206,\n",
       "          -0.09096483, -0.09815778],\n",
       "         [ 0.01086419, -0.08235324,  0.08221891, ..., -0.04396262,\n",
       "           0.02575872, -0.1139292 ],\n",
       "         [-0.08873437,  0.08025803, -0.13690195, ..., -0.09248633,\n",
       "           0.10663958,  0.0352375 ]]),\n",
       "  array([[-0.12760278,  0.12491289, -0.19091436, ...,  0.16590169,\n",
       "           0.04702032,  0.19986352],\n",
       "         [ 0.02813004, -0.10385148, -0.20345664, ...,  0.04353287,\n",
       "          -0.02604475,  0.04806593],\n",
       "         [ 0.11624551, -0.13784285,  0.02957867, ..., -0.06781735,\n",
       "          -0.13236417,  0.11321894],\n",
       "         ...,\n",
       "         [-0.07077064,  0.07347332, -0.14229521, ...,  0.103964  ,\n",
       "           0.12774207,  0.1850066 ],\n",
       "         [-0.00095946, -0.11600989,  0.02373524, ...,  0.07894356,\n",
       "           0.1592216 , -0.12228512],\n",
       "         [ 0.19572512, -0.18698526, -0.14633462, ...,  0.17070506,\n",
       "          -0.17815787, -0.1014516 ]]),\n",
       "  array([[ 0.16780965,  0.04737538,  0.15822829, ..., -0.11489187,\n",
       "           0.06728563,  0.02091832],\n",
       "         [ 0.01353464,  0.17647168, -0.02288277, ...,  0.16368851,\n",
       "          -0.19455684,  0.09307889],\n",
       "         [-0.07260926,  0.19114438, -0.17491947, ...,  0.18330542,\n",
       "          -0.17769991,  0.0482121 ],\n",
       "         ...,\n",
       "         [ 0.15736082, -0.01861899, -0.18584608, ...,  0.18221923,\n",
       "           0.04004054,  0.08327421],\n",
       "         [ 0.00891056, -0.04112077,  0.17937719, ...,  0.07222098,\n",
       "           0.02560933, -0.14063475],\n",
       "         [ 0.07408849,  0.18104692, -0.11644852, ...,  0.00538576,\n",
       "           0.06070531, -0.17711784]]),\n",
       "  array([[ 0.14759341, -0.02404019,  0.04522608, ..., -0.14151577,\n",
       "           0.03223496,  0.03534998],\n",
       "         [ 0.0264404 , -0.12791738, -0.03264152, ...,  0.140259  ,\n",
       "           0.01942022, -0.07351027],\n",
       "         [-0.02143646, -0.06525206,  0.10070437, ..., -0.10079845,\n",
       "          -0.0072782 , -0.03601137],\n",
       "         ...,\n",
       "         [ 0.11544112,  0.08636364, -0.10090119, ...,  0.12608894,\n",
       "          -0.11412067, -0.00743864],\n",
       "         [-0.13187482, -0.16496292,  0.08383444, ..., -0.11386883,\n",
       "           0.04129785,  0.04698907],\n",
       "         [ 0.01713935,  0.00676262, -0.09671522, ..., -0.09720317,\n",
       "          -0.14440906, -0.11748517]]),\n",
       "  array([[ 0.00631892,  0.06306146, -0.13730983, ...,  0.01632357,\n",
       "          -0.08202866,  0.15245731],\n",
       "         [-0.08581606, -0.15112869, -0.17954452, ..., -0.08577625,\n",
       "           0.059779  , -0.11258518],\n",
       "         [-0.13350722,  0.05039678,  0.11959447, ..., -0.12281916,\n",
       "           0.03850357,  0.04101348],\n",
       "         ...,\n",
       "         [ 0.1585074 ,  0.03524828, -0.07994843, ..., -0.00320714,\n",
       "           0.12443176, -0.08419725],\n",
       "         [-0.00469221,  0.13259606, -0.0050054 , ..., -0.09582762,\n",
       "          -0.06559344, -0.06057077],\n",
       "         [-0.12524805,  0.08278983, -0.02559481, ..., -0.12700403,\n",
       "           0.15712234, -0.07374029]]),\n",
       "  array([[-0.11582266,  0.03623658, -0.1406414 , ..., -0.09706597,\n",
       "           0.02232857,  0.16409786],\n",
       "         [ 0.06206762,  0.04586277, -0.08055581, ...,  0.1395271 ,\n",
       "          -0.10973141, -0.01404278],\n",
       "         [-0.06114798,  0.05893537,  0.06454082, ..., -0.13762352,\n",
       "           0.03217067, -0.02137897],\n",
       "         ...,\n",
       "         [ 0.01001989,  0.08556233, -0.11686188, ...,  0.15138896,\n",
       "          -0.00957297,  0.15568702],\n",
       "         [ 0.15004378, -0.15415931,  0.06872606, ...,  0.00128832,\n",
       "          -0.02248051, -0.02002646],\n",
       "         [ 0.01921759,  0.1635496 , -0.0615196 , ...,  0.06964585,\n",
       "           0.10447272,  0.10973981]]),\n",
       "  array([[-0.03276716, -0.05302316,  0.098636  , ..., -0.05778546,\n",
       "           0.04380839, -0.01341417],\n",
       "         [ 0.08252478,  0.04297851,  0.08666139, ...,  0.06953039,\n",
       "           0.04193298, -0.00070479],\n",
       "         [ 0.0485892 ,  0.01468452,  0.02393907, ..., -0.11119127,\n",
       "          -0.09900894, -0.09043521],\n",
       "         ...,\n",
       "         [ 0.06620863,  0.07027846,  0.10883947, ...,  0.06779144,\n",
       "          -0.09015241, -0.01455234],\n",
       "         [ 0.00298473, -0.06283185, -0.12715169, ..., -0.07364284,\n",
       "          -0.02564182,  0.09481287],\n",
       "         [-0.09582897, -0.0811423 ,  0.08109398, ...,  0.05678756,\n",
       "           0.06998781,  0.06992094]]),\n",
       "  array([[-0.12060157,  0.102886  , -0.05892126, ...,  0.02714758,\n",
       "           0.06312453,  0.08278861],\n",
       "         [-0.13464813,  0.05170115,  0.03324935, ..., -0.10455127,\n",
       "           0.06407516, -0.04615175],\n",
       "         [ 0.09663369,  0.08981868,  0.13575852, ..., -0.04641392,\n",
       "          -0.04385318,  0.06218016],\n",
       "         ...,\n",
       "         [-0.05972469, -0.11913319, -0.03977129, ...,  0.10338581,\n",
       "           0.13154164,  0.12265922],\n",
       "         [ 0.03917057,  0.13239711,  0.11787516, ...,  0.0915199 ,\n",
       "          -0.05926181, -0.04633057],\n",
       "         [-0.12576204,  0.13603617, -0.11624136, ...,  0.08806481,\n",
       "          -0.07570671,  0.1411726 ]]),\n",
       "  array([[-0.08422621,  0.01570411, -0.03436253, ..., -0.06909414,\n",
       "           0.17776833,  0.10275424],\n",
       "         [-0.03590806, -0.02530761, -0.038823  , ..., -0.07274948,\n",
       "           0.00709779,  0.09225088],\n",
       "         [-0.00463344,  0.05103898,  0.12482185, ..., -0.14474731,\n",
       "           0.07433434,  0.13509834],\n",
       "         ...,\n",
       "         [ 0.1344505 ,  0.0512924 , -0.09036409, ..., -0.10681943,\n",
       "          -0.13913648, -0.03970705],\n",
       "         [-0.08368459, -0.03488463,  0.08797738, ..., -0.04308918,\n",
       "          -0.06280309,  0.01802621],\n",
       "         [-0.01450305,  0.05663798,  0.04461015, ..., -0.12968159,\n",
       "          -0.13530539, -0.11101853]]),\n",
       "  array([[ 1.64926203e-01],\n",
       "         [-1.28449991e-01],\n",
       "         [ 1.76926651e-01],\n",
       "         [ 6.38044872e-02],\n",
       "         [ 1.15528477e-01],\n",
       "         [-1.21791775e-01],\n",
       "         [-4.01884641e-01],\n",
       "         [ 1.25903545e-01],\n",
       "         [-1.13947599e-01],\n",
       "         [-1.02993976e-01],\n",
       "         [-1.54910272e-01],\n",
       "         [-2.18872842e-03],\n",
       "         [ 3.80411029e-02],\n",
       "         [ 1.05833419e-01],\n",
       "         [ 1.71553270e-01],\n",
       "         [ 8.27061761e-02],\n",
       "         [-7.51413784e-02],\n",
       "         [ 7.83985541e-02],\n",
       "         [-1.37826197e-01],\n",
       "         [ 1.50675884e-01],\n",
       "         [ 6.04731299e-02],\n",
       "         [ 2.28899805e-01],\n",
       "         [-2.19765296e-01],\n",
       "         [-9.75954210e-02],\n",
       "         [-1.46229057e-01],\n",
       "         [ 6.76696507e-02],\n",
       "         [ 9.29154602e-02],\n",
       "         [-2.29453662e-02],\n",
       "         [-2.87128212e-01],\n",
       "         [ 5.99169756e-02],\n",
       "         [-1.70816249e-01],\n",
       "         [ 4.60120739e-01],\n",
       "         [ 2.18761065e-01],\n",
       "         [-1.17221114e-01],\n",
       "         [-1.28706933e-02],\n",
       "         [-1.27307310e-01],\n",
       "         [-1.59639583e-01],\n",
       "         [-1.97394915e-01],\n",
       "         [-3.34641859e-02],\n",
       "         [-1.08425276e-01],\n",
       "         [ 4.11507897e-02],\n",
       "         [-5.79321767e-02],\n",
       "         [ 1.18019302e-01],\n",
       "         [ 1.52560841e-01],\n",
       "         [ 3.06206089e-02],\n",
       "         [-9.55527719e-02],\n",
       "         [-1.40060100e-01],\n",
       "         [-6.27474588e-01],\n",
       "         [-2.36677933e-01],\n",
       "         [-1.69673013e-02],\n",
       "         [-4.64726218e-01],\n",
       "         [-1.33631511e-01],\n",
       "         [-1.64621577e-01],\n",
       "         [-8.73624677e-02],\n",
       "         [ 1.37690207e-01],\n",
       "         [-1.44109555e-01],\n",
       "         [-4.02091378e-01],\n",
       "         [-7.18490432e-03],\n",
       "         [-1.45358025e-01],\n",
       "         [ 3.26667598e-02],\n",
       "         [-1.78271690e-01],\n",
       "         [ 6.65462050e-02],\n",
       "         [ 2.54729592e-01],\n",
       "         [ 1.22053758e-01],\n",
       "         [-1.02580397e-01],\n",
       "         [ 2.23391496e-01],\n",
       "         [ 1.36137293e-01],\n",
       "         [ 1.64377205e-01],\n",
       "         [-9.06258507e-02],\n",
       "         [-2.33374226e-02],\n",
       "         [ 1.06258920e-01],\n",
       "         [ 1.36805616e-01],\n",
       "         [-7.37006116e-02],\n",
       "         [-1.44214021e-01],\n",
       "         [-1.96740500e-01],\n",
       "         [ 6.63644614e-02],\n",
       "         [ 3.63458033e-02],\n",
       "         [ 1.59086308e-03],\n",
       "         [ 1.11188503e-01],\n",
       "         [ 6.42200687e-02],\n",
       "         [-2.50790712e-04],\n",
       "         [ 1.67606185e-01],\n",
       "         [-1.02905351e-01],\n",
       "         [ 9.70009977e-03],\n",
       "         [ 1.30103966e-01],\n",
       "         [-1.49162684e-02],\n",
       "         [-1.57617533e-01],\n",
       "         [-1.28180290e-01],\n",
       "         [ 5.61119875e-02],\n",
       "         [-1.20328029e-01],\n",
       "         [-2.30572399e-01],\n",
       "         [ 9.37869288e-02],\n",
       "         [ 2.72793966e-02],\n",
       "         [ 9.89097166e-02],\n",
       "         [-9.32452435e-03],\n",
       "         [-2.55308351e-01],\n",
       "         [ 1.12342971e-01],\n",
       "         [ 1.18371751e-01],\n",
       "         [ 1.28032896e-01],\n",
       "         [ 9.52476751e-02],\n",
       "         [-6.23106713e-03],\n",
       "         [ 2.48559824e-02],\n",
       "         [-1.48357174e-01],\n",
       "         [-2.47277299e-02],\n",
       "         [-9.78316876e-02],\n",
       "         [-8.28874463e-02],\n",
       "         [ 1.45766892e-01],\n",
       "         [-1.78139924e-01],\n",
       "         [-1.67567052e-01],\n",
       "         [-1.40208017e-01],\n",
       "         [ 5.97850289e-02],\n",
       "         [ 1.22337187e-01],\n",
       "         [-1.16648674e-01],\n",
       "         [ 1.14277801e-01],\n",
       "         [ 1.14253975e-01],\n",
       "         [-4.18660257e-01],\n",
       "         [ 3.64749481e-01],\n",
       "         [-1.77146811e-01],\n",
       "         [ 3.00513138e-02],\n",
       "         [-2.06272272e-02],\n",
       "         [ 2.01934892e-02],\n",
       "         [ 5.55005136e-02],\n",
       "         [-5.91418264e-02],\n",
       "         [ 7.94744983e-02],\n",
       "         [-6.89420156e-02],\n",
       "         [ 1.15465907e-01],\n",
       "         [ 1.48584513e-01],\n",
       "         [ 8.40086966e-02],\n",
       "         [-1.46472355e-01],\n",
       "         [ 1.54448259e-02],\n",
       "         [ 3.32310732e-02],\n",
       "         [ 6.42586891e-02],\n",
       "         [ 4.95615240e-01],\n",
       "         [ 9.68140682e-02],\n",
       "         [ 1.67169918e-01],\n",
       "         [ 3.34313387e-01],\n",
       "         [ 2.53407427e-01],\n",
       "         [ 1.41651754e-01],\n",
       "         [ 6.62810036e-02],\n",
       "         [-1.74934189e-01],\n",
       "         [ 2.31807040e-01],\n",
       "         [-1.69722120e-01],\n",
       "         [ 5.99494981e-02],\n",
       "         [ 1.23915429e-01],\n",
       "         [-1.77650970e-01],\n",
       "         [ 1.27761753e-01],\n",
       "         [ 8.75921946e-02],\n",
       "         [-1.21992238e-01],\n",
       "         [-9.60793092e-02],\n",
       "         [-6.49821248e-02],\n",
       "         [ 8.21307671e-03],\n",
       "         [-3.71336332e-02],\n",
       "         [-1.34761428e-02],\n",
       "         [ 9.61759479e-03],\n",
       "         [-3.97920788e-01],\n",
       "         [-5.34425384e-02],\n",
       "         [ 1.20792533e-02],\n",
       "         [ 1.08279907e-01],\n",
       "         [-1.78860752e-01],\n",
       "         [-2.99999874e-01],\n",
       "         [-1.60781504e-01]])],\n",
       " 'intercepts_:': [array([-0.1540875 ,  0.26685673,  0.10268378,  0.17162917, -0.11897289,\n",
       "         -0.21815867,  0.07831912,  0.22271635,  0.23891808,  0.0634122 ,\n",
       "         -0.24429994, -0.12721833,  0.30645234,  0.09926457,  0.23171236,\n",
       "          0.0311796 ,  0.20604777,  0.10163791, -0.05528484,  0.17928055,\n",
       "         -0.07371299,  0.14882435,  0.2853892 ,  0.28051531, -0.03585583,\n",
       "          0.11130818, -0.16387793, -0.18781601, -0.18341823,  0.06603999,\n",
       "         -0.24049345,  0.16643086,  0.12075615, -0.24376343, -0.22651672,\n",
       "         -0.08440899, -0.1854701 ,  0.16367966,  0.47038286,  0.15994801,\n",
       "         -0.01616477,  0.23003155,  0.2792146 ,  0.25955378, -0.02016517,\n",
       "         -0.13335166,  0.03722701, -0.107703  , -0.00489882, -0.0697928 ,\n",
       "         -0.24350494, -0.03301394, -0.0333359 ,  0.04100313,  0.10658958,\n",
       "          0.20170018,  0.27176211, -0.15882427,  0.22370958,  0.18149367,\n",
       "         -0.22421621, -0.04011263,  0.26513029,  0.34023865, -0.25111028,\n",
       "          0.14038765, -0.02910196,  0.13515492, -0.02916481,  0.05628886,\n",
       "          0.06475606,  0.00938854, -0.10777465, -0.09692933,  0.23481635,\n",
       "          0.01000782,  0.1633828 ,  0.04452017,  0.08843837, -0.17148605,\n",
       "         -0.10417807, -0.11470475, -0.25005217,  0.19045303, -0.04951879,\n",
       "         -0.09178734,  0.05088027, -0.28804083,  0.36929324,  0.23074858,\n",
       "         -0.15150622,  0.10270204, -0.03534169]),\n",
       "  array([-0.10299622, -0.40113333, -0.0126459 , -0.15041276, -0.02755008,\n",
       "         -0.1497356 ,  0.73444878, -0.17720811,  0.26228174,  0.22801002,\n",
       "          0.08173386,  0.25125776, -0.16978135]),\n",
       "  array([-0.14861115, -0.03253933,  0.25889277,  0.03004356, -0.18995282,\n",
       "         -0.22414225, -0.00407796,  0.18677789,  0.56920615,  0.07174598,\n",
       "          0.15259492, -0.02299732, -0.21647789, -0.11093014,  0.29299152,\n",
       "         -0.11330634,  0.13663179, -0.1526049 ,  0.12639512,  0.09929301,\n",
       "         -0.1948415 , -0.14472117, -0.10580522,  0.14445775,  0.29822395,\n",
       "         -0.0094525 , -0.14158844, -0.04002701, -0.17071481, -0.01241175,\n",
       "          0.21265222, -0.08993135, -0.0222667 , -0.19100901, -0.08547726,\n",
       "         -0.17849115,  0.08105161,  0.03026461, -0.12856268, -0.12845378,\n",
       "         -0.11294937, -0.09009825, -0.05293631, -0.52570913,  0.19398295,\n",
       "         -0.21708308, -0.08102957,  0.16806767,  0.00557345,  0.35365232,\n",
       "          0.21674582, -0.12561706, -0.14659174,  0.28600737, -0.12357601,\n",
       "          0.26770519, -0.11263844, -0.22004967,  0.04716296,  0.05543556,\n",
       "         -0.19413786, -0.08169381,  0.35761102, -0.15888737, -0.19484446,\n",
       "          0.0445967 ,  0.20531264, -0.17263856,  0.00613405,  0.15404435,\n",
       "         -0.15485601, -0.2303943 ,  0.0287648 , -0.21909408,  0.40415876,\n",
       "          0.28982346, -0.10098289, -0.23112606, -0.13375464, -0.08775609,\n",
       "         -0.16427785,  0.210457  , -0.15793359,  0.19514386,  0.23900039,\n",
       "          0.15132911, -0.14884265, -0.123929  , -0.22704603,  0.08219942,\n",
       "          0.10470221,  0.04500318, -0.18012604, -0.15389347, -0.2079464 ]),\n",
       "  array([-0.0646488 , -0.34915169,  0.09066064,  0.13098221, -0.22383146,\n",
       "          0.24362387,  0.17837507, -0.15521266, -0.04616418, -0.15612173,\n",
       "          0.10019788,  0.27214877,  0.03024   ,  0.22132967, -0.05141457,\n",
       "         -0.34104359, -0.08725471,  0.50270491,  0.11747879, -0.13170803,\n",
       "          0.03416652, -0.22500776,  0.2288196 , -0.09341228,  0.18428213,\n",
       "          0.24538224, -0.39187969,  0.48604156, -0.03039824,  0.01307869,\n",
       "         -0.04801575, -0.10119688, -0.14801448, -0.17010483,  0.14068988,\n",
       "          0.05637366, -0.31460497,  0.43483085, -0.12649272, -0.13217819,\n",
       "          0.12961192, -0.15974146, -0.02493121,  0.11096286,  0.30209277,\n",
       "         -0.12408152,  0.31534242, -0.04851518, -0.04712194, -0.25960032,\n",
       "          0.11774259, -0.06112063,  0.28875124,  0.01382146, -0.16207722,\n",
       "          0.26327746, -0.14905635, -0.03969286, -0.12111165, -0.14922969,\n",
       "          0.01773015, -0.09018311,  0.44515301,  0.14074934, -0.37552904,\n",
       "          0.23067627,  0.16772638, -0.03082888,  0.32988069,  0.01888132,\n",
       "         -0.13946867]),\n",
       "  array([ 4.93995942e-02, -2.66162251e-01,  4.34220431e-02,  1.52160750e-01,\n",
       "          2.19042305e-01, -6.85516198e-02, -7.20934755e-02, -2.09618706e-02,\n",
       "         -2.16939497e-02,  6.30962863e-02,  5.39256023e-02,  2.36168507e-01,\n",
       "          2.86740941e-03, -1.36116223e-02, -6.25500505e-02,  1.16776463e-01,\n",
       "          1.33959420e-01,  1.75340186e-02,  4.16557141e-02, -5.25538086e-02,\n",
       "         -1.12018479e-01, -7.90320521e-03,  1.48462507e-01,  1.34920143e-01,\n",
       "         -5.77566302e-03,  2.44198656e-01, -1.78865218e-01,  1.43271443e-01,\n",
       "          1.59312819e-01,  5.37713645e-03, -2.17839437e-01, -1.25154992e-01,\n",
       "         -9.43221852e-03,  2.78562397e-01, -8.45460397e-02, -1.13609105e-01,\n",
       "         -8.21997159e-02,  1.18791685e-01,  1.86378636e-01, -1.29405026e-01,\n",
       "         -7.39826140e-02,  1.03368472e-01,  4.44836500e-02, -7.31691947e-02,\n",
       "         -1.32897644e-01,  1.47066359e-01, -1.14588495e-05, -9.78536639e-02,\n",
       "         -1.44689668e-01, -1.16908774e-02, -3.47823621e-01,  3.42614069e-01,\n",
       "         -1.03700746e-01, -5.59013681e-02, -7.65819830e-02, -3.18768423e-02,\n",
       "         -3.57839570e-01, -1.40145239e-02, -8.11612330e-02, -5.62805408e-02,\n",
       "          7.26832282e-02,  2.25329187e-02, -3.61275781e-01, -2.62708293e-01,\n",
       "          3.16510898e-02,  1.05479007e+00, -1.12865688e-01, -1.78134103e-01,\n",
       "         -3.63082213e-02,  2.61049326e-01,  3.45401670e-02, -1.14137003e-01,\n",
       "          1.56547124e-01, -4.37044223e-02, -1.11937336e-01,  1.08431226e-01,\n",
       "         -8.55776565e-02, -1.34245023e-02, -1.61660665e-01, -1.26995075e-01,\n",
       "         -5.24971704e-02, -7.52181422e-02,  1.22759051e-01, -8.08175102e-02,\n",
       "         -1.33402513e-01, -7.54125685e-02,  5.15791468e-01, -4.83290932e-02,\n",
       "         -1.14641201e-01, -6.74149949e-02,  7.38374621e-02,  2.15067395e-01,\n",
       "         -1.21732464e-01,  2.38908572e-01, -1.24883485e-01,  3.09829482e-02,\n",
       "         -5.48785792e-02, -3.47852816e-02,  2.43252428e-01,  2.15336597e-01,\n",
       "          1.59316010e-01, -8.25127392e-03, -4.76079079e-02,  1.20057691e-01,\n",
       "          1.95892322e-01,  1.40236605e-01, -1.09699518e-01,  1.06764007e-01,\n",
       "         -2.02333247e-01, -1.37538826e-01, -5.29249598e-02,  2.01310650e-03,\n",
       "         -3.83849325e-02, -9.64631441e-02,  2.17704270e-01, -3.15645889e-02,\n",
       "          1.21817508e-01,  1.76528634e-02, -5.81266289e-02, -1.35234520e-01,\n",
       "          1.28973293e-02,  1.13176298e-01,  9.01686890e-02,  2.44556279e-02,\n",
       "         -5.92412415e-02, -1.04705944e-01, -4.87051893e-02,  5.09529871e-02,\n",
       "          1.60715182e-01,  2.39470932e-01, -9.12294181e-02, -2.39273235e-01,\n",
       "         -1.02434531e-01, -8.48924630e-02,  1.12955218e-02, -2.51429359e-02,\n",
       "          6.97549266e-02, -3.80690983e-02, -3.02725259e-01,  1.75383823e-01,\n",
       "         -5.56572849e-02, -1.06203854e-01,  1.35124100e-01,  5.83208943e-02,\n",
       "         -2.61407090e-02, -3.27283945e-02, -3.64954650e-02, -2.80163880e-02,\n",
       "         -2.99502064e-02, -1.19810337e-01,  3.05968541e-01, -9.02081560e-02,\n",
       "          2.73654157e-01, -2.62490155e-01,  1.47321275e-02, -6.72861775e-03,\n",
       "          3.18211273e-02, -8.98568703e-02,  1.68006489e-01,  9.74449838e-02,\n",
       "          1.38899194e-01,  3.11764017e-01, -6.48646969e-03,  6.36500820e-02,\n",
       "          1.09096412e-01, -1.16786449e-01, -8.43303927e-03, -2.83355363e-01,\n",
       "         -1.18460926e-01, -9.48392004e-02,  2.33810998e-01,  3.85959725e-01,\n",
       "          7.30541329e-02, -4.49629866e-02,  1.55932788e-03, -2.06722539e-01,\n",
       "          6.66621783e-02,  2.53322392e-02, -1.13564157e-01, -3.61976166e-02,\n",
       "         -8.89918339e-02, -9.30737089e-02,  8.84187608e-02, -1.00339587e-01,\n",
       "          4.92058807e-02, -1.15806423e-01, -1.27159555e-01, -4.37889211e-02,\n",
       "          1.80334537e-02, -3.24965245e-02, -1.60056010e-01, -2.02409201e-03,\n",
       "         -1.25798211e-01,  1.56547850e-01, -8.31868574e-02, -1.00434288e-01,\n",
       "         -8.96290170e-02,  1.64916440e-01, -1.21640788e-01, -7.53687535e-02,\n",
       "         -5.29940107e-04, -1.35274462e-01, -5.75888161e-02, -4.76608343e-02,\n",
       "         -1.15614549e-01, -2.05140043e-03,  2.07367545e-01,  9.49143162e-02,\n",
       "         -4.84143892e-02, -8.46507174e-02, -1.12423601e-01, -5.99104093e-02,\n",
       "         -1.90572458e-01,  1.72874521e-01,  1.03969110e-01, -1.26481983e-01,\n",
       "          3.03331671e-01,  1.55118452e-01,  3.37956891e-01, -3.31786398e-02,\n",
       "          1.08642387e-02, -6.83138323e-02, -1.03526605e-01, -3.97478479e-02,\n",
       "          2.63732045e-02, -9.08796262e-02, -1.03332462e-01,  8.36311985e-02,\n",
       "         -1.68671344e-01,  3.93018816e-01, -2.83618686e-02, -2.09791245e-02,\n",
       "          2.25829827e-01, -4.52717791e-02, -1.24633875e-01, -6.51425347e-02,\n",
       "          9.38803206e-02,  2.90840230e-01, -9.27083508e-03,  1.26881773e-01,\n",
       "          4.92430558e-02, -6.71483857e-02, -7.05140025e-02, -9.27206767e-02,\n",
       "          5.72366339e-01, -3.09641722e-02, -8.11455380e-02,  1.14362924e-01,\n",
       "          2.24324522e-01, -1.29525354e-01, -6.73187777e-02, -1.25023926e-01,\n",
       "          3.10437556e-02,  1.09384738e-01, -1.73424240e-01]),\n",
       "  array([ 0.06270199, -0.10047936,  0.17346012, -0.19739054,  0.01900904,\n",
       "         -0.17860811, -0.24023148,  1.12828269, -0.07972627,  0.08722559,\n",
       "         -0.07904565, -0.01188784,  0.04285425,  0.24787895,  0.00435375,\n",
       "         -0.0486423 ,  0.02553361, -0.13380034,  0.16303465,  0.00196769,\n",
       "         -0.05152666, -0.12324586,  0.01850772, -0.04290429,  0.22686575,\n",
       "         -0.16181813,  0.08733381, -0.16297468, -0.00438494,  0.00716584,\n",
       "          0.20038014, -0.08136606, -0.27199649,  0.01827925,  0.0058989 ,\n",
       "         -0.11434126,  0.16261357, -0.09731484,  0.28548087, -0.09597467,\n",
       "          0.35911704,  0.82455031, -0.12982232, -0.04657906,  0.05137131,\n",
       "          0.38363238, -0.03212197,  0.14202982, -0.10585614,  0.07224089,\n",
       "          0.24601377, -0.02151883, -0.30063144,  0.06735026, -0.0049883 ,\n",
       "          0.00252157,  0.43590917, -0.10346741,  0.10352522, -0.05103329]),\n",
       "  array([-4.50791537e-02, -2.12234095e-01,  1.96668322e-01,  2.14677590e-01,\n",
       "         -8.15460686e-02,  4.47283223e-01, -2.62124564e-01,  7.65533293e-02,\n",
       "          2.32843418e-01, -7.21407543e-02, -1.75803117e-01,  2.42030612e-02,\n",
       "          2.75598076e-01,  9.49422401e-02,  3.35613977e-01, -4.39263711e-02,\n",
       "         -7.28485359e-02,  1.63681386e-02,  9.44013384e-02,  1.13426796e-01,\n",
       "          1.53955431e-01,  4.32761590e-01, -1.22279958e-02,  2.82430528e-01,\n",
       "         -9.81233072e-02,  2.37290349e-01, -6.54887533e-02, -1.44118482e-01,\n",
       "         -5.69583953e-02,  1.37144921e-02,  8.83690566e-02,  4.53743107e-01,\n",
       "         -9.31458609e-02, -1.11145274e-01, -1.43158364e-01,  3.50188392e-02,\n",
       "         -1.30623790e-01, -2.61841765e-04, -1.59353194e-01,  1.31709769e-02,\n",
       "         -5.91491201e-02, -1.93452059e-01,  1.18237252e-02,  2.04430479e-01,\n",
       "         -3.38383273e-02,  3.49447771e-01,  7.21995467e-02,  6.78683859e-01,\n",
       "          6.99804202e-01,  2.10228707e-01,  1.05194331e-01, -2.14271817e-01,\n",
       "         -9.13991096e-01, -1.28562987e-01, -1.71831339e-02, -1.91917414e-01,\n",
       "         -1.71674813e-01, -5.11310712e-02,  1.31716664e-01,  1.01535697e-01,\n",
       "         -6.09916642e-02, -2.76177109e-01,  1.77365295e-01, -1.01732480e-01,\n",
       "         -7.12044078e-02, -1.91876502e-01, -8.45317234e-02,  1.73742000e-01,\n",
       "         -1.97676834e-01]),\n",
       "  array([ 0.01949117, -0.01322657,  0.09359452,  0.12525514,  0.35645847,\n",
       "         -0.44555936, -0.02180651,  0.01525177, -0.03921137,  0.41806157,\n",
       "          0.02806425, -0.1027215 , -0.12526385,  0.0972297 ,  0.16196146,\n",
       "         -0.03828463, -0.05356305, -0.13563936,  0.03757195,  0.11971524,\n",
       "          0.38342654,  0.07510272,  0.01933417, -0.0219626 ,  0.24648299,\n",
       "         -0.09294813,  0.02113005, -0.15370321, -0.11265304,  0.05422971,\n",
       "          0.15986937,  0.11861619,  1.01001263, -0.14676073, -0.08236194,\n",
       "         -0.32525379, -0.18405043,  0.15837995, -0.08971134, -0.08161841,\n",
       "         -0.07589403, -0.0181222 ,  0.00718159, -0.03428784, -0.15012945,\n",
       "          0.5698694 ,  0.15242685,  0.22722367,  0.47523475, -0.20087245,\n",
       "         -0.3906766 , -0.16917334, -0.18634428, -0.32738366,  0.19241216,\n",
       "         -0.27062024, -0.38054839, -0.17151646]),\n",
       "  array([ 4.02721983e-02,  6.64223922e-02,  1.69212840e-01, -6.79169662e-01,\n",
       "          6.49983232e-02, -1.48477727e-01,  5.88816532e-02,  7.29648565e-02,\n",
       "         -6.87505728e-02, -1.35918702e-01, -2.88670118e-01, -1.04824276e-01,\n",
       "          1.68583770e-02,  4.19910099e-02, -8.78408500e-02, -1.04956346e-01,\n",
       "          4.82790317e-01, -3.38609730e-02, -1.14457079e-01,  2.86408071e-01,\n",
       "         -8.91798127e-02, -6.35121330e-02, -2.53175868e-02,  9.28467017e-01,\n",
       "         -5.78494075e-03,  1.32108528e-02, -1.24620032e-01, -8.59390588e-02,\n",
       "          1.31268249e-01,  1.84785828e-01,  2.85977622e-02,  1.10494729e-01,\n",
       "         -4.92104515e-02, -5.27927933e-02, -5.87421492e-02, -8.91164394e-03,\n",
       "         -1.30038702e-02, -6.10031062e-02, -3.66927355e-01,  2.33332445e-02,\n",
       "         -2.17756643e-01, -7.21902161e-02,  1.09848162e-01, -1.07063096e-01,\n",
       "          2.92572418e-02, -8.53113754e-02, -1.25603415e-01, -1.53385937e-01,\n",
       "          1.42554159e-01, -6.22754148e-02, -6.92767665e-02,  1.22963911e-01,\n",
       "          1.90888692e-02,  2.34460912e-01,  1.66218258e-02,  1.38241371e-01,\n",
       "         -1.02249945e-01,  3.90898567e-02,  5.08683974e-02,  1.31440486e-01,\n",
       "          1.77058276e-01, -1.12115515e-01, -1.59052406e-01,  5.81841104e-04,\n",
       "          1.94778941e-01,  1.18051659e-01, -1.46748797e-01,  1.31902037e-01,\n",
       "         -9.99258963e-02,  6.29453403e-02, -1.60795721e-01,  1.25748305e-01,\n",
       "          9.23058193e-02,  2.04089247e-01,  1.53777336e-01, -7.79051721e-02,\n",
       "         -2.55254622e-02, -1.03176983e-02,  2.80998239e-01,  4.50214910e-02,\n",
       "          8.47526181e-02, -1.41859791e-01,  2.99073974e-01,  9.24795889e-01,\n",
       "         -6.47729740e-02, -1.42780680e-01,  7.29746516e-02,  3.57675512e-02,\n",
       "          1.02616363e-01,  1.54753217e-01, -1.58886537e-01,  1.17328600e-01,\n",
       "          9.14766001e-02,  9.59182160e-02,  1.01189550e-01,  4.66591680e-02,\n",
       "         -5.89022289e-02,  2.58949893e-01,  1.15205008e-01, -9.71141552e-02,\n",
       "          5.23684243e-02,  4.93787530e-02,  1.85573278e-01, -1.02643835e-01,\n",
       "          1.44975121e-01,  3.59414378e-01,  3.57887335e-01, -7.98453668e-02,\n",
       "         -3.64500545e-03, -9.31247124e-03,  1.70327132e-01, -7.08769832e-02,\n",
       "          4.25866948e-02, -9.74670185e-02, -2.42906923e-01,  4.17473923e-02,\n",
       "          1.45250416e-03, -1.31801044e-01,  2.29892231e-01, -1.59189956e-01,\n",
       "         -1.79692976e-02,  4.75786834e-02, -1.42579474e-01, -1.38503615e-01,\n",
       "         -4.97114503e-01, -7.09026335e-02, -2.95700085e-02, -1.30664101e-01,\n",
       "          5.46844924e-02, -1.50971435e-04, -1.48202916e-01, -3.42631393e-01,\n",
       "         -2.63087950e-01,  3.72208115e-02,  7.21613165e-03,  1.56686200e-01,\n",
       "         -1.45341408e-02,  1.10349727e-01, -1.90762247e-02, -3.27308563e-01,\n",
       "          4.04778137e-01,  3.88091106e-02, -7.99708099e-05, -2.20446381e-02,\n",
       "          2.20327760e-02, -4.17028657e-02, -3.26146012e-02, -2.08594690e-01,\n",
       "          3.00787566e-01,  1.12746569e-01, -1.62650555e-02, -1.42648873e-01,\n",
       "         -9.71293109e-02, -1.24411293e-03,  1.07794852e-01, -3.94486068e-02,\n",
       "          5.38271802e-02,  2.55108639e-02,  2.04862412e-01, -2.92631995e-01,\n",
       "         -1.05270467e-01, -3.40817011e-01, -6.79015923e-03,  6.42935745e-03,\n",
       "         -8.76736150e-02,  4.01409015e-02,  3.47372756e-02,  2.79414646e-01,\n",
       "          2.54847458e-01, -1.54723781e-01, -6.30174221e-02, -6.33176582e-02,\n",
       "          4.24775680e-02, -9.22827590e-02]),\n",
       "  array([ 0.15495594,  0.12137466,  0.48238874, -0.77551117,  0.46099003,\n",
       "          0.08584426, -0.05425551,  0.03346561, -0.15417705,  0.54974167,\n",
       "         -0.10933054, -0.14734604, -0.14356908, -0.01509963, -0.3422779 ,\n",
       "         -0.1705009 , -0.03202365,  0.15391118,  0.00188685, -0.02275394,\n",
       "         -0.04281342, -0.00389603,  0.22313175, -0.02264891]),\n",
       "  array([-0.06583374,  0.00645222,  0.20318478, -0.03059964, -0.17904084,\n",
       "         -0.05598017, -0.0876964 , -0.0731885 , -0.17597506, -0.16691503,\n",
       "          0.35546617, -0.04181222, -0.03028087, -0.15095207, -0.08700467,\n",
       "          0.07333504, -0.00950147, -0.12088807,  0.01157307,  0.26822863,\n",
       "         -0.14714205,  0.05546874, -0.12283461,  0.11772121, -0.14621275,\n",
       "          0.04276798,  0.03966703,  0.12159789, -0.04405001,  0.04695613,\n",
       "          0.15815378, -0.12509199,  0.18337459, -0.12480971,  0.04716069,\n",
       "         -0.03266584, -0.06580279, -0.12182717,  0.13277524,  0.12167584,\n",
       "         -0.1099399 ,  0.00233645, -0.13796463,  0.03486975, -0.11688454,\n",
       "          0.61442223, -0.09761093,  0.09740092, -0.01604056,  0.24849452,\n",
       "         -0.06934998, -0.1457402 ,  0.03838311, -0.1647283 , -0.06102022,\n",
       "          0.19205096, -0.01541223,  0.32151688,  0.22602174, -0.08915182,\n",
       "          0.12115135, -0.17076941, -0.14512282,  0.04242311, -0.03087344,\n",
       "          0.21114907,  0.14941974, -0.07842824, -0.04697469, -0.06276636,\n",
       "          0.22176447,  0.13505   , -0.13364015,  0.0022055 ,  1.04389852,\n",
       "          0.01057986,  0.03497828, -0.03132117,  0.1443636 , -0.1429346 ,\n",
       "         -0.04687186, -0.11267477, -0.11743635, -0.01909335, -0.17061585,\n",
       "          0.0048674 , -1.29390581,  0.13178574,  0.17588575,  0.03596967,\n",
       "         -0.16680574, -0.25933668, -0.11036359, -0.17319286,  0.09306684,\n",
       "         -0.08572932,  0.02460568,  0.19334405, -0.08887661,  0.0274554 ,\n",
       "         -0.06085008, -0.08507402, -0.07729009,  0.11372469, -0.06949452,\n",
       "         -0.15147578, -1.15520903, -0.11495291, -0.04948543,  0.018655  ,\n",
       "          0.16723609,  0.14491014, -0.16943934,  0.11584994,  0.01944238,\n",
       "          0.23924015,  0.05311599, -0.04885406, -0.07068582, -0.07608598,\n",
       "         -0.03385649, -0.0035907 ,  0.01142036,  0.06246889,  0.08603097,\n",
       "         -0.03984386,  0.27244255,  0.34937456,  0.06165277,  0.04001993,\n",
       "          0.06518059, -0.0954041 , -0.13081949,  0.05150154, -0.08599593,\n",
       "         -0.15962891, -0.14212022,  0.14047261,  0.03772058, -0.13228521,\n",
       "         -0.07232614, -0.11945507,  0.10999244, -0.04394185, -0.16115704,\n",
       "          0.13606464, -0.15965661, -0.10666757,  0.10885185,  0.1223881 ,\n",
       "         -0.1085868 ,  0.12252923, -0.06221019,  0.22193682,  0.15582971,\n",
       "         -0.07833693, -0.00856627, -0.12222073, -0.07018336, -0.12816356,\n",
       "          0.05100343,  0.07972503, -0.02451877]),\n",
       "  array([-0.06108856, -0.13078483, -0.0989804 , -0.0210026 ,  0.03967018,\n",
       "          0.21693816, -0.05880424, -0.01882161,  0.10883376, -0.09116531,\n",
       "          0.05719367,  0.11794706, -0.36661071,  0.08123794,  0.40753274,\n",
       "         -0.03079976, -0.04263806, -0.05521247,  0.03848728,  0.22869162,\n",
       "         -0.07656698,  0.05613671, -0.05744486, -0.03021064,  0.11815472,\n",
       "         -0.13625013, -0.13234519,  0.01482832,  0.14739029,  0.09085812,\n",
       "         -0.03952822, -0.03817857, -0.22793533, -0.28224439,  0.28073333,\n",
       "         -0.03601713, -0.10571212, -0.11868771, -0.06821514, -0.00647301,\n",
       "          0.04141673,  0.03463707,  0.11352636, -0.06228612,  0.01809849,\n",
       "         -0.0949924 , -0.0387585 , -0.14640517,  0.21688435,  0.02877649,\n",
       "         -0.089688  , -0.11400127, -0.12387855, -0.07420876,  0.06579723,\n",
       "         -0.13976243, -0.11593345,  0.0596552 , -0.04462243,  0.03079445,\n",
       "          0.15451944, -0.23480966, -0.26399473,  0.06759763,  0.22429069,\n",
       "          0.0332663 ,  0.05603683, -0.34613947, -0.13045114, -0.10760938,\n",
       "         -0.02422034,  0.09959771, -0.09691275,  0.14377634,  0.20210391,\n",
       "         -0.10690894, -0.00334962,  0.12744577,  0.10042138, -0.12053082,\n",
       "          0.12693282,  0.11053888, -0.04091801, -0.02514282, -0.048281  ,\n",
       "          0.01997014, -0.00119911,  0.13293571, -0.03664287,  0.06706367,\n",
       "         -0.08073176, -0.12772868,  0.1065433 , -0.07148215, -0.09285442,\n",
       "         -0.10924236, -0.04654994,  0.02073368, -0.08569066, -0.09316195,\n",
       "          0.05042353,  0.01987005, -0.09770775,  0.08090166, -0.20502737,\n",
       "         -0.1116431 ,  0.09561126,  0.06055957, -0.00321664, -0.07056716,\n",
       "          0.06061423, -0.13948027,  0.00306615, -0.06511022,  0.04832975,\n",
       "          0.03090466, -0.06197237,  0.01163388, -0.11625476,  0.01319458,\n",
       "         -0.13153482,  0.07267218,  0.0102103 , -0.07378391,  0.01479329,\n",
       "          0.24346721,  0.08327077,  0.004154  , -0.09249198, -0.11018017,\n",
       "         -0.02355435,  0.08696957,  0.07534951, -0.02211916, -0.07293938,\n",
       "          0.06250076, -0.30942553, -0.08878667, -0.03743777, -0.12674809,\n",
       "          0.20510975,  0.15557757, -0.01955012,  0.02726782, -0.0706455 ,\n",
       "         -0.09990076,  0.01060082, -0.05925602, -0.07148701,  0.14397962,\n",
       "         -0.19409263,  0.02037471, -0.00676675, -0.10555731,  0.09494841,\n",
       "         -0.16349211, -0.07973397, -0.07825945,  0.07447393, -0.12811899,\n",
       "         -0.06372455, -0.14658806,  0.06997257,  0.34630107,  0.02754687,\n",
       "         -0.12311097,  0.00339744]),\n",
       "  array([-2.16556783e-01,  7.06975152e-02,  1.06513257e-01, -4.64441012e-02,\n",
       "         -5.37448307e-02, -4.83245000e-02,  1.88565566e-01, -3.48585962e-01,\n",
       "          2.35097351e-02, -1.11761699e-01, -1.00095552e-04,  3.57891328e-02,\n",
       "         -8.92749958e-03, -1.37214917e-01, -1.12402720e-01, -6.89221238e-02,\n",
       "         -1.05901192e-01, -2.40401155e-01,  4.37068662e-02, -2.99502067e-01,\n",
       "         -1.05755363e-01,  5.69311898e-02,  7.56045913e-02,  2.21993973e-01,\n",
       "         -9.84855992e-02, -1.55525374e-02, -5.96622916e-02,  1.75067491e-01,\n",
       "         -9.01376124e-02,  2.26490423e-01,  1.26714136e-01,  6.40353434e-02,\n",
       "          5.52672295e-02, -6.13009613e-02, -5.90666654e-02, -1.44640820e-02,\n",
       "          1.07413099e-01, -1.53751073e-04, -7.45297279e-02, -1.46550895e-01,\n",
       "          1.38687612e-01,  1.43603570e-01,  1.21490942e-02, -1.27329923e-01,\n",
       "          4.98335597e-02, -1.42164744e-01, -1.50329068e-02, -1.48656585e-01,\n",
       "          5.16048187e-02, -3.69172735e-02, -2.93930818e-02, -2.37777935e-01,\n",
       "          6.51829380e-02, -3.55183548e-02,  2.24784750e-01,  8.37973440e-02,\n",
       "         -5.75012429e-02, -7.60496150e-02, -1.37658842e-01,  3.40486762e-02,\n",
       "          2.68082374e-01, -1.19584174e-02,  2.58185148e-02,  5.33324629e-02,\n",
       "          2.37202104e-01, -1.45478954e-01,  6.05343270e-03, -3.79392539e-02,\n",
       "         -4.43841742e-03, -1.57446735e-01, -1.18857044e-01, -1.01243830e-01,\n",
       "         -1.12575006e-01, -8.63908827e-02, -6.41442283e-02, -1.31689978e-01,\n",
       "         -1.44660043e-01, -3.04410766e-02, -1.32846847e-02, -7.89460461e-02,\n",
       "         -3.10833095e-02, -5.14084928e-02, -1.13981482e-01,  1.11919609e+00,\n",
       "          9.96217941e-02,  8.18004819e-02, -8.64384627e-02, -9.13040545e-02,\n",
       "         -1.30635096e-01, -1.22576142e-01, -1.36351607e-01,  9.35687496e-02,\n",
       "         -1.25302184e-01, -1.04789548e-01, -9.05808397e-02, -1.28193489e-01,\n",
       "         -2.88747413e-02, -2.56577200e-02, -1.10386931e-01]),\n",
       "  array([-8.36296793e-02, -9.15624061e-02, -8.47329633e-02, -5.15861997e-02,\n",
       "         -1.78035404e-02, -5.53944935e-02, -7.68528974e-02,  5.37756370e-02,\n",
       "         -2.00949657e-02, -5.21298194e-03, -8.18629730e-02, -4.07168495e-02,\n",
       "         -1.33826354e-01,  1.09682709e-01, -1.23538353e-02, -4.02797870e-03,\n",
       "         -4.01914993e-02, -7.74642410e-02, -9.16058263e-02,  2.44026268e-01,\n",
       "         -4.89389776e-03,  3.73059482e-02, -4.20183521e-02, -5.10109555e-03,\n",
       "         -3.06012370e-02, -3.72065577e-02,  2.05982301e-03,  1.32886257e-01,\n",
       "         -6.59987905e-02,  9.15543571e-02,  1.72176287e-01,  6.24909535e-02,\n",
       "          9.76185231e-02,  5.68829082e-02, -5.07328752e-02, -1.20190751e-02,\n",
       "          1.41600744e-02, -6.91457246e-03, -1.42723260e-01,  3.86213195e-03,\n",
       "         -1.18422845e-01,  2.69409498e-02,  2.18512841e-02,  1.31114109e-01,\n",
       "         -1.45929772e-01, -9.01280507e-02, -1.22570301e-01, -1.52971395e-01,\n",
       "         -3.81880021e-02,  3.62496858e-02,  6.59214232e-02, -1.38446736e-01,\n",
       "          1.22822210e-02,  1.18827000e-01, -1.23311358e-01, -1.23202093e-01,\n",
       "          7.31980681e-02,  6.83725020e-02, -2.09504975e-01,  1.19828910e-02,\n",
       "         -1.11014460e-01, -1.11795060e-01,  2.54063809e-02, -1.39311426e-01,\n",
       "         -1.28757343e-01,  4.02321455e-03, -9.64466545e-02,  1.93147147e-02,\n",
       "         -9.38507914e-02,  8.54189691e-04, -1.02697060e-01,  8.29202715e-02,\n",
       "         -1.17346769e-01,  2.79276742e-02, -2.98616193e-02, -1.20280402e-01,\n",
       "         -9.71925232e-02, -9.48610051e-02, -1.04360598e-03,  4.72357432e-02,\n",
       "          9.29010114e-02,  6.68591382e-01, -3.48653856e-02, -1.03085693e-01,\n",
       "         -1.31135108e-01,  6.35711911e-02, -1.16932838e-01, -1.29237882e-01,\n",
       "          8.45175090e-02,  4.81456775e-02,  3.60321658e-02, -1.03789435e-01,\n",
       "          2.01143755e-02,  2.17157324e-02, -6.61213407e-02, -2.11203180e-02,\n",
       "          3.74741302e-02, -1.35073896e-01,  8.80176240e-02, -4.30073036e-02,\n",
       "         -8.90262152e-02, -6.51268440e-02, -8.38589184e-02, -1.29122978e-01,\n",
       "          1.79087882e-02,  5.46428061e-02, -9.10677770e-02, -1.46854613e-01,\n",
       "          5.49252608e-03, -3.26585680e-02,  4.91397942e-02,  2.97493621e-02,\n",
       "         -1.04683169e-01, -3.31746784e-02, -5.56013267e-02, -1.04692516e-01,\n",
       "         -7.66998345e-02,  1.56312739e-02, -2.29216421e-02, -2.02444646e-01,\n",
       "         -1.00020448e-01, -1.00327090e-01, -8.78339712e-02,  6.32068679e-02,\n",
       "         -1.36521871e-01,  5.46441889e-02, -9.50926363e-03,  3.70858083e-02,\n",
       "         -1.41558442e-01, -4.82068430e-02, -2.30242317e-03, -8.39151877e-02,\n",
       "          1.52677799e+00,  4.78471516e-01,  6.05710442e-02,  1.36798135e-01,\n",
       "          1.01118946e-01, -1.12912060e-02,  8.50106478e-02,  2.10762128e-02,\n",
       "          2.31243748e-02,  1.20064655e-01, -1.24525384e-01, -1.49191160e-01,\n",
       "          3.70329475e-03,  7.78094192e-02,  2.59904949e-02, -5.34415718e-02,\n",
       "          2.19987324e-01, -8.10225507e-02,  1.71923316e-02, -5.37484164e-02,\n",
       "          6.59819659e-02,  1.10041447e-01, -5.38667035e-02,  1.01415512e-02,\n",
       "         -6.02175572e-02, -4.77434682e-02, -2.52018414e-02, -1.65000756e-01,\n",
       "          8.77524742e-03]),\n",
       "  array([0.72653447])],\n",
       " 'classes_:': array([0, 1]),\n",
       " ' loss_:': 0.013336336186921604,\n",
       " 'n_iter_ :': 30}"
      ]
     },
     "execution_count": 24,
     "metadata": {},
     "output_type": "execute_result"
    }
   ],
   "source": [
    "def get_the_other_components(k):\n",
    "    dictionnaire={}\n",
    "    clf = MLPClassifier(solver='lbfgs', hidden_layer_sizes=(list(dict.values())[k]), random_state=1) \n",
    "    clf.fit(xx,yy)\n",
    "    clf.predict(xx)\n",
    "    dictionnaire['n_layers_:']=clf.n_layers_\n",
    "    dictionnaire[' n_outputs_,:']=clf. n_outputs_ \n",
    "    dictionnaire['out_activation_:']=clf.out_activation_                    \n",
    "    dictionnaire['coefs_:']=clf.coefs_\n",
    "    dictionnaire['intercepts_:']=clf.intercepts_ \n",
    "    dictionnaire['classes_:']=clf.classes_ \n",
    "    dictionnaire[' loss_:']=clf.loss_ \n",
    "    dictionnaire['n_iter_ :']=clf.n_iter_\n",
    "    \n",
    "    return dictionnaire                                           \n",
    "#Example                        \n",
    "get_the_other_components(13)\n",
    "                       "
   ]
  },
  {
   "cell_type": "markdown",
   "id": "9551ae89",
   "metadata": {},
   "source": [
    "#### Sauvegarder cette architecture en un fichier"
   ]
  },
  {
   "cell_type": "code",
   "execution_count": 25,
   "id": "b477fbc3",
   "metadata": {},
   "outputs": [
    {
     "data": {
      "text/plain": [
       "41026"
      ]
     },
     "execution_count": 25,
     "metadata": {},
     "output_type": "execute_result"
    }
   ],
   "source": [
    "#Sauvgarde\n",
    "filehandler = open(\"ficher des composantes d'architecture MLP\", 'wt')\n",
    "data = str(get_the_other_components(13))\n",
    "filehandler.write(data)"
   ]
  },
  {
   "cell_type": "markdown",
   "id": "a783e659",
   "metadata": {},
   "source": [
    "### Travail sur le jeu de données Iris"
   ]
  },
  {
   "cell_type": "markdown",
   "id": "58fcb10f",
   "metadata": {},
   "source": [
    "### Question 1:"
   ]
  },
  {
   "cell_type": "markdown",
   "id": "f3b9d153",
   "metadata": {},
   "source": [
    "Chargement du jeu de données. Toutes les expériences à venir devront être faites en train/test\n",
    "split"
   ]
  },
  {
   "cell_type": "code",
   "execution_count": 31,
   "id": "ff8df9cc",
   "metadata": {},
   "outputs": [],
   "source": [
    "#chargement de base de données iris\n",
    "iris = datasets.load_iris()"
   ]
  },
  {
   "cell_type": "code",
   "execution_count": 32,
   "id": "99ab5710",
   "metadata": {},
   "outputs": [],
   "source": [
    "X=iris.data\n",
    "y=iris.target"
   ]
  },
  {
   "cell_type": "code",
   "execution_count": 33,
   "id": "7af11c45",
   "metadata": {},
   "outputs": [],
   "source": [
    "X_train, X_test, y_train, y_test = train_test_split(X, y, test_size=0.3)"
   ]
  },
  {
   "cell_type": "markdown",
   "id": "dac1dc49",
   "metadata": {},
   "source": [
    "### Question 2:"
   ]
  },
  {
   "cell_type": "markdown",
   "id": "84f8e67d",
   "metadata": {},
   "source": [
    "- Apprendre cinq modèles de classification des données Iris,\n",
    "\n",
    "  avec des réseaux qui ont respecti-vement\n",
    "  \n",
    "  de 1 à 5 couches cachées, et des tailles de couches \n",
    "  \n",
    "  entre 10 et 300 au choix."
   ]
  },
  {
   "cell_type": "code",
   "execution_count": 34,
   "id": "ad3ea849",
   "metadata": {},
   "outputs": [],
   "source": [
    "import random\n",
    "new_one=[x for x in range(10,251)]\n",
    "hidden_layer_sizes=[]\n",
    "dict2={}\n",
    "for i in range (1,6):\n",
    "    hidden_layer_sizes=[]\n",
    "    for k in range(1,i+1):\n",
    "        hidden_layer_sizes.append(random.choice(new_one))\n",
    "    dict2[\"architecture_ :\"+str(i)+\"couche_caché et \"\n",
    "          +str(hidden_layer_sizes)+'neurones']=hidden_layer_sizes\n"
   ]
  },
  {
   "cell_type": "markdown",
   "id": "52038f17",
   "metadata": {},
   "source": [
    "Nous avons entrainné chacune de ces architectures par le classifier MLP et le solver lbfgs"
   ]
  },
  {
   "cell_type": "code",
   "execution_count": 36,
   "id": "813f4a1e",
   "metadata": {},
   "outputs": [
    {
     "name": "stdout",
     "output_type": "stream",
     "text": [
      "[237]\n",
      "temps ecoule = 0.06856727600097656\n",
      "[34, 188]\n",
      "temps ecoule = 0.26741743087768555\n",
      "[93, 142, 231]\n",
      "temps ecoule = 0.6524429321289062\n",
      "[140, 29, 250, 25]\n",
      "temps ecoule = 0.37139391899108887\n",
      "[130, 26, 199, 138, 228]\n",
      "temps ecoule = 1.8955600261688232\n"
     ]
    },
    {
     "data": {
      "text/plain": [
       "[0.9555555555555556,\n",
       " 0.9777777777777777,\n",
       " 0.9555555555555556,\n",
       " 0.9555555555555556,\n",
       " 0.9555555555555556]"
      ]
     },
     "execution_count": 36,
     "metadata": {},
     "output_type": "execute_result"
    }
   ],
   "source": [
    "import time\n",
    "test_score2=[]\n",
    "for i in dict2.keys():  \n",
    "    start_time = time.time()\n",
    "    clf = MLPClassifier(solver='lbfgs', \n",
    "        hidden_layer_sizes=(dict2[i]),random_state=1) \n",
    "    print(dict2[i])\n",
    "    clf.fit(X_train,y_train)\n",
    "    clf.predict(X_test)\n",
    "    test_score2.append(clf.score(X_test, y_test))\n",
    "    end_time = time.time()\n",
    "    print('temps ecoule = '+str(end_time - start_time))\n",
    "test_score2  "
   ]
  },
  {
   "cell_type": "markdown",
   "id": "b759ba76",
   "metadata": {},
   "source": [
    "Nous avons obtenue des bonnes resultats avec une marge de temps ecoulé importante a minimiser"
   ]
  },
  {
   "cell_type": "markdown",
   "id": "b9b0e691",
   "metadata": {},
   "source": [
    "### Question 3:"
   ]
  },
  {
   "cell_type": "code",
   "execution_count": 37,
   "id": "88bff2dd",
   "metadata": {},
   "outputs": [
    {
     "name": "stdout",
     "output_type": "stream",
     "text": [
      "0.9777777777777777\n",
      "temps ecoule = 0.0013568401336669922\n"
     ]
    }
   ],
   "source": [
    "from sklearn import svm\n",
    "start_time = time.time()\n",
    "clsvm = svm.SVC(kernel='poly') \n",
    "clsvm.fit(X_train,y_train)\n",
    "clsvm.predict(X_test)\n",
    "score=clsvm.score(X_test, y_test)\n",
    "print(score)\n",
    "end_time = time.time()\n",
    "print('temps ecoule = '+str(end_time - start_time))"
   ]
  },
  {
   "cell_type": "markdown",
   "id": "9a774902",
   "metadata": {},
   "source": [
    "SVM nous a ramené des bon resultas avec moin de temps expiré que la methode de MLP ."
   ]
  },
  {
   "cell_type": "markdown",
   "id": "23bfbafa",
   "metadata": {},
   "source": [
    "* Une astuce classique lorsque l'on programme des réseaux de neurones, \n",
    "\n",
    "  est de précéder l’apprentissage du modéle par la normalisation des\n",
    "\n",
    "  valeurs d'entrées. Le principe est de ramener toutes les \n",
    "\n",
    "  entrées dans un méme intervalle fermé, tout en respectant \n",
    "\n",
    "  les distributions de probabilités de ces entrées. \n",
    "  \n",
    "\n",
    "* Ceprocessus de normalisation permet de considérer toutes \n",
    "\n",
    "  ces valeurs à égale importance. Attention,la normalisation \n",
    "  \n",
    "  doit se faire autant sur les données d'apprentissage que sur \n",
    "  \n",
    "  les donn´ees de test."
   ]
  },
  {
   "cell_type": "markdown",
   "id": "db239e62",
   "metadata": {},
   "source": [
    "### Question 1 :"
   ]
  },
  {
   "cell_type": "code",
   "execution_count": 38,
   "id": "1186373d",
   "metadata": {},
   "outputs": [],
   "source": [
    "#Le processus de normalisation\n",
    "from sklearn.preprocessing import StandardScaler\n",
    "scaler = StandardScaler()\n",
    "scaler.fit(X_train)\n",
    "X_train = scaler.transform(X_train)\n",
    "X_test = scaler.transform(X_test)"
   ]
  },
  {
   "cell_type": "markdown",
   "id": "3ff84fa3",
   "metadata": {},
   "source": [
    "### Résultat Aprés normalisation :"
   ]
  },
  {
   "cell_type": "markdown",
   "id": "d8eb9893",
   "metadata": {},
   "source": [
    "###### a- Methode MLP "
   ]
  },
  {
   "cell_type": "code",
   "execution_count": 39,
   "id": "868b15d1",
   "metadata": {},
   "outputs": [],
   "source": [
    "import random\n",
    "new_one=[x for x in range(10,251)]\n",
    "hidden_layer_sizes=[]\n",
    "dict2={}\n",
    "for i in range (1,6):\n",
    "    hidden_layer_sizes=[]\n",
    "    for k in range(1,i+1):\n",
    "        hidden_layer_sizes.append(random.choice(new_one))\n",
    "    dict2[\"architecture_ :\"+str(i)+\"couche_caché et \"+str(hidden_layer_sizes)+'neurones']=hidden_layer_sizes\n"
   ]
  },
  {
   "cell_type": "code",
   "execution_count": 40,
   "id": "45af59c2",
   "metadata": {},
   "outputs": [
    {
     "name": "stdout",
     "output_type": "stream",
     "text": [
      "[148]\n",
      "temps ecoule = 0.058690547943115234\n",
      "44\n",
      "[155, 210]\n",
      "temps ecoule = 0.5867509841918945\n",
      "62\n",
      "[246, 13, 114]\n",
      "temps ecoule = 0.34331178665161133\n",
      "106\n",
      "[93, 149, 112, 138]\n",
      "temps ecoule = 0.4953324794769287\n",
      "37\n",
      "[66, 150, 14, 152, 113]\n",
      "temps ecoule = 0.44420337677001953\n",
      "56\n"
     ]
    },
    {
     "data": {
      "text/plain": [
       "[0.9777777777777777,\n",
       " 0.9777777777777777,\n",
       " 0.9777777777777777,\n",
       " 0.9555555555555556,\n",
       " 0.9555555555555556]"
      ]
     },
     "execution_count": 40,
     "metadata": {},
     "output_type": "execute_result"
    }
   ],
   "source": [
    "test_score2=[]\n",
    "for i in dict2.keys():  \n",
    "    start_time = time.time()\n",
    "    clf = MLPClassifier(solver='lbfgs', hidden_layer_sizes=(dict2[i]), random_state=1) \n",
    "    print(dict2[i])\n",
    "    clf.fit(X_train,y_train)\n",
    "    clf.predict(X_test)\n",
    "    test_score2.append(clf.score(X_test, y_test))\n",
    "    end_time = time.time()\n",
    "    print('temps ecoule = '+str(end_time - start_time))\n",
    "    print(clf.n_iter_)\n",
    "test_score2  "
   ]
  },
  {
   "cell_type": "markdown",
   "id": "c74582bb",
   "metadata": {},
   "source": [
    "- nous a avons eu des resultats beaucoup mieux , \n",
    "\n",
    "  tout en evittant les overfittng dans un court laps de temps."
   ]
  },
  {
   "cell_type": "markdown",
   "id": "46d0db5c",
   "metadata": {},
   "source": [
    "###### b- Methode SVM"
   ]
  },
  {
   "cell_type": "code",
   "execution_count": 41,
   "id": "982d2298",
   "metadata": {},
   "outputs": [
    {
     "name": "stdout",
     "output_type": "stream",
     "text": [
      "0.9333333333333333\n",
      "temps ecoule = 0.0036575794219970703\n"
     ]
    }
   ],
   "source": [
    "from sklearn import svm\n",
    "clsvm = svm.SVC(kernel='poly')\n",
    "start_time = time.time()\n",
    "clsvm = svm.SVC(kernel='poly') \n",
    "clsvm.fit(X_train,y_train)\n",
    "clsvm.predict(X_test)\n",
    "score=clsvm.score(X_test, y_test)\n",
    "print(score)\n",
    "end_time = time.time()\n",
    "print('temps ecoule = '+str(end_time - start_time))\n"
   ]
  },
  {
   "cell_type": "markdown",
   "id": "aca9229c",
   "metadata": {},
   "source": [
    "Le resultats obtenue aprés la normalisation et plus faible qu'avant la normalisation pour le SVM "
   ]
  },
  {
   "cell_type": "markdown",
   "id": "3f037522",
   "metadata": {},
   "source": [
    "### Pour terminer, nous allons maintenant étudier \n",
    "\n",
    "### la convergence des algorithmes d'optimisation \n",
    "\n",
    "### disponibles : L-BFGS, SGD et Adam."
   ]
  },
  {
   "cell_type": "markdown",
   "id": "06729d6c",
   "metadata": {},
   "source": [
    "#### a- solveur sgd"
   ]
  },
  {
   "cell_type": "code",
   "execution_count": 42,
   "id": "cb5ba4e7",
   "metadata": {},
   "outputs": [
    {
     "name": "stdout",
     "output_type": "stream",
     "text": [
      "[148]\n",
      "temps ecoule = 0.09891343116760254\n",
      "200\n",
      "[155, 210]\n"
     ]
    },
    {
     "name": "stderr",
     "output_type": "stream",
     "text": [
      "/home/etudiant/anaconda3/lib/python3.9/site-packages/sklearn/neural_network/_multilayer_perceptron.py:692: ConvergenceWarning: Stochastic Optimizer: Maximum iterations (200) reached and the optimization hasn't converged yet.\n",
      "  warnings.warn(\n",
      "/home/etudiant/anaconda3/lib/python3.9/site-packages/sklearn/neural_network/_multilayer_perceptron.py:692: ConvergenceWarning: Stochastic Optimizer: Maximum iterations (200) reached and the optimization hasn't converged yet.\n",
      "  warnings.warn(\n"
     ]
    },
    {
     "name": "stdout",
     "output_type": "stream",
     "text": [
      "temps ecoule = 0.28746891021728516\n",
      "200\n",
      "[246, 13, 114]\n"
     ]
    },
    {
     "name": "stderr",
     "output_type": "stream",
     "text": [
      "/home/etudiant/anaconda3/lib/python3.9/site-packages/sklearn/neural_network/_multilayer_perceptron.py:692: ConvergenceWarning: Stochastic Optimizer: Maximum iterations (200) reached and the optimization hasn't converged yet.\n",
      "  warnings.warn(\n"
     ]
    },
    {
     "name": "stdout",
     "output_type": "stream",
     "text": [
      "temps ecoule = 0.2290019989013672\n",
      "200\n",
      "[93, 149, 112, 138]\n"
     ]
    },
    {
     "name": "stderr",
     "output_type": "stream",
     "text": [
      "/home/etudiant/anaconda3/lib/python3.9/site-packages/sklearn/neural_network/_multilayer_perceptron.py:692: ConvergenceWarning: Stochastic Optimizer: Maximum iterations (200) reached and the optimization hasn't converged yet.\n",
      "  warnings.warn(\n"
     ]
    },
    {
     "name": "stdout",
     "output_type": "stream",
     "text": [
      "temps ecoule = 0.36443114280700684\n",
      "200\n",
      "[66, 150, 14, 152, 113]\n",
      "temps ecoule = 0.36737775802612305\n",
      "200\n",
      " les valeurs des scores obtenue : [0.8222222222222222, 0.8888888888888888, 0.7111111111111111, 0.8888888888888888, 0.8444444444444444]\n"
     ]
    },
    {
     "name": "stderr",
     "output_type": "stream",
     "text": [
      "/home/etudiant/anaconda3/lib/python3.9/site-packages/sklearn/neural_network/_multilayer_perceptron.py:692: ConvergenceWarning: Stochastic Optimizer: Maximum iterations (200) reached and the optimization hasn't converged yet.\n",
      "  warnings.warn(\n"
     ]
    },
    {
     "data": {
      "text/plain": [
       "{'architecture_0': [148],\n",
       " 'architecture_1': [155, 210],\n",
       " 'architecture_2': [246, 13, 114],\n",
       " 'architecture_3': [93, 149, 112, 138],\n",
       " 'architecture_4': [66, 150, 14, 152, 113]}"
      ]
     },
     "execution_count": 42,
     "metadata": {},
     "output_type": "execute_result"
    }
   ],
   "source": [
    "test_score3=[]\n",
    "nmbr_iteration=[]\n",
    "temps=[]\n",
    "dictresultat={}\n",
    "j=0\n",
    "for i in dict2.keys():  \n",
    "    start_time = time.time()\n",
    "    clf_sgd = MLPClassifier(solver='sgd',\n",
    "            hidden_layer_sizes=(dict2[i]), random_state=1) \n",
    "    print(dict2[i])\n",
    "    clf_sgd.fit(X_train,y_train)\n",
    "    clf_sgd.predict(X_test)\n",
    "    test_score3.append(clf_sgd.score(X_test, y_test))\n",
    "    end_time = time.time()\n",
    "    print('temps ecoule = '+str(end_time - start_time))\n",
    "    print(clf_sgd.n_iter_)\n",
    "    temps.append(end_time - start_time)\n",
    "    nmbr_iteration.append(clf_sgd.n_iter_)\n",
    "    dictresultat['architecture_'+str(j)]=dict2[i]\n",
    "    j=j+1\n",
    "print(\" les valeurs des scores obtenue :\" ,test_score3)\n",
    "dictresultat"
   ]
  },
  {
   "cell_type": "markdown",
   "id": "a7161613",
   "metadata": {},
   "source": [
    "Nous avons affiché les résultats sous forme du tableau suivant:"
   ]
  },
  {
   "cell_type": "code",
   "execution_count": 47,
   "id": "4a79b2ed",
   "metadata": {},
   "outputs": [
    {
     "data": {
      "text/html": [
       "<div>\n",
       "<style scoped>\n",
       "    .dataframe tbody tr th:only-of-type {\n",
       "        vertical-align: middle;\n",
       "    }\n",
       "\n",
       "    .dataframe tbody tr th {\n",
       "        vertical-align: top;\n",
       "    }\n",
       "\n",
       "    .dataframe thead th {\n",
       "        text-align: right;\n",
       "    }\n",
       "</style>\n",
       "<table border=\"1\" class=\"dataframe\">\n",
       "  <thead>\n",
       "    <tr style=\"text-align: right;\">\n",
       "      <th></th>\n",
       "      <th>MDL1_SGD</th>\n",
       "      <th>MDL2_SGD</th>\n",
       "      <th>MDL3_SGD</th>\n",
       "      <th>MDL4_SGD</th>\n",
       "      <th>MDL5_SGD</th>\n",
       "    </tr>\n",
       "  </thead>\n",
       "  <tbody>\n",
       "    <tr>\n",
       "      <th>performances</th>\n",
       "      <td>0.822222</td>\n",
       "      <td>0.888889</td>\n",
       "      <td>0.711111</td>\n",
       "      <td>0.888889</td>\n",
       "      <td>0.844444</td>\n",
       "    </tr>\n",
       "    <tr>\n",
       "      <th>nombre d'itérations</th>\n",
       "      <td>200.000000</td>\n",
       "      <td>200.000000</td>\n",
       "      <td>200.000000</td>\n",
       "      <td>200.000000</td>\n",
       "      <td>200.000000</td>\n",
       "    </tr>\n",
       "    <tr>\n",
       "      <th>temps de convergence</th>\n",
       "      <td>0.098913</td>\n",
       "      <td>0.287469</td>\n",
       "      <td>0.229002</td>\n",
       "      <td>0.364431</td>\n",
       "      <td>0.367378</td>\n",
       "    </tr>\n",
       "  </tbody>\n",
       "</table>\n",
       "</div>"
      ],
      "text/plain": [
       "                        MDL1_SGD    MDL2_SGD    MDL3_SGD    MDL4_SGD  \\\n",
       "performances            0.822222    0.888889    0.711111    0.888889   \n",
       "nombre d'itérations   200.000000  200.000000  200.000000  200.000000   \n",
       "temps de convergence    0.098913    0.287469    0.229002    0.364431   \n",
       "\n",
       "                        MDL5_SGD  \n",
       "performances            0.844444  \n",
       "nombre d'itérations   200.000000  \n",
       "temps de convergence    0.367378  "
      ]
     },
     "execution_count": 47,
     "metadata": {},
     "output_type": "execute_result"
    }
   ],
   "source": [
    "import pandas as pd\n",
    "ar = np.array([test_score3, nmbr_iteration, temps])\n",
    "df = pd.DataFrame(ar, index = ['performances', \"nombre d'itérations\", \n",
    "       'temps de convergence'], columns = ['MDL1_SGD', 'MDL2_SGD', \n",
    "       'MDL3_SGD', 'MDL4_SGD','MDL5_SGD'])\n",
    "df"
   ]
  },
  {
   "cell_type": "markdown",
   "id": "cafa0829",
   "metadata": {},
   "source": [
    "#### b-solveur adam"
   ]
  },
  {
   "cell_type": "code",
   "execution_count": 48,
   "id": "d2272309",
   "metadata": {},
   "outputs": [
    {
     "name": "stdout",
     "output_type": "stream",
     "text": [
      "[148]\n",
      "temps ecoule = 0.10215902328491211\n",
      "200\n",
      "[155, 210]\n"
     ]
    },
    {
     "name": "stderr",
     "output_type": "stream",
     "text": [
      "/home/etudiant/anaconda3/lib/python3.9/site-packages/sklearn/neural_network/_multilayer_perceptron.py:692: ConvergenceWarning: Stochastic Optimizer: Maximum iterations (200) reached and the optimization hasn't converged yet.\n",
      "  warnings.warn(\n",
      "/home/etudiant/anaconda3/lib/python3.9/site-packages/sklearn/neural_network/_multilayer_perceptron.py:692: ConvergenceWarning: Stochastic Optimizer: Maximum iterations (200) reached and the optimization hasn't converged yet.\n",
      "  warnings.warn(\n"
     ]
    },
    {
     "name": "stdout",
     "output_type": "stream",
     "text": [
      "temps ecoule = 0.29534077644348145\n",
      "200\n",
      "[246, 13, 114]\n"
     ]
    },
    {
     "name": "stderr",
     "output_type": "stream",
     "text": [
      "/home/etudiant/anaconda3/lib/python3.9/site-packages/sklearn/neural_network/_multilayer_perceptron.py:692: ConvergenceWarning: Stochastic Optimizer: Maximum iterations (200) reached and the optimization hasn't converged yet.\n",
      "  warnings.warn(\n"
     ]
    },
    {
     "name": "stdout",
     "output_type": "stream",
     "text": [
      "temps ecoule = 0.2654283046722412\n",
      "200\n",
      "[93, 149, 112, 138]\n",
      "temps ecoule = 0.23934698104858398\n",
      "121\n",
      "[66, 150, 14, 152, 113]\n",
      "temps ecoule = 0.27694225311279297\n",
      "124\n"
     ]
    },
    {
     "data": {
      "text/plain": [
       "[0.9555555555555556,\n",
       " 0.9555555555555556,\n",
       " 0.9555555555555556,\n",
       " 0.9555555555555556,\n",
       " 0.9555555555555556]"
      ]
     },
     "execution_count": 48,
     "metadata": {},
     "output_type": "execute_result"
    }
   ],
   "source": [
    "test_score4=[]\n",
    "nmbr_iteration1=[]\n",
    "temps1=[]\n",
    "for i in dictresultat.keys():  \n",
    "    start_time = time.time()\n",
    "    clf_adam = MLPClassifier(solver='adam',\n",
    "        hidden_layer_sizes=(dictresultat[i]), random_state=1) \n",
    "    print(dictresultat[i])\n",
    "    clf_adam.fit(X_train,y_train)\n",
    "    clf_adam.predict(X_test)\n",
    "    test_score4.append(clf_adam.score(X_test, y_test))\n",
    "    end_time = time.time()\n",
    "    print('temps ecoule = '+str(end_time - start_time))\n",
    "    temps1.append(end_time - start_time)\n",
    "    nmbr_iteration1.append(clf_adam.n_iter_)\n",
    "    print(clf_adam.n_iter_)\n",
    "test_score4  "
   ]
  },
  {
   "cell_type": "markdown",
   "id": "5ce8edb0",
   "metadata": {},
   "source": [
    "Nous avons affiché les résultats sous forme du tableau suivant:"
   ]
  },
  {
   "cell_type": "code",
   "execution_count": 50,
   "id": "19b961ec",
   "metadata": {},
   "outputs": [
    {
     "data": {
      "text/html": [
       "<div>\n",
       "<style scoped>\n",
       "    .dataframe tbody tr th:only-of-type {\n",
       "        vertical-align: middle;\n",
       "    }\n",
       "\n",
       "    .dataframe tbody tr th {\n",
       "        vertical-align: top;\n",
       "    }\n",
       "\n",
       "    .dataframe thead th {\n",
       "        text-align: right;\n",
       "    }\n",
       "</style>\n",
       "<table border=\"1\" class=\"dataframe\">\n",
       "  <thead>\n",
       "    <tr style=\"text-align: right;\">\n",
       "      <th></th>\n",
       "      <th>MDL1_adam</th>\n",
       "      <th>MDL2_adam</th>\n",
       "      <th>MDL3_adam</th>\n",
       "      <th>MDL4_adam</th>\n",
       "      <th>MDL5_adam</th>\n",
       "    </tr>\n",
       "  </thead>\n",
       "  <tbody>\n",
       "    <tr>\n",
       "      <th>performances</th>\n",
       "      <td>0.955556</td>\n",
       "      <td>0.955556</td>\n",
       "      <td>0.955556</td>\n",
       "      <td>0.955556</td>\n",
       "      <td>0.955556</td>\n",
       "    </tr>\n",
       "    <tr>\n",
       "      <th>nombre d'itérations</th>\n",
       "      <td>200.000000</td>\n",
       "      <td>200.000000</td>\n",
       "      <td>200.000000</td>\n",
       "      <td>121.000000</td>\n",
       "      <td>124.000000</td>\n",
       "    </tr>\n",
       "    <tr>\n",
       "      <th>temps de convergence</th>\n",
       "      <td>0.102159</td>\n",
       "      <td>0.295341</td>\n",
       "      <td>0.265428</td>\n",
       "      <td>0.239347</td>\n",
       "      <td>0.276942</td>\n",
       "    </tr>\n",
       "  </tbody>\n",
       "</table>\n",
       "</div>"
      ],
      "text/plain": [
       "                       MDL1_adam   MDL2_adam   MDL3_adam   MDL4_adam  \\\n",
       "performances            0.955556    0.955556    0.955556    0.955556   \n",
       "nombre d'itérations   200.000000  200.000000  200.000000  121.000000   \n",
       "temps de convergence    0.102159    0.295341    0.265428    0.239347   \n",
       "\n",
       "                       MDL5_adam  \n",
       "performances            0.955556  \n",
       "nombre d'itérations   124.000000  \n",
       "temps de convergence    0.276942  "
      ]
     },
     "execution_count": 50,
     "metadata": {},
     "output_type": "execute_result"
    }
   ],
   "source": [
    "ar1 = np.array([test_score4, nmbr_iteration1, temps1])\n",
    "df1 = pd.DataFrame(ar1, index = ['performances', \"nombre d'itérations\", \n",
    "'temps de convergence'], columns = ['MDL1_adam', 'MDL2_adam',\n",
    "            'MDL3_adam', 'MDL4_adam','MDL5_adam'])\n",
    "df1"
   ]
  },
  {
   "cell_type": "markdown",
   "id": "7dc26560",
   "metadata": {},
   "source": [
    "#### c-solveur MLP "
   ]
  },
  {
   "cell_type": "code",
   "execution_count": 51,
   "id": "9230386c",
   "metadata": {},
   "outputs": [
    {
     "name": "stdout",
     "output_type": "stream",
     "text": [
      "[148]\n",
      "temps ecoule = 0.059162139892578125\n",
      "44\n",
      "[155, 210]\n",
      "temps ecoule = 0.37215542793273926\n",
      "62\n",
      "[246, 13, 114]\n",
      "temps ecoule = 0.2191147804260254\n",
      "106\n",
      "[93, 149, 112, 138]\n",
      "temps ecoule = 0.27084946632385254\n",
      "37\n",
      "[66, 150, 14, 152, 113]\n",
      "temps ecoule = 0.40930652618408203\n",
      "56\n"
     ]
    },
    {
     "data": {
      "text/plain": [
       "[0.9777777777777777,\n",
       " 0.9777777777777777,\n",
       " 0.9777777777777777,\n",
       " 0.9555555555555556,\n",
       " 0.9555555555555556]"
      ]
     },
     "execution_count": 51,
     "metadata": {},
     "output_type": "execute_result"
    }
   ],
   "source": [
    "test_score2=[]\n",
    "nmbr_iteration2=[]\n",
    "temps2=[]\n",
    "for i in dictresultat.keys():  \n",
    "    start_time = time.time()\n",
    "    clf = MLPClassifier(solver='lbfgs',\n",
    "        hidden_layer_sizes=(dictresultat[i]), random_state=1) \n",
    "    print(dictresultat[i])\n",
    "    clf.fit(X_train,y_train)\n",
    "    clf.predict(X_test)\n",
    "    test_score2.append(clf.score(X_test, y_test))\n",
    "    end_time = time.time()\n",
    "    print('temps ecoule = '+str(end_time - start_time))\n",
    "    temps2.append(end_time - start_time)\n",
    "    nmbr_iteration2.append(clf_sgd.n_iter_)\n",
    "    print(clf.n_iter_)\n",
    "test_score2 "
   ]
  },
  {
   "cell_type": "markdown",
   "id": "cef7037f",
   "metadata": {},
   "source": [
    "Nous avons affiché les résultats sous forme du tableau suivant:"
   ]
  },
  {
   "cell_type": "code",
   "execution_count": 52,
   "id": "b99e0dad",
   "metadata": {},
   "outputs": [
    {
     "data": {
      "text/html": [
       "<div>\n",
       "<style scoped>\n",
       "    .dataframe tbody tr th:only-of-type {\n",
       "        vertical-align: middle;\n",
       "    }\n",
       "\n",
       "    .dataframe tbody tr th {\n",
       "        vertical-align: top;\n",
       "    }\n",
       "\n",
       "    .dataframe thead th {\n",
       "        text-align: right;\n",
       "    }\n",
       "</style>\n",
       "<table border=\"1\" class=\"dataframe\">\n",
       "  <thead>\n",
       "    <tr style=\"text-align: right;\">\n",
       "      <th></th>\n",
       "      <th>MDL1_MLP</th>\n",
       "      <th>MDL2_MLP</th>\n",
       "      <th>MDL3_MLP</th>\n",
       "      <th>MDL4_MLP</th>\n",
       "      <th>MDL5_MLP</th>\n",
       "    </tr>\n",
       "  </thead>\n",
       "  <tbody>\n",
       "    <tr>\n",
       "      <th>performances</th>\n",
       "      <td>0.977778</td>\n",
       "      <td>0.977778</td>\n",
       "      <td>0.977778</td>\n",
       "      <td>0.955556</td>\n",
       "      <td>0.955556</td>\n",
       "    </tr>\n",
       "    <tr>\n",
       "      <th>nombre d'itérations</th>\n",
       "      <td>200.000000</td>\n",
       "      <td>200.000000</td>\n",
       "      <td>200.000000</td>\n",
       "      <td>200.000000</td>\n",
       "      <td>200.000000</td>\n",
       "    </tr>\n",
       "    <tr>\n",
       "      <th>temps de convergence</th>\n",
       "      <td>0.059162</td>\n",
       "      <td>0.372155</td>\n",
       "      <td>0.219115</td>\n",
       "      <td>0.270849</td>\n",
       "      <td>0.409307</td>\n",
       "    </tr>\n",
       "  </tbody>\n",
       "</table>\n",
       "</div>"
      ],
      "text/plain": [
       "                        MDL1_MLP    MDL2_MLP    MDL3_MLP    MDL4_MLP  \\\n",
       "performances            0.977778    0.977778    0.977778    0.955556   \n",
       "nombre d'itérations   200.000000  200.000000  200.000000  200.000000   \n",
       "temps de convergence    0.059162    0.372155    0.219115    0.270849   \n",
       "\n",
       "                        MDL5_MLP  \n",
       "performances            0.955556  \n",
       "nombre d'itérations   200.000000  \n",
       "temps de convergence    0.409307  "
      ]
     },
     "execution_count": 52,
     "metadata": {},
     "output_type": "execute_result"
    }
   ],
   "source": [
    "ar3 = np.array([test_score2, nmbr_iteration2, temps2])\n",
    "df3 = pd.DataFrame(ar3, index = ['performances', \"nombre d'itérations\",\n",
    "    'temps de convergence'], columns = ['MDL1_MLP', 'MDL2_MLP',\n",
    "                'MDL3_MLP', 'MDL4_MLP','MDL5_MLP'])\n",
    "df3"
   ]
  },
  {
   "cell_type": "markdown",
   "id": "d3ae5bf7",
   "metadata": {},
   "source": [
    "#### Le Résultat final est le suivant :"
   ]
  },
  {
   "cell_type": "code",
   "execution_count": 53,
   "id": "1c703a67",
   "metadata": {},
   "outputs": [
    {
     "data": {
      "text/html": [
       "<div>\n",
       "<style scoped>\n",
       "    .dataframe tbody tr th:only-of-type {\n",
       "        vertical-align: middle;\n",
       "    }\n",
       "\n",
       "    .dataframe tbody tr th {\n",
       "        vertical-align: top;\n",
       "    }\n",
       "\n",
       "    .dataframe thead th {\n",
       "        text-align: right;\n",
       "    }\n",
       "</style>\n",
       "<table border=\"1\" class=\"dataframe\">\n",
       "  <thead>\n",
       "    <tr style=\"text-align: right;\">\n",
       "      <th></th>\n",
       "      <th>MDL1_adam</th>\n",
       "      <th>MDL2_adam</th>\n",
       "      <th>MDL3_adam</th>\n",
       "      <th>MDL4_adam</th>\n",
       "      <th>MDL5_adam</th>\n",
       "      <th>MDL1_SGD</th>\n",
       "      <th>MDL2_SGD</th>\n",
       "      <th>MDL3_SGD</th>\n",
       "      <th>MDL4_SGD</th>\n",
       "      <th>MDL5_SGD</th>\n",
       "      <th>MDL1_MLP</th>\n",
       "      <th>MDL2_MLP</th>\n",
       "      <th>MDL3_MLP</th>\n",
       "      <th>MDL4_MLP</th>\n",
       "      <th>MDL5_MLP</th>\n",
       "    </tr>\n",
       "  </thead>\n",
       "  <tbody>\n",
       "    <tr>\n",
       "      <th>performances</th>\n",
       "      <td>0.955556</td>\n",
       "      <td>0.955556</td>\n",
       "      <td>0.955556</td>\n",
       "      <td>0.955556</td>\n",
       "      <td>0.955556</td>\n",
       "      <td>0.822222</td>\n",
       "      <td>0.888889</td>\n",
       "      <td>0.711111</td>\n",
       "      <td>0.888889</td>\n",
       "      <td>0.844444</td>\n",
       "      <td>0.977778</td>\n",
       "      <td>0.977778</td>\n",
       "      <td>0.977778</td>\n",
       "      <td>0.955556</td>\n",
       "      <td>0.955556</td>\n",
       "    </tr>\n",
       "    <tr>\n",
       "      <th>nombre d'itérations</th>\n",
       "      <td>200.000000</td>\n",
       "      <td>200.000000</td>\n",
       "      <td>200.000000</td>\n",
       "      <td>121.000000</td>\n",
       "      <td>124.000000</td>\n",
       "      <td>200.000000</td>\n",
       "      <td>200.000000</td>\n",
       "      <td>200.000000</td>\n",
       "      <td>200.000000</td>\n",
       "      <td>200.000000</td>\n",
       "      <td>200.000000</td>\n",
       "      <td>200.000000</td>\n",
       "      <td>200.000000</td>\n",
       "      <td>200.000000</td>\n",
       "      <td>200.000000</td>\n",
       "    </tr>\n",
       "    <tr>\n",
       "      <th>temps de convergence</th>\n",
       "      <td>0.102159</td>\n",
       "      <td>0.295341</td>\n",
       "      <td>0.265428</td>\n",
       "      <td>0.239347</td>\n",
       "      <td>0.276942</td>\n",
       "      <td>0.098913</td>\n",
       "      <td>0.287469</td>\n",
       "      <td>0.229002</td>\n",
       "      <td>0.364431</td>\n",
       "      <td>0.367378</td>\n",
       "      <td>0.059162</td>\n",
       "      <td>0.372155</td>\n",
       "      <td>0.219115</td>\n",
       "      <td>0.270849</td>\n",
       "      <td>0.409307</td>\n",
       "    </tr>\n",
       "  </tbody>\n",
       "</table>\n",
       "</div>"
      ],
      "text/plain": [
       "                       MDL1_adam   MDL2_adam   MDL3_adam   MDL4_adam  \\\n",
       "performances            0.955556    0.955556    0.955556    0.955556   \n",
       "nombre d'itérations   200.000000  200.000000  200.000000  121.000000   \n",
       "temps de convergence    0.102159    0.295341    0.265428    0.239347   \n",
       "\n",
       "                       MDL5_adam    MDL1_SGD    MDL2_SGD    MDL3_SGD  \\\n",
       "performances            0.955556    0.822222    0.888889    0.711111   \n",
       "nombre d'itérations   124.000000  200.000000  200.000000  200.000000   \n",
       "temps de convergence    0.276942    0.098913    0.287469    0.229002   \n",
       "\n",
       "                        MDL4_SGD    MDL5_SGD    MDL1_MLP    MDL2_MLP  \\\n",
       "performances            0.888889    0.844444    0.977778    0.977778   \n",
       "nombre d'itérations   200.000000  200.000000  200.000000  200.000000   \n",
       "temps de convergence    0.364431    0.367378    0.059162    0.372155   \n",
       "\n",
       "                        MDL3_MLP    MDL4_MLP    MDL5_MLP  \n",
       "performances            0.977778    0.955556    0.955556  \n",
       "nombre d'itérations   200.000000  200.000000  200.000000  \n",
       "temps de convergence    0.219115    0.270849    0.409307  "
      ]
     },
     "execution_count": 53,
     "metadata": {},
     "output_type": "execute_result"
    }
   ],
   "source": [
    "frames = (df1, df, df3)\n",
    "result = pd.concat(frames,axis=1)\n",
    "result"
   ]
  },
  {
   "cell_type": "markdown",
   "id": "69974beb",
   "metadata": {},
   "source": [
    "pour le meilleur modéle obtenue pour le solver :\n",
    "\n",
    "    - adam : MDL1_adam\n",
    "    - sgd :  MDL2_SGD\n",
    "    - lbfgs : MDL1_MLP\n",
    "        \n",
    "parmis ces Resultas on va choisir \n",
    "\n",
    "l'architecture : MDL1_MLP ( bon score et moins de temps )     "
   ]
  },
  {
   "cell_type": "markdown",
   "id": "be03f989",
   "metadata": {},
   "source": [
    "### Amélioration des modéles :\n"
   ]
  },
  {
   "cell_type": "markdown",
   "id": "659e6f41",
   "metadata": {},
   "source": [
    "#### a- sgd solver "
   ]
  },
  {
   "cell_type": "code",
   "execution_count": 54,
   "id": "95962ee4",
   "metadata": {},
   "outputs": [
    {
     "name": "stdout",
     "output_type": "stream",
     "text": [
      "[148]\n",
      "temps ecoule = 0.008189678192138672\n",
      "12\n",
      " les valeurs des scores obtenue : [0.26666666666666666]\n",
      "[148]\n",
      "temps ecoule = 0.007681846618652344\n",
      "12\n",
      " les valeurs des scores obtenue : [0.26666666666666666, 0.4]\n",
      "[148]\n",
      "temps ecoule = 0.007369518280029297\n",
      "12\n",
      " les valeurs des scores obtenue : [0.26666666666666666, 0.4, 0.4]\n",
      "[148]\n",
      "temps ecoule = 0.007165670394897461\n",
      "12\n",
      " les valeurs des scores obtenue : [0.26666666666666666, 0.4, 0.4, 0.37777777777777777]\n",
      "[148]\n",
      "temps ecoule = 0.007749080657958984\n",
      "13\n",
      " les valeurs des scores obtenue : [0.26666666666666666, 0.4, 0.4, 0.37777777777777777, 0.37777777777777777]\n",
      "[148]\n",
      "temps ecoule = 0.007674694061279297\n",
      "13\n",
      " les valeurs des scores obtenue : [0.26666666666666666, 0.4, 0.4, 0.37777777777777777, 0.37777777777777777, 0.4]\n",
      "[148]\n",
      "temps ecoule = 0.00763249397277832\n",
      "13\n",
      " les valeurs des scores obtenue : [0.26666666666666666, 0.4, 0.4, 0.37777777777777777, 0.37777777777777777, 0.4, 0.4222222222222222]\n",
      "[148]\n",
      "temps ecoule = 0.007152080535888672\n",
      "13\n",
      " les valeurs des scores obtenue : [0.26666666666666666, 0.4, 0.4, 0.37777777777777777, 0.37777777777777777, 0.4, 0.4222222222222222, 0.8666666666666667]\n",
      "[148]\n",
      "temps ecoule = 0.006426095962524414\n",
      "13\n",
      " les valeurs des scores obtenue : [0.26666666666666666, 0.4, 0.4, 0.37777777777777777, 0.37777777777777777, 0.4, 0.4222222222222222, 0.8666666666666667, 0.8444444444444444]\n",
      "[148]\n",
      "temps ecoule = 0.030934810638427734\n",
      "72\n",
      " les valeurs des scores obtenue : [0.26666666666666666, 0.4, 0.4, 0.37777777777777777, 0.37777777777777777, 0.4, 0.4222222222222222, 0.8666666666666667, 0.8444444444444444, 0.9555555555555556]\n",
      "[155, 210]\n",
      "temps ecoule = 0.020336627960205078\n",
      "12\n",
      " les valeurs des scores obtenue : [0.26666666666666666, 0.4, 0.4, 0.37777777777777777, 0.37777777777777777, 0.4, 0.4222222222222222, 0.8666666666666667, 0.8444444444444444, 0.9555555555555556, 0.26666666666666666]\n",
      "[155, 210]\n"
     ]
    },
    {
     "name": "stderr",
     "output_type": "stream",
     "text": [
      "/home/etudiant/anaconda3/lib/python3.9/site-packages/sklearn/utils/extmath.py:153: RuntimeWarning: overflow encountered in matmul\n",
      "  ret = a @ b\n",
      "/home/etudiant/anaconda3/lib/python3.9/site-packages/sklearn/neural_network/_base.py:66: RuntimeWarning: invalid value encountered in subtract\n",
      "  tmp = X - X.max(axis=1)[:, np.newaxis]\n",
      "/home/etudiant/anaconda3/lib/python3.9/site-packages/sklearn/neural_network/_multilayer_perceptron.py:692: ConvergenceWarning: Stochastic Optimizer: Maximum iterations (200) reached and the optimization hasn't converged yet.\n",
      "  warnings.warn(\n",
      "/home/etudiant/anaconda3/lib/python3.9/site-packages/sklearn/utils/extmath.py:153: RuntimeWarning: overflow encountered in matmul\n",
      "  ret = a @ b\n",
      "/home/etudiant/anaconda3/lib/python3.9/site-packages/sklearn/neural_network/_base.py:66: RuntimeWarning: invalid value encountered in subtract\n",
      "  tmp = X - X.max(axis=1)[:, np.newaxis]\n"
     ]
    },
    {
     "name": "stdout",
     "output_type": "stream",
     "text": [
      "temps ecoule = 0.28665614128112793\n",
      "200\n",
      " les valeurs des scores obtenue : [0.26666666666666666, 0.4, 0.4, 0.37777777777777777, 0.37777777777777777, 0.4, 0.4222222222222222, 0.8666666666666667, 0.8444444444444444, 0.9555555555555556, 0.26666666666666666, 0.35555555555555557]\n",
      "[155, 210]\n",
      "temps ecoule = 0.015575885772705078\n",
      "12\n",
      " les valeurs des scores obtenue : [0.26666666666666666, 0.4, 0.4, 0.37777777777777777, 0.37777777777777777, 0.4, 0.4222222222222222, 0.8666666666666667, 0.8444444444444444, 0.9555555555555556, 0.26666666666666666, 0.35555555555555557, 0.37777777777777777]\n",
      "[155, 210]\n",
      "temps ecoule = 0.015064239501953125\n",
      "12\n",
      " les valeurs des scores obtenue : [0.26666666666666666, 0.4, 0.4, 0.37777777777777777, 0.37777777777777777, 0.4, 0.4222222222222222, 0.8666666666666667, 0.8444444444444444, 0.9555555555555556, 0.26666666666666666, 0.35555555555555557, 0.37777777777777777, 0.13333333333333333]\n",
      "[155, 210]\n"
     ]
    },
    {
     "name": "stderr",
     "output_type": "stream",
     "text": [
      "/home/etudiant/anaconda3/lib/python3.9/site-packages/sklearn/neural_network/_multilayer_perceptron.py:692: ConvergenceWarning: Stochastic Optimizer: Maximum iterations (200) reached and the optimization hasn't converged yet.\n",
      "  warnings.warn(\n",
      "/home/etudiant/anaconda3/lib/python3.9/site-packages/sklearn/utils/extmath.py:153: RuntimeWarning: overflow encountered in matmul\n",
      "  ret = a @ b\n",
      "/home/etudiant/anaconda3/lib/python3.9/site-packages/sklearn/neural_network/_base.py:66: RuntimeWarning: invalid value encountered in subtract\n",
      "  tmp = X - X.max(axis=1)[:, np.newaxis]\n",
      "/home/etudiant/anaconda3/lib/python3.9/site-packages/sklearn/utils/extmath.py:153: RuntimeWarning: overflow encountered in matmul\n",
      "  ret = a @ b\n",
      "/home/etudiant/anaconda3/lib/python3.9/site-packages/sklearn/neural_network/_base.py:66: RuntimeWarning: invalid value encountered in subtract\n",
      "  tmp = X - X.max(axis=1)[:, np.newaxis]\n",
      "/home/etudiant/anaconda3/lib/python3.9/site-packages/sklearn/neural_network/_base.py:66: RuntimeWarning: invalid value encountered in subtract\n",
      "  tmp = X - X.max(axis=1)[:, np.newaxis]\n",
      "/home/etudiant/anaconda3/lib/python3.9/site-packages/sklearn/neural_network/_base.py:66: RuntimeWarning: invalid value encountered in subtract\n",
      "  tmp = X - X.max(axis=1)[:, np.newaxis]\n",
      "/home/etudiant/anaconda3/lib/python3.9/site-packages/sklearn/utils/extmath.py:153: RuntimeWarning: overflow encountered in matmul\n",
      "  ret = a @ b\n",
      "/home/etudiant/anaconda3/lib/python3.9/site-packages/sklearn/neural_network/_base.py:66: RuntimeWarning: invalid value encountered in subtract\n",
      "  tmp = X - X.max(axis=1)[:, np.newaxis]\n"
     ]
    },
    {
     "name": "stdout",
     "output_type": "stream",
     "text": [
      "temps ecoule = 0.221876859664917\n",
      "200\n",
      " les valeurs des scores obtenue : [0.26666666666666666, 0.4, 0.4, 0.37777777777777777, 0.37777777777777777, 0.4, 0.4222222222222222, 0.8666666666666667, 0.8444444444444444, 0.9555555555555556, 0.26666666666666666, 0.35555555555555557, 0.37777777777777777, 0.13333333333333333, 0.35555555555555557]\n",
      "[155, 210]\n",
      "temps ecoule = 0.015694141387939453\n",
      "12\n",
      " les valeurs des scores obtenue : [0.26666666666666666, 0.4, 0.4, 0.37777777777777777, 0.37777777777777777, 0.4, 0.4222222222222222, 0.8666666666666667, 0.8444444444444444, 0.9555555555555556, 0.26666666666666666, 0.35555555555555557, 0.37777777777777777, 0.13333333333333333, 0.35555555555555557, 0.6222222222222222]\n",
      "[155, 210]\n",
      "temps ecoule = 0.01585555076599121\n",
      "12\n",
      " les valeurs des scores obtenue : [0.26666666666666666, 0.4, 0.4, 0.37777777777777777, 0.37777777777777777, 0.4, 0.4222222222222222, 0.8666666666666667, 0.8444444444444444, 0.9555555555555556, 0.26666666666666666, 0.35555555555555557, 0.37777777777777777, 0.13333333333333333, 0.35555555555555557, 0.6222222222222222, 0.35555555555555557]\n",
      "[155, 210]\n",
      "temps ecoule = 0.015534400939941406\n",
      "12\n",
      " les valeurs des scores obtenue : [0.26666666666666666, 0.4, 0.4, 0.37777777777777777, 0.37777777777777777, 0.4, 0.4222222222222222, 0.8666666666666667, 0.8444444444444444, 0.9555555555555556, 0.26666666666666666, 0.35555555555555557, 0.37777777777777777, 0.13333333333333333, 0.35555555555555557, 0.6222222222222222, 0.35555555555555557, 0.7333333333333333]\n",
      "[155, 210]\n"
     ]
    },
    {
     "name": "stderr",
     "output_type": "stream",
     "text": [
      "/home/etudiant/anaconda3/lib/python3.9/site-packages/sklearn/neural_network/_multilayer_perceptron.py:692: ConvergenceWarning: Stochastic Optimizer: Maximum iterations (200) reached and the optimization hasn't converged yet.\n",
      "  warnings.warn(\n",
      "/home/etudiant/anaconda3/lib/python3.9/site-packages/sklearn/utils/extmath.py:153: RuntimeWarning: overflow encountered in matmul\n",
      "  ret = a @ b\n",
      "/home/etudiant/anaconda3/lib/python3.9/site-packages/sklearn/utils/extmath.py:153: RuntimeWarning: invalid value encountered in matmul\n",
      "  ret = a @ b\n",
      "/home/etudiant/anaconda3/lib/python3.9/site-packages/sklearn/neural_network/_base.py:66: RuntimeWarning: invalid value encountered in subtract\n",
      "  tmp = X - X.max(axis=1)[:, np.newaxis]\n"
     ]
    },
    {
     "name": "stdout",
     "output_type": "stream",
     "text": [
      "temps ecoule = 0.23721814155578613\n",
      "200\n",
      " les valeurs des scores obtenue : [0.26666666666666666, 0.4, 0.4, 0.37777777777777777, 0.37777777777777777, 0.4, 0.4222222222222222, 0.8666666666666667, 0.8444444444444444, 0.9555555555555556, 0.26666666666666666, 0.35555555555555557, 0.37777777777777777, 0.13333333333333333, 0.35555555555555557, 0.6222222222222222, 0.35555555555555557, 0.7333333333333333, 0.35555555555555557]\n",
      "[155, 210]\n",
      "temps ecoule = 0.018374919891357422\n",
      "13\n",
      " les valeurs des scores obtenue : [0.26666666666666666, 0.4, 0.4, 0.37777777777777777, 0.37777777777777777, 0.4, 0.4222222222222222, 0.8666666666666667, 0.8444444444444444, 0.9555555555555556, 0.26666666666666666, 0.35555555555555557, 0.37777777777777777, 0.13333333333333333, 0.35555555555555557, 0.6222222222222222, 0.35555555555555557, 0.7333333333333333, 0.35555555555555557, 0.26666666666666666]\n",
      "[246, 13, 114]\n",
      "temps ecoule = 0.013586997985839844\n",
      "12\n",
      " les valeurs des scores obtenue : [0.26666666666666666, 0.4, 0.4, 0.37777777777777777, 0.37777777777777777, 0.4, 0.4222222222222222, 0.8666666666666667, 0.8444444444444444, 0.9555555555555556, 0.26666666666666666, 0.35555555555555557, 0.37777777777777777, 0.13333333333333333, 0.35555555555555557, 0.6222222222222222, 0.35555555555555557, 0.7333333333333333, 0.35555555555555557, 0.26666666666666666, 0.26666666666666666]\n",
      "[246, 13, 114]\n",
      "temps ecoule = 0.013988256454467773\n",
      "12\n",
      " les valeurs des scores obtenue : [0.26666666666666666, 0.4, 0.4, 0.37777777777777777, 0.37777777777777777, 0.4, 0.4222222222222222, 0.8666666666666667, 0.8444444444444444, 0.9555555555555556, 0.26666666666666666, 0.35555555555555557, 0.37777777777777777, 0.13333333333333333, 0.35555555555555557, 0.6222222222222222, 0.35555555555555557, 0.7333333333333333, 0.35555555555555557, 0.26666666666666666, 0.26666666666666666, 0.26666666666666666]\n",
      "[246, 13, 114]\n",
      "temps ecoule = 0.013875961303710938\n",
      "12\n",
      " les valeurs des scores obtenue : [0.26666666666666666, 0.4, 0.4, 0.37777777777777777, 0.37777777777777777, 0.4, 0.4222222222222222, 0.8666666666666667, 0.8444444444444444, 0.9555555555555556, 0.26666666666666666, 0.35555555555555557, 0.37777777777777777, 0.13333333333333333, 0.35555555555555557, 0.6222222222222222, 0.35555555555555557, 0.7333333333333333, 0.35555555555555557, 0.26666666666666666, 0.26666666666666666, 0.26666666666666666, 0.26666666666666666]\n",
      "[246, 13, 114]\n",
      "temps ecoule = 0.013804912567138672\n",
      "12\n",
      " les valeurs des scores obtenue : [0.26666666666666666, 0.4, 0.4, 0.37777777777777777, 0.37777777777777777, 0.4, 0.4222222222222222, 0.8666666666666667, 0.8444444444444444, 0.9555555555555556, 0.26666666666666666, 0.35555555555555557, 0.37777777777777777, 0.13333333333333333, 0.35555555555555557, 0.6222222222222222, 0.35555555555555557, 0.7333333333333333, 0.35555555555555557, 0.26666666666666666, 0.26666666666666666, 0.26666666666666666, 0.26666666666666666, 0.35555555555555557]\n",
      "[246, 13, 114]\n",
      "temps ecoule = 0.0144500732421875\n",
      "12\n",
      " les valeurs des scores obtenue : [0.26666666666666666, 0.4, 0.4, 0.37777777777777777, 0.37777777777777777, 0.4, 0.4222222222222222, 0.8666666666666667, 0.8444444444444444, 0.9555555555555556, 0.26666666666666666, 0.35555555555555557, 0.37777777777777777, 0.13333333333333333, 0.35555555555555557, 0.6222222222222222, 0.35555555555555557, 0.7333333333333333, 0.35555555555555557, 0.26666666666666666, 0.26666666666666666, 0.26666666666666666, 0.26666666666666666, 0.35555555555555557, 0.26666666666666666]\n",
      "[246, 13, 114]\n",
      "temps ecoule = 0.013910531997680664\n",
      "12\n",
      " les valeurs des scores obtenue : [0.26666666666666666, 0.4, 0.4, 0.37777777777777777, 0.37777777777777777, 0.4, 0.4222222222222222, 0.8666666666666667, 0.8444444444444444, 0.9555555555555556, 0.26666666666666666, 0.35555555555555557, 0.37777777777777777, 0.13333333333333333, 0.35555555555555557, 0.6222222222222222, 0.35555555555555557, 0.7333333333333333, 0.35555555555555557, 0.26666666666666666, 0.26666666666666666, 0.26666666666666666, 0.26666666666666666, 0.35555555555555557, 0.26666666666666666, 0.26666666666666666]\n",
      "[246, 13, 114]\n",
      "temps ecoule = 0.013917922973632812\n",
      "12\n",
      " les valeurs des scores obtenue : [0.26666666666666666, 0.4, 0.4, 0.37777777777777777, 0.37777777777777777, 0.4, 0.4222222222222222, 0.8666666666666667, 0.8444444444444444, 0.9555555555555556, 0.26666666666666666, 0.35555555555555557, 0.37777777777777777, 0.13333333333333333, 0.35555555555555557, 0.6222222222222222, 0.35555555555555557, 0.7333333333333333, 0.35555555555555557, 0.26666666666666666, 0.26666666666666666, 0.26666666666666666, 0.26666666666666666, 0.35555555555555557, 0.26666666666666666, 0.26666666666666666, 0.37777777777777777]\n",
      "[246, 13, 114]\n",
      "temps ecoule = 0.013736963272094727\n",
      "12\n",
      " les valeurs des scores obtenue : [0.26666666666666666, 0.4, 0.4, 0.37777777777777777, 0.37777777777777777, 0.4, 0.4222222222222222, 0.8666666666666667, 0.8444444444444444, 0.9555555555555556, 0.26666666666666666, 0.35555555555555557, 0.37777777777777777, 0.13333333333333333, 0.35555555555555557, 0.6222222222222222, 0.35555555555555557, 0.7333333333333333, 0.35555555555555557, 0.26666666666666666, 0.26666666666666666, 0.26666666666666666, 0.26666666666666666, 0.35555555555555557, 0.26666666666666666, 0.26666666666666666, 0.37777777777777777, 0.26666666666666666]\n",
      "[246, 13, 114]\n",
      "temps ecoule = 0.01392364501953125\n",
      "12\n",
      " les valeurs des scores obtenue : [0.26666666666666666, 0.4, 0.4, 0.37777777777777777, 0.37777777777777777, 0.4, 0.4222222222222222, 0.8666666666666667, 0.8444444444444444, 0.9555555555555556, 0.26666666666666666, 0.35555555555555557, 0.37777777777777777, 0.13333333333333333, 0.35555555555555557, 0.6222222222222222, 0.35555555555555557, 0.7333333333333333, 0.35555555555555557, 0.26666666666666666, 0.26666666666666666, 0.26666666666666666, 0.26666666666666666, 0.35555555555555557, 0.26666666666666666, 0.26666666666666666, 0.37777777777777777, 0.26666666666666666, 0.37777777777777777]\n",
      "[246, 13, 114]\n",
      "temps ecoule = 0.016823291778564453\n",
      "15\n",
      " les valeurs des scores obtenue : [0.26666666666666666, 0.4, 0.4, 0.37777777777777777, 0.37777777777777777, 0.4, 0.4222222222222222, 0.8666666666666667, 0.8444444444444444, 0.9555555555555556, 0.26666666666666666, 0.35555555555555557, 0.37777777777777777, 0.13333333333333333, 0.35555555555555557, 0.6222222222222222, 0.35555555555555557, 0.7333333333333333, 0.35555555555555557, 0.26666666666666666, 0.26666666666666666, 0.26666666666666666, 0.26666666666666666, 0.35555555555555557, 0.26666666666666666, 0.26666666666666666, 0.37777777777777777, 0.26666666666666666, 0.37777777777777777, 0.37777777777777777]\n",
      "[93, 149, 112, 138]\n"
     ]
    },
    {
     "name": "stderr",
     "output_type": "stream",
     "text": [
      "/home/etudiant/anaconda3/lib/python3.9/site-packages/sklearn/neural_network/_multilayer_perceptron.py:692: ConvergenceWarning: Stochastic Optimizer: Maximum iterations (200) reached and the optimization hasn't converged yet.\n",
      "  warnings.warn(\n",
      "/home/etudiant/anaconda3/lib/python3.9/site-packages/sklearn/utils/extmath.py:153: RuntimeWarning: overflow encountered in matmul\n",
      "  ret = a @ b\n",
      "/home/etudiant/anaconda3/lib/python3.9/site-packages/sklearn/utils/extmath.py:153: RuntimeWarning: invalid value encountered in matmul\n",
      "  ret = a @ b\n",
      "/home/etudiant/anaconda3/lib/python3.9/site-packages/sklearn/neural_network/_base.py:66: RuntimeWarning: invalid value encountered in subtract\n",
      "  tmp = X - X.max(axis=1)[:, np.newaxis]\n"
     ]
    },
    {
     "name": "stdout",
     "output_type": "stream",
     "text": [
      "temps ecoule = 0.308215856552124\n",
      "200\n",
      " les valeurs des scores obtenue : [0.26666666666666666, 0.4, 0.4, 0.37777777777777777, 0.37777777777777777, 0.4, 0.4222222222222222, 0.8666666666666667, 0.8444444444444444, 0.9555555555555556, 0.26666666666666666, 0.35555555555555557, 0.37777777777777777, 0.13333333333333333, 0.35555555555555557, 0.6222222222222222, 0.35555555555555557, 0.7333333333333333, 0.35555555555555557, 0.26666666666666666, 0.26666666666666666, 0.26666666666666666, 0.26666666666666666, 0.35555555555555557, 0.26666666666666666, 0.26666666666666666, 0.37777777777777777, 0.26666666666666666, 0.37777777777777777, 0.37777777777777777, 0.35555555555555557]\n",
      "[93, 149, 112, 138]\n"
     ]
    },
    {
     "name": "stderr",
     "output_type": "stream",
     "text": [
      "/home/etudiant/anaconda3/lib/python3.9/site-packages/sklearn/neural_network/_multilayer_perceptron.py:692: ConvergenceWarning: Stochastic Optimizer: Maximum iterations (200) reached and the optimization hasn't converged yet.\n",
      "  warnings.warn(\n",
      "/home/etudiant/anaconda3/lib/python3.9/site-packages/sklearn/utils/extmath.py:153: RuntimeWarning: overflow encountered in matmul\n",
      "  ret = a @ b\n",
      "/home/etudiant/anaconda3/lib/python3.9/site-packages/sklearn/neural_network/_base.py:66: RuntimeWarning: invalid value encountered in subtract\n",
      "  tmp = X - X.max(axis=1)[:, np.newaxis]\n"
     ]
    },
    {
     "name": "stdout",
     "output_type": "stream",
     "text": [
      "temps ecoule = 0.3364372253417969\n",
      "200\n",
      " les valeurs des scores obtenue : [0.26666666666666666, 0.4, 0.4, 0.37777777777777777, 0.37777777777777777, 0.4, 0.4222222222222222, 0.8666666666666667, 0.8444444444444444, 0.9555555555555556, 0.26666666666666666, 0.35555555555555557, 0.37777777777777777, 0.13333333333333333, 0.35555555555555557, 0.6222222222222222, 0.35555555555555557, 0.7333333333333333, 0.35555555555555557, 0.26666666666666666, 0.26666666666666666, 0.26666666666666666, 0.26666666666666666, 0.35555555555555557, 0.26666666666666666, 0.26666666666666666, 0.37777777777777777, 0.26666666666666666, 0.37777777777777777, 0.37777777777777777, 0.35555555555555557, 0.35555555555555557]\n",
      "[93, 149, 112, 138]\n"
     ]
    },
    {
     "name": "stderr",
     "output_type": "stream",
     "text": [
      "/home/etudiant/anaconda3/lib/python3.9/site-packages/sklearn/neural_network/_multilayer_perceptron.py:692: ConvergenceWarning: Stochastic Optimizer: Maximum iterations (200) reached and the optimization hasn't converged yet.\n",
      "  warnings.warn(\n",
      "/home/etudiant/anaconda3/lib/python3.9/site-packages/sklearn/utils/extmath.py:153: RuntimeWarning: overflow encountered in matmul\n",
      "  ret = a @ b\n",
      "/home/etudiant/anaconda3/lib/python3.9/site-packages/sklearn/utils/extmath.py:153: RuntimeWarning: invalid value encountered in matmul\n",
      "  ret = a @ b\n",
      "/home/etudiant/anaconda3/lib/python3.9/site-packages/sklearn/neural_network/_base.py:66: RuntimeWarning: invalid value encountered in subtract\n",
      "  tmp = X - X.max(axis=1)[:, np.newaxis]\n"
     ]
    },
    {
     "name": "stdout",
     "output_type": "stream",
     "text": [
      "temps ecoule = 0.3511676788330078\n",
      "200\n",
      " les valeurs des scores obtenue : [0.26666666666666666, 0.4, 0.4, 0.37777777777777777, 0.37777777777777777, 0.4, 0.4222222222222222, 0.8666666666666667, 0.8444444444444444, 0.9555555555555556, 0.26666666666666666, 0.35555555555555557, 0.37777777777777777, 0.13333333333333333, 0.35555555555555557, 0.6222222222222222, 0.35555555555555557, 0.7333333333333333, 0.35555555555555557, 0.26666666666666666, 0.26666666666666666, 0.26666666666666666, 0.26666666666666666, 0.35555555555555557, 0.26666666666666666, 0.26666666666666666, 0.37777777777777777, 0.26666666666666666, 0.37777777777777777, 0.37777777777777777, 0.35555555555555557, 0.35555555555555557, 0.35555555555555557]\n",
      "[93, 149, 112, 138]\n"
     ]
    },
    {
     "name": "stderr",
     "output_type": "stream",
     "text": [
      "/home/etudiant/anaconda3/lib/python3.9/site-packages/sklearn/neural_network/_multilayer_perceptron.py:692: ConvergenceWarning: Stochastic Optimizer: Maximum iterations (200) reached and the optimization hasn't converged yet.\n",
      "  warnings.warn(\n",
      "/home/etudiant/anaconda3/lib/python3.9/site-packages/sklearn/utils/extmath.py:153: RuntimeWarning: overflow encountered in matmul\n",
      "  ret = a @ b\n",
      "/home/etudiant/anaconda3/lib/python3.9/site-packages/sklearn/utils/extmath.py:153: RuntimeWarning: invalid value encountered in matmul\n",
      "  ret = a @ b\n"
     ]
    },
    {
     "name": "stdout",
     "output_type": "stream",
     "text": [
      "temps ecoule = 0.3120877742767334\n",
      "200\n",
      " les valeurs des scores obtenue : [0.26666666666666666, 0.4, 0.4, 0.37777777777777777, 0.37777777777777777, 0.4, 0.4222222222222222, 0.8666666666666667, 0.8444444444444444, 0.9555555555555556, 0.26666666666666666, 0.35555555555555557, 0.37777777777777777, 0.13333333333333333, 0.35555555555555557, 0.6222222222222222, 0.35555555555555557, 0.7333333333333333, 0.35555555555555557, 0.26666666666666666, 0.26666666666666666, 0.26666666666666666, 0.26666666666666666, 0.35555555555555557, 0.26666666666666666, 0.26666666666666666, 0.37777777777777777, 0.26666666666666666, 0.37777777777777777, 0.37777777777777777, 0.35555555555555557, 0.35555555555555557, 0.35555555555555557, 0.35555555555555557]\n",
      "[93, 149, 112, 138]\n"
     ]
    },
    {
     "name": "stderr",
     "output_type": "stream",
     "text": [
      "/home/etudiant/anaconda3/lib/python3.9/site-packages/sklearn/neural_network/_multilayer_perceptron.py:692: ConvergenceWarning: Stochastic Optimizer: Maximum iterations (200) reached and the optimization hasn't converged yet.\n",
      "  warnings.warn(\n",
      "/home/etudiant/anaconda3/lib/python3.9/site-packages/sklearn/utils/extmath.py:153: RuntimeWarning: overflow encountered in matmul\n",
      "  ret = a @ b\n",
      "/home/etudiant/anaconda3/lib/python3.9/site-packages/sklearn/utils/extmath.py:153: RuntimeWarning: invalid value encountered in matmul\n",
      "  ret = a @ b\n"
     ]
    },
    {
     "name": "stdout",
     "output_type": "stream",
     "text": [
      "temps ecoule = 0.31194162368774414\n",
      "200\n",
      " les valeurs des scores obtenue : [0.26666666666666666, 0.4, 0.4, 0.37777777777777777, 0.37777777777777777, 0.4, 0.4222222222222222, 0.8666666666666667, 0.8444444444444444, 0.9555555555555556, 0.26666666666666666, 0.35555555555555557, 0.37777777777777777, 0.13333333333333333, 0.35555555555555557, 0.6222222222222222, 0.35555555555555557, 0.7333333333333333, 0.35555555555555557, 0.26666666666666666, 0.26666666666666666, 0.26666666666666666, 0.26666666666666666, 0.35555555555555557, 0.26666666666666666, 0.26666666666666666, 0.37777777777777777, 0.26666666666666666, 0.37777777777777777, 0.37777777777777777, 0.35555555555555557, 0.35555555555555557, 0.35555555555555557, 0.35555555555555557, 0.35555555555555557]\n",
      "[93, 149, 112, 138]\n"
     ]
    },
    {
     "name": "stderr",
     "output_type": "stream",
     "text": [
      "/home/etudiant/anaconda3/lib/python3.9/site-packages/sklearn/neural_network/_multilayer_perceptron.py:692: ConvergenceWarning: Stochastic Optimizer: Maximum iterations (200) reached and the optimization hasn't converged yet.\n",
      "  warnings.warn(\n",
      "/home/etudiant/anaconda3/lib/python3.9/site-packages/sklearn/utils/extmath.py:153: RuntimeWarning: overflow encountered in matmul\n",
      "  ret = a @ b\n",
      "/home/etudiant/anaconda3/lib/python3.9/site-packages/sklearn/neural_network/_base.py:66: RuntimeWarning: invalid value encountered in subtract\n",
      "  tmp = X - X.max(axis=1)[:, np.newaxis]\n"
     ]
    },
    {
     "name": "stdout",
     "output_type": "stream",
     "text": [
      "temps ecoule = 0.31122756004333496\n",
      "200\n",
      " les valeurs des scores obtenue : [0.26666666666666666, 0.4, 0.4, 0.37777777777777777, 0.37777777777777777, 0.4, 0.4222222222222222, 0.8666666666666667, 0.8444444444444444, 0.9555555555555556, 0.26666666666666666, 0.35555555555555557, 0.37777777777777777, 0.13333333333333333, 0.35555555555555557, 0.6222222222222222, 0.35555555555555557, 0.7333333333333333, 0.35555555555555557, 0.26666666666666666, 0.26666666666666666, 0.26666666666666666, 0.26666666666666666, 0.35555555555555557, 0.26666666666666666, 0.26666666666666666, 0.37777777777777777, 0.26666666666666666, 0.37777777777777777, 0.37777777777777777, 0.35555555555555557, 0.35555555555555557, 0.35555555555555557, 0.35555555555555557, 0.35555555555555557, 0.35555555555555557]\n",
      "[93, 149, 112, 138]\n"
     ]
    },
    {
     "name": "stderr",
     "output_type": "stream",
     "text": [
      "/home/etudiant/anaconda3/lib/python3.9/site-packages/sklearn/neural_network/_multilayer_perceptron.py:692: ConvergenceWarning: Stochastic Optimizer: Maximum iterations (200) reached and the optimization hasn't converged yet.\n",
      "  warnings.warn(\n",
      "/home/etudiant/anaconda3/lib/python3.9/site-packages/sklearn/utils/extmath.py:153: RuntimeWarning: invalid value encountered in matmul\n",
      "  ret = a @ b\n"
     ]
    },
    {
     "name": "stdout",
     "output_type": "stream",
     "text": [
      "temps ecoule = 0.33125996589660645\n",
      "200\n",
      " les valeurs des scores obtenue : [0.26666666666666666, 0.4, 0.4, 0.37777777777777777, 0.37777777777777777, 0.4, 0.4222222222222222, 0.8666666666666667, 0.8444444444444444, 0.9555555555555556, 0.26666666666666666, 0.35555555555555557, 0.37777777777777777, 0.13333333333333333, 0.35555555555555557, 0.6222222222222222, 0.35555555555555557, 0.7333333333333333, 0.35555555555555557, 0.26666666666666666, 0.26666666666666666, 0.26666666666666666, 0.26666666666666666, 0.35555555555555557, 0.26666666666666666, 0.26666666666666666, 0.37777777777777777, 0.26666666666666666, 0.37777777777777777, 0.37777777777777777, 0.35555555555555557, 0.35555555555555557, 0.35555555555555557, 0.35555555555555557, 0.35555555555555557, 0.35555555555555557, 0.35555555555555557]\n",
      "[93, 149, 112, 138]\n"
     ]
    },
    {
     "name": "stderr",
     "output_type": "stream",
     "text": [
      "/home/etudiant/anaconda3/lib/python3.9/site-packages/sklearn/neural_network/_multilayer_perceptron.py:692: ConvergenceWarning: Stochastic Optimizer: Maximum iterations (200) reached and the optimization hasn't converged yet.\n",
      "  warnings.warn(\n",
      "/home/etudiant/anaconda3/lib/python3.9/site-packages/sklearn/utils/extmath.py:153: RuntimeWarning: overflow encountered in matmul\n",
      "  ret = a @ b\n",
      "/home/etudiant/anaconda3/lib/python3.9/site-packages/sklearn/utils/extmath.py:153: RuntimeWarning: invalid value encountered in matmul\n",
      "  ret = a @ b\n"
     ]
    },
    {
     "name": "stdout",
     "output_type": "stream",
     "text": [
      "temps ecoule = 0.32246899604797363\n",
      "200\n",
      " les valeurs des scores obtenue : [0.26666666666666666, 0.4, 0.4, 0.37777777777777777, 0.37777777777777777, 0.4, 0.4222222222222222, 0.8666666666666667, 0.8444444444444444, 0.9555555555555556, 0.26666666666666666, 0.35555555555555557, 0.37777777777777777, 0.13333333333333333, 0.35555555555555557, 0.6222222222222222, 0.35555555555555557, 0.7333333333333333, 0.35555555555555557, 0.26666666666666666, 0.26666666666666666, 0.26666666666666666, 0.26666666666666666, 0.35555555555555557, 0.26666666666666666, 0.26666666666666666, 0.37777777777777777, 0.26666666666666666, 0.37777777777777777, 0.37777777777777777, 0.35555555555555557, 0.35555555555555557, 0.35555555555555557, 0.35555555555555557, 0.35555555555555557, 0.35555555555555557, 0.35555555555555557, 0.35555555555555557]\n",
      "[93, 149, 112, 138]\n"
     ]
    },
    {
     "name": "stderr",
     "output_type": "stream",
     "text": [
      "/home/etudiant/anaconda3/lib/python3.9/site-packages/sklearn/neural_network/_multilayer_perceptron.py:692: ConvergenceWarning: Stochastic Optimizer: Maximum iterations (200) reached and the optimization hasn't converged yet.\n",
      "  warnings.warn(\n",
      "/home/etudiant/anaconda3/lib/python3.9/site-packages/sklearn/utils/extmath.py:153: RuntimeWarning: overflow encountered in matmul\n",
      "  ret = a @ b\n",
      "/home/etudiant/anaconda3/lib/python3.9/site-packages/sklearn/utils/extmath.py:153: RuntimeWarning: invalid value encountered in matmul\n",
      "  ret = a @ b\n",
      "/home/etudiant/anaconda3/lib/python3.9/site-packages/sklearn/neural_network/_base.py:66: RuntimeWarning: invalid value encountered in subtract\n",
      "  tmp = X - X.max(axis=1)[:, np.newaxis]\n"
     ]
    },
    {
     "name": "stdout",
     "output_type": "stream",
     "text": [
      "temps ecoule = 0.33901357650756836\n",
      "200\n",
      " les valeurs des scores obtenue : [0.26666666666666666, 0.4, 0.4, 0.37777777777777777, 0.37777777777777777, 0.4, 0.4222222222222222, 0.8666666666666667, 0.8444444444444444, 0.9555555555555556, 0.26666666666666666, 0.35555555555555557, 0.37777777777777777, 0.13333333333333333, 0.35555555555555557, 0.6222222222222222, 0.35555555555555557, 0.7333333333333333, 0.35555555555555557, 0.26666666666666666, 0.26666666666666666, 0.26666666666666666, 0.26666666666666666, 0.35555555555555557, 0.26666666666666666, 0.26666666666666666, 0.37777777777777777, 0.26666666666666666, 0.37777777777777777, 0.37777777777777777, 0.35555555555555557, 0.35555555555555557, 0.35555555555555557, 0.35555555555555557, 0.35555555555555557, 0.35555555555555557, 0.35555555555555557, 0.35555555555555557, 0.35555555555555557]\n",
      "[93, 149, 112, 138]\n"
     ]
    },
    {
     "name": "stderr",
     "output_type": "stream",
     "text": [
      "/home/etudiant/anaconda3/lib/python3.9/site-packages/sklearn/neural_network/_multilayer_perceptron.py:692: ConvergenceWarning: Stochastic Optimizer: Maximum iterations (200) reached and the optimization hasn't converged yet.\n",
      "  warnings.warn(\n",
      "/home/etudiant/anaconda3/lib/python3.9/site-packages/sklearn/utils/extmath.py:153: RuntimeWarning: overflow encountered in matmul\n",
      "  ret = a @ b\n",
      "/home/etudiant/anaconda3/lib/python3.9/site-packages/sklearn/utils/extmath.py:153: RuntimeWarning: invalid value encountered in matmul\n",
      "  ret = a @ b\n",
      "/home/etudiant/anaconda3/lib/python3.9/site-packages/sklearn/neural_network/_base.py:66: RuntimeWarning: invalid value encountered in subtract\n",
      "  tmp = X - X.max(axis=1)[:, np.newaxis]\n"
     ]
    },
    {
     "name": "stdout",
     "output_type": "stream",
     "text": [
      "temps ecoule = 0.35129237174987793\n",
      "200\n",
      " les valeurs des scores obtenue : [0.26666666666666666, 0.4, 0.4, 0.37777777777777777, 0.37777777777777777, 0.4, 0.4222222222222222, 0.8666666666666667, 0.8444444444444444, 0.9555555555555556, 0.26666666666666666, 0.35555555555555557, 0.37777777777777777, 0.13333333333333333, 0.35555555555555557, 0.6222222222222222, 0.35555555555555557, 0.7333333333333333, 0.35555555555555557, 0.26666666666666666, 0.26666666666666666, 0.26666666666666666, 0.26666666666666666, 0.35555555555555557, 0.26666666666666666, 0.26666666666666666, 0.37777777777777777, 0.26666666666666666, 0.37777777777777777, 0.37777777777777777, 0.35555555555555557, 0.35555555555555557, 0.35555555555555557, 0.35555555555555557, 0.35555555555555557, 0.35555555555555557, 0.35555555555555557, 0.35555555555555557, 0.35555555555555557, 0.35555555555555557]\n",
      "[66, 150, 14, 152, 113]\n"
     ]
    },
    {
     "name": "stderr",
     "output_type": "stream",
     "text": [
      "/home/etudiant/anaconda3/lib/python3.9/site-packages/sklearn/neural_network/_multilayer_perceptron.py:692: ConvergenceWarning: Stochastic Optimizer: Maximum iterations (200) reached and the optimization hasn't converged yet.\n",
      "  warnings.warn(\n",
      "/home/etudiant/anaconda3/lib/python3.9/site-packages/sklearn/utils/extmath.py:153: RuntimeWarning: overflow encountered in matmul\n",
      "  ret = a @ b\n",
      "/home/etudiant/anaconda3/lib/python3.9/site-packages/sklearn/neural_network/_base.py:66: RuntimeWarning: invalid value encountered in subtract\n",
      "  tmp = X - X.max(axis=1)[:, np.newaxis]\n"
     ]
    },
    {
     "name": "stdout",
     "output_type": "stream",
     "text": [
      "temps ecoule = 0.3124356269836426\n",
      "200\n",
      " les valeurs des scores obtenue : [0.26666666666666666, 0.4, 0.4, 0.37777777777777777, 0.37777777777777777, 0.4, 0.4222222222222222, 0.8666666666666667, 0.8444444444444444, 0.9555555555555556, 0.26666666666666666, 0.35555555555555557, 0.37777777777777777, 0.13333333333333333, 0.35555555555555557, 0.6222222222222222, 0.35555555555555557, 0.7333333333333333, 0.35555555555555557, 0.26666666666666666, 0.26666666666666666, 0.26666666666666666, 0.26666666666666666, 0.35555555555555557, 0.26666666666666666, 0.26666666666666666, 0.37777777777777777, 0.26666666666666666, 0.37777777777777777, 0.37777777777777777, 0.35555555555555557, 0.35555555555555557, 0.35555555555555557, 0.35555555555555557, 0.35555555555555557, 0.35555555555555557, 0.35555555555555557, 0.35555555555555557, 0.35555555555555557, 0.35555555555555557, 0.35555555555555557]\n",
      "[66, 150, 14, 152, 113]\n"
     ]
    },
    {
     "name": "stderr",
     "output_type": "stream",
     "text": [
      "/home/etudiant/anaconda3/lib/python3.9/site-packages/sklearn/neural_network/_multilayer_perceptron.py:692: ConvergenceWarning: Stochastic Optimizer: Maximum iterations (200) reached and the optimization hasn't converged yet.\n",
      "  warnings.warn(\n",
      "/home/etudiant/anaconda3/lib/python3.9/site-packages/sklearn/utils/extmath.py:153: RuntimeWarning: overflow encountered in matmul\n",
      "  ret = a @ b\n",
      "/home/etudiant/anaconda3/lib/python3.9/site-packages/sklearn/utils/extmath.py:153: RuntimeWarning: invalid value encountered in matmul\n",
      "  ret = a @ b\n"
     ]
    },
    {
     "name": "stdout",
     "output_type": "stream",
     "text": [
      "temps ecoule = 0.31532883644104004\n",
      "200\n",
      " les valeurs des scores obtenue : [0.26666666666666666, 0.4, 0.4, 0.37777777777777777, 0.37777777777777777, 0.4, 0.4222222222222222, 0.8666666666666667, 0.8444444444444444, 0.9555555555555556, 0.26666666666666666, 0.35555555555555557, 0.37777777777777777, 0.13333333333333333, 0.35555555555555557, 0.6222222222222222, 0.35555555555555557, 0.7333333333333333, 0.35555555555555557, 0.26666666666666666, 0.26666666666666666, 0.26666666666666666, 0.26666666666666666, 0.35555555555555557, 0.26666666666666666, 0.26666666666666666, 0.37777777777777777, 0.26666666666666666, 0.37777777777777777, 0.37777777777777777, 0.35555555555555557, 0.35555555555555557, 0.35555555555555557, 0.35555555555555557, 0.35555555555555557, 0.35555555555555557, 0.35555555555555557, 0.35555555555555557, 0.35555555555555557, 0.35555555555555557, 0.35555555555555557, 0.35555555555555557]\n",
      "[66, 150, 14, 152, 113]\n"
     ]
    },
    {
     "name": "stderr",
     "output_type": "stream",
     "text": [
      "/home/etudiant/anaconda3/lib/python3.9/site-packages/sklearn/neural_network/_multilayer_perceptron.py:692: ConvergenceWarning: Stochastic Optimizer: Maximum iterations (200) reached and the optimization hasn't converged yet.\n",
      "  warnings.warn(\n",
      "/home/etudiant/anaconda3/lib/python3.9/site-packages/sklearn/utils/extmath.py:153: RuntimeWarning: overflow encountered in matmul\n",
      "  ret = a @ b\n",
      "/home/etudiant/anaconda3/lib/python3.9/site-packages/sklearn/neural_network/_base.py:66: RuntimeWarning: invalid value encountered in subtract\n",
      "  tmp = X - X.max(axis=1)[:, np.newaxis]\n"
     ]
    },
    {
     "name": "stdout",
     "output_type": "stream",
     "text": [
      "temps ecoule = 0.31468653678894043\n",
      "200\n",
      " les valeurs des scores obtenue : [0.26666666666666666, 0.4, 0.4, 0.37777777777777777, 0.37777777777777777, 0.4, 0.4222222222222222, 0.8666666666666667, 0.8444444444444444, 0.9555555555555556, 0.26666666666666666, 0.35555555555555557, 0.37777777777777777, 0.13333333333333333, 0.35555555555555557, 0.6222222222222222, 0.35555555555555557, 0.7333333333333333, 0.35555555555555557, 0.26666666666666666, 0.26666666666666666, 0.26666666666666666, 0.26666666666666666, 0.35555555555555557, 0.26666666666666666, 0.26666666666666666, 0.37777777777777777, 0.26666666666666666, 0.37777777777777777, 0.37777777777777777, 0.35555555555555557, 0.35555555555555557, 0.35555555555555557, 0.35555555555555557, 0.35555555555555557, 0.35555555555555557, 0.35555555555555557, 0.35555555555555557, 0.35555555555555557, 0.35555555555555557, 0.35555555555555557, 0.35555555555555557, 0.35555555555555557]\n",
      "[66, 150, 14, 152, 113]\n"
     ]
    },
    {
     "name": "stderr",
     "output_type": "stream",
     "text": [
      "/home/etudiant/anaconda3/lib/python3.9/site-packages/sklearn/neural_network/_multilayer_perceptron.py:692: ConvergenceWarning: Stochastic Optimizer: Maximum iterations (200) reached and the optimization hasn't converged yet.\n",
      "  warnings.warn(\n",
      "/home/etudiant/anaconda3/lib/python3.9/site-packages/sklearn/utils/extmath.py:153: RuntimeWarning: overflow encountered in matmul\n",
      "  ret = a @ b\n",
      "/home/etudiant/anaconda3/lib/python3.9/site-packages/sklearn/utils/extmath.py:153: RuntimeWarning: overflow encountered in matmul\n",
      "  ret = a @ b\n",
      "/home/etudiant/anaconda3/lib/python3.9/site-packages/sklearn/utils/extmath.py:153: RuntimeWarning: overflow encountered in matmul\n",
      "  ret = a @ b\n",
      "/home/etudiant/anaconda3/lib/python3.9/site-packages/sklearn/utils/extmath.py:153: RuntimeWarning: overflow encountered in matmul\n",
      "  ret = a @ b\n",
      "/home/etudiant/anaconda3/lib/python3.9/site-packages/sklearn/utils/extmath.py:153: RuntimeWarning: invalid value encountered in matmul\n",
      "  ret = a @ b\n"
     ]
    },
    {
     "name": "stdout",
     "output_type": "stream",
     "text": [
      "temps ecoule = 0.3215212821960449\n",
      "200\n",
      " les valeurs des scores obtenue : [0.26666666666666666, 0.4, 0.4, 0.37777777777777777, 0.37777777777777777, 0.4, 0.4222222222222222, 0.8666666666666667, 0.8444444444444444, 0.9555555555555556, 0.26666666666666666, 0.35555555555555557, 0.37777777777777777, 0.13333333333333333, 0.35555555555555557, 0.6222222222222222, 0.35555555555555557, 0.7333333333333333, 0.35555555555555557, 0.26666666666666666, 0.26666666666666666, 0.26666666666666666, 0.26666666666666666, 0.35555555555555557, 0.26666666666666666, 0.26666666666666666, 0.37777777777777777, 0.26666666666666666, 0.37777777777777777, 0.37777777777777777, 0.35555555555555557, 0.35555555555555557, 0.35555555555555557, 0.35555555555555557, 0.35555555555555557, 0.35555555555555557, 0.35555555555555557, 0.35555555555555557, 0.35555555555555557, 0.35555555555555557, 0.35555555555555557, 0.35555555555555557, 0.35555555555555557, 0.35555555555555557]\n",
      "[66, 150, 14, 152, 113]\n",
      "temps ecoule = 0.02080845832824707\n",
      "12\n",
      " les valeurs des scores obtenue : [0.26666666666666666, 0.4, 0.4, 0.37777777777777777, 0.37777777777777777, 0.4, 0.4222222222222222, 0.8666666666666667, 0.8444444444444444, 0.9555555555555556, 0.26666666666666666, 0.35555555555555557, 0.37777777777777777, 0.13333333333333333, 0.35555555555555557, 0.6222222222222222, 0.35555555555555557, 0.7333333333333333, 0.35555555555555557, 0.26666666666666666, 0.26666666666666666, 0.26666666666666666, 0.26666666666666666, 0.35555555555555557, 0.26666666666666666, 0.26666666666666666, 0.37777777777777777, 0.26666666666666666, 0.37777777777777777, 0.37777777777777777, 0.35555555555555557, 0.35555555555555557, 0.35555555555555557, 0.35555555555555557, 0.35555555555555557, 0.35555555555555557, 0.35555555555555557, 0.35555555555555557, 0.35555555555555557, 0.35555555555555557, 0.35555555555555557, 0.35555555555555557, 0.35555555555555557, 0.35555555555555557, 0.26666666666666666]\n",
      "[66, 150, 14, 152, 113]\n",
      "temps ecoule = 0.02065873146057129\n",
      "12\n",
      " les valeurs des scores obtenue : [0.26666666666666666, 0.4, 0.4, 0.37777777777777777, 0.37777777777777777, 0.4, 0.4222222222222222, 0.8666666666666667, 0.8444444444444444, 0.9555555555555556, 0.26666666666666666, 0.35555555555555557, 0.37777777777777777, 0.13333333333333333, 0.35555555555555557, 0.6222222222222222, 0.35555555555555557, 0.7333333333333333, 0.35555555555555557, 0.26666666666666666, 0.26666666666666666, 0.26666666666666666, 0.26666666666666666, 0.35555555555555557, 0.26666666666666666, 0.26666666666666666, 0.37777777777777777, 0.26666666666666666, 0.37777777777777777, 0.37777777777777777, 0.35555555555555557, 0.35555555555555557, 0.35555555555555557, 0.35555555555555557, 0.35555555555555557, 0.35555555555555557, 0.35555555555555557, 0.35555555555555557, 0.35555555555555557, 0.35555555555555557, 0.35555555555555557, 0.35555555555555557, 0.35555555555555557, 0.35555555555555557, 0.26666666666666666, 0.26666666666666666]\n",
      "[66, 150, 14, 152, 113]\n",
      "temps ecoule = 0.3577392101287842\n",
      "200\n",
      " les valeurs des scores obtenue : [0.26666666666666666, 0.4, 0.4, 0.37777777777777777, 0.37777777777777777, 0.4, 0.4222222222222222, 0.8666666666666667, 0.8444444444444444, 0.9555555555555556, 0.26666666666666666, 0.35555555555555557, 0.37777777777777777, 0.13333333333333333, 0.35555555555555557, 0.6222222222222222, 0.35555555555555557, 0.7333333333333333, 0.35555555555555557, 0.26666666666666666, 0.26666666666666666, 0.26666666666666666, 0.26666666666666666, 0.35555555555555557, 0.26666666666666666, 0.26666666666666666, 0.37777777777777777, 0.26666666666666666, 0.37777777777777777, 0.37777777777777777, 0.35555555555555557, 0.35555555555555557, 0.35555555555555557, 0.35555555555555557, 0.35555555555555557, 0.35555555555555557, 0.35555555555555557, 0.35555555555555557, 0.35555555555555557, 0.35555555555555557, 0.35555555555555557, 0.35555555555555557, 0.35555555555555557, 0.35555555555555557, 0.26666666666666666, 0.26666666666666666, 0.35555555555555557]\n",
      "[66, 150, 14, 152, 113]\n",
      "temps ecoule = 0.020338058471679688\n",
      "12\n",
      " les valeurs des scores obtenue : [0.26666666666666666, 0.4, 0.4, 0.37777777777777777, 0.37777777777777777, 0.4, 0.4222222222222222, 0.8666666666666667, 0.8444444444444444, 0.9555555555555556, 0.26666666666666666, 0.35555555555555557, 0.37777777777777777, 0.13333333333333333, 0.35555555555555557, 0.6222222222222222, 0.35555555555555557, 0.7333333333333333, 0.35555555555555557, 0.26666666666666666, 0.26666666666666666, 0.26666666666666666, 0.26666666666666666, 0.35555555555555557, 0.26666666666666666, 0.26666666666666666, 0.37777777777777777, 0.26666666666666666, 0.37777777777777777, 0.37777777777777777, 0.35555555555555557, 0.35555555555555557, 0.35555555555555557, 0.35555555555555557, 0.35555555555555557, 0.35555555555555557, 0.35555555555555557, 0.35555555555555557, 0.35555555555555557, 0.35555555555555557, 0.35555555555555557, 0.35555555555555557, 0.35555555555555557, 0.35555555555555557, 0.26666666666666666, 0.26666666666666666, 0.35555555555555557, 0.26666666666666666]\n",
      "[66, 150, 14, 152, 113]\n",
      "temps ecoule = 0.021757125854492188\n",
      "13\n",
      " les valeurs des scores obtenue : [0.26666666666666666, 0.4, 0.4, 0.37777777777777777, 0.37777777777777777, 0.4, 0.4222222222222222, 0.8666666666666667, 0.8444444444444444, 0.9555555555555556, 0.26666666666666666, 0.35555555555555557, 0.37777777777777777, 0.13333333333333333, 0.35555555555555557, 0.6222222222222222, 0.35555555555555557, 0.7333333333333333, 0.35555555555555557, 0.26666666666666666, 0.26666666666666666, 0.26666666666666666, 0.26666666666666666, 0.35555555555555557, 0.26666666666666666, 0.26666666666666666, 0.37777777777777777, 0.26666666666666666, 0.37777777777777777, 0.37777777777777777, 0.35555555555555557, 0.35555555555555557, 0.35555555555555557, 0.35555555555555557, 0.35555555555555557, 0.35555555555555557, 0.35555555555555557, 0.35555555555555557, 0.35555555555555557, 0.35555555555555557, 0.35555555555555557, 0.35555555555555557, 0.35555555555555557, 0.35555555555555557, 0.26666666666666666, 0.26666666666666666, 0.35555555555555557, 0.26666666666666666, 0.26666666666666666]\n",
      "[66, 150, 14, 152, 113]\n",
      "temps ecoule = 0.024350881576538086\n",
      "14\n",
      " les valeurs des scores obtenue : [0.26666666666666666, 0.4, 0.4, 0.37777777777777777, 0.37777777777777777, 0.4, 0.4222222222222222, 0.8666666666666667, 0.8444444444444444, 0.9555555555555556, 0.26666666666666666, 0.35555555555555557, 0.37777777777777777, 0.13333333333333333, 0.35555555555555557, 0.6222222222222222, 0.35555555555555557, 0.7333333333333333, 0.35555555555555557, 0.26666666666666666, 0.26666666666666666, 0.26666666666666666, 0.26666666666666666, 0.35555555555555557, 0.26666666666666666, 0.26666666666666666, 0.37777777777777777, 0.26666666666666666, 0.37777777777777777, 0.37777777777777777, 0.35555555555555557, 0.35555555555555557, 0.35555555555555557, 0.35555555555555557, 0.35555555555555557, 0.35555555555555557, 0.35555555555555557, 0.35555555555555557, 0.35555555555555557, 0.35555555555555557, 0.35555555555555557, 0.35555555555555557, 0.35555555555555557, 0.35555555555555557, 0.26666666666666666, 0.26666666666666666, 0.35555555555555557, 0.26666666666666666, 0.26666666666666666, 0.37777777777777777]\n"
     ]
    },
    {
     "name": "stderr",
     "output_type": "stream",
     "text": [
      "/home/etudiant/anaconda3/lib/python3.9/site-packages/sklearn/neural_network/_multilayer_perceptron.py:692: ConvergenceWarning: Stochastic Optimizer: Maximum iterations (200) reached and the optimization hasn't converged yet.\n",
      "  warnings.warn(\n"
     ]
    },
    {
     "data": {
      "text/plain": [
       "{'architecture_11': [66, 150, 14, 152, 113],\n",
       " 'architecture_10': [66, 150, 14, 152, 113],\n",
       " 'architecture_9': [66, 150, 14, 152, 113],\n",
       " 'architecture_8': [66, 150, 14, 152, 113],\n",
       " 'architecture_7': [66, 150, 14, 152, 113],\n",
       " 'architecture_6': [66, 150, 14, 152, 113],\n",
       " 'architecture_5': [66, 150, 14, 152, 113],\n",
       " 'architecture_4': [66, 150, 14, 152, 113],\n",
       " 'architecture_3': [66, 150, 14, 152, 113],\n",
       " 'architecture_2': [66, 150, 14, 152, 113]}"
      ]
     },
     "execution_count": 54,
     "metadata": {},
     "output_type": "execute_result"
    }
   ],
   "source": [
    "test_scorek=[]\n",
    "nmbr_iterationk=[]\n",
    "tempsk=[]\n",
    "dictresultatk={}\n",
    "k=0\n",
    "indi_j=[]\n",
    "for i in dictresultat.keys(): \n",
    "    for j in range(11,1,-1):\n",
    "        start_time = time.time()\n",
    "        clf_sgd = MLPClassifier(solver='sgd', hidden_layer_sizes=(dictresultat[i]), random_state=1,learning_rate_init=j) \n",
    "        print(dictresultat[i])\n",
    "        clf_sgd.fit(X_train,y_train)\n",
    "        clf_sgd.predict(X_test)\n",
    "        test_scorek.append(clf_sgd.score(X_test, y_test))\n",
    "        end_time = time.time()\n",
    "        print('temps ecoule = '+str(end_time - start_time))\n",
    "        print(clf_sgd.n_iter_)\n",
    "        tempsk.append(end_time - start_time)\n",
    "        nmbr_iterationk.append(clf_sgd.n_iter_)\n",
    "        dictresultatk['architecture_'+str(j)]=dictresultat[i]\n",
    "        k=k+1\n",
    "        indi_j.append(j)\n",
    "        print(\" les valeurs des scores obtenue :\" ,test_scorek)\n",
    "dictresultatk "
   ]
  },
  {
   "cell_type": "markdown",
   "id": "06e4d9ff",
   "metadata": {},
   "source": [
    "Nous avons affiché les résultats sous forme du tableau suivant:"
   ]
  },
  {
   "cell_type": "code",
   "execution_count": 57,
   "id": "b725d979",
   "metadata": {},
   "outputs": [
    {
     "data": {
      "text/html": [
       "<div>\n",
       "<style scoped>\n",
       "    .dataframe tbody tr th:only-of-type {\n",
       "        vertical-align: middle;\n",
       "    }\n",
       "\n",
       "    .dataframe tbody tr th {\n",
       "        vertical-align: top;\n",
       "    }\n",
       "\n",
       "    .dataframe thead th {\n",
       "        text-align: right;\n",
       "    }\n",
       "</style>\n",
       "<table border=\"1\" class=\"dataframe\">\n",
       "  <thead>\n",
       "    <tr style=\"text-align: right;\">\n",
       "      <th></th>\n",
       "      <th>model_sg_1</th>\n",
       "      <th>model_sg_2</th>\n",
       "      <th>model_sg_3</th>\n",
       "      <th>model_sg_4</th>\n",
       "      <th>model_sg_5</th>\n",
       "      <th>model_sg_6</th>\n",
       "      <th>model_sg_7</th>\n",
       "      <th>model_sg_8</th>\n",
       "      <th>model_sg_9</th>\n",
       "      <th>model_sg_10</th>\n",
       "      <th>...</th>\n",
       "      <th>model_sg_41</th>\n",
       "      <th>model_sg_42</th>\n",
       "      <th>model_sg_43</th>\n",
       "      <th>model_sg_44</th>\n",
       "      <th>model_sg_45</th>\n",
       "      <th>model_sg_46</th>\n",
       "      <th>model_sg_47</th>\n",
       "      <th>model_sg_48</th>\n",
       "      <th>model_sg_49</th>\n",
       "      <th>model_sg_50</th>\n",
       "    </tr>\n",
       "  </thead>\n",
       "  <tbody>\n",
       "    <tr>\n",
       "      <th>performances</th>\n",
       "      <td>0.266667</td>\n",
       "      <td>0.400000</td>\n",
       "      <td>0.40000</td>\n",
       "      <td>0.377778</td>\n",
       "      <td>0.377778</td>\n",
       "      <td>0.400000</td>\n",
       "      <td>0.422222</td>\n",
       "      <td>0.866667</td>\n",
       "      <td>0.844444</td>\n",
       "      <td>0.955556</td>\n",
       "      <td>...</td>\n",
       "      <td>0.355556</td>\n",
       "      <td>0.355556</td>\n",
       "      <td>0.355556</td>\n",
       "      <td>0.355556</td>\n",
       "      <td>0.266667</td>\n",
       "      <td>0.266667</td>\n",
       "      <td>0.355556</td>\n",
       "      <td>0.266667</td>\n",
       "      <td>0.266667</td>\n",
       "      <td>0.377778</td>\n",
       "    </tr>\n",
       "    <tr>\n",
       "      <th>nombre d'itérations</th>\n",
       "      <td>12.000000</td>\n",
       "      <td>12.000000</td>\n",
       "      <td>12.00000</td>\n",
       "      <td>12.000000</td>\n",
       "      <td>13.000000</td>\n",
       "      <td>13.000000</td>\n",
       "      <td>13.000000</td>\n",
       "      <td>13.000000</td>\n",
       "      <td>13.000000</td>\n",
       "      <td>72.000000</td>\n",
       "      <td>...</td>\n",
       "      <td>200.000000</td>\n",
       "      <td>200.000000</td>\n",
       "      <td>200.000000</td>\n",
       "      <td>200.000000</td>\n",
       "      <td>12.000000</td>\n",
       "      <td>12.000000</td>\n",
       "      <td>200.000000</td>\n",
       "      <td>12.000000</td>\n",
       "      <td>13.000000</td>\n",
       "      <td>14.000000</td>\n",
       "    </tr>\n",
       "    <tr>\n",
       "      <th>temps de convergence</th>\n",
       "      <td>0.008190</td>\n",
       "      <td>0.007682</td>\n",
       "      <td>0.00737</td>\n",
       "      <td>0.007166</td>\n",
       "      <td>0.007749</td>\n",
       "      <td>0.007675</td>\n",
       "      <td>0.007632</td>\n",
       "      <td>0.007152</td>\n",
       "      <td>0.006426</td>\n",
       "      <td>0.030935</td>\n",
       "      <td>...</td>\n",
       "      <td>0.312436</td>\n",
       "      <td>0.315329</td>\n",
       "      <td>0.314687</td>\n",
       "      <td>0.321521</td>\n",
       "      <td>0.020808</td>\n",
       "      <td>0.020659</td>\n",
       "      <td>0.357739</td>\n",
       "      <td>0.020338</td>\n",
       "      <td>0.021757</td>\n",
       "      <td>0.024351</td>\n",
       "    </tr>\n",
       "  </tbody>\n",
       "</table>\n",
       "<p>3 rows × 50 columns</p>\n",
       "</div>"
      ],
      "text/plain": [
       "                       model_sg_1   model_sg_2   model_sg_3   model_sg_4  \\\n",
       "performances             0.266667     0.400000      0.40000     0.377778   \n",
       "nombre d'itérations     12.000000    12.000000     12.00000    12.000000   \n",
       "temps de convergence     0.008190     0.007682      0.00737     0.007166   \n",
       "\n",
       "                       model_sg_5   model_sg_6   model_sg_7   model_sg_8  \\\n",
       "performances             0.377778     0.400000     0.422222     0.866667   \n",
       "nombre d'itérations     13.000000    13.000000    13.000000    13.000000   \n",
       "temps de convergence     0.007749     0.007675     0.007632     0.007152   \n",
       "\n",
       "                       model_sg_9   model_sg_10  ...   model_sg_41  \\\n",
       "performances             0.844444      0.955556  ...      0.355556   \n",
       "nombre d'itérations     13.000000     72.000000  ...    200.000000   \n",
       "temps de convergence     0.006426      0.030935  ...      0.312436   \n",
       "\n",
       "                       model_sg_42   model_sg_43   model_sg_44   model_sg_45  \\\n",
       "performances              0.355556      0.355556      0.355556      0.266667   \n",
       "nombre d'itérations     200.000000    200.000000    200.000000     12.000000   \n",
       "temps de convergence      0.315329      0.314687      0.321521      0.020808   \n",
       "\n",
       "                       model_sg_46   model_sg_47   model_sg_48   model_sg_49  \\\n",
       "performances              0.266667      0.355556      0.266667      0.266667   \n",
       "nombre d'itérations      12.000000    200.000000     12.000000     13.000000   \n",
       "temps de convergence      0.020659      0.357739      0.020338      0.021757   \n",
       "\n",
       "                       model_sg_50  \n",
       "performances              0.377778  \n",
       "nombre d'itérations      14.000000  \n",
       "temps de convergence      0.024351  \n",
       "\n",
       "[3 rows x 50 columns]"
      ]
     },
     "execution_count": 57,
     "metadata": {},
     "output_type": "execute_result"
    }
   ],
   "source": [
    "liste=[]\n",
    "for i in range(1,51):\n",
    "    liste.append(\" model_sg_\"+str(i))   \n",
    "ark = np.array([test_scorek, nmbr_iterationk, tempsk])\n",
    "dfk = pd.DataFrame(ark, index = ['performances', \"nombre d'itérations\", 'temps de convergence'], columns = liste)\n",
    "dfk"
   ]
  },
  {
   "cell_type": "code",
   "execution_count": 58,
   "id": "061a03e3",
   "metadata": {
    "scrolled": true
   },
   "outputs": [
    {
     "data": {
      "text/plain": [
       "Text(0, 0.5, 'score de test')"
      ]
     },
     "execution_count": 58,
     "metadata": {},
     "output_type": "execute_result"
    },
    {
     "data": {
      "image/png": "[encoded data removed]",
      "text/plain": [
       "<Figure size 432x288 with 1 Axes>"
      ]
     },
     "metadata": {
      "needs_background": "light"
     },
     "output_type": "display_data"
    }
   ],
   "source": [
    "import matplotlib.pyplot as plt\n",
    "plt.plot(range(len(dfk.loc['temps de convergence'])), dfk.loc['performances'])\n",
    "#plt.plot(range(len(dfk.loc['performances'])), dfk.loc[\"nombre d'itérations\"])\n",
    "plt.xlabel(\"temps de convergence\")\n",
    "plt.ylabel('score de test')"
   ]
  },
  {
   "cell_type": "markdown",
   "id": "5cb968c2",
   "metadata": {},
   "source": [
    "nous avons obtenue un score de 97 % donc des resultats assez bien que celui du mlp , \n",
    "\n",
    "ou on a une LR trés petit (indice 1 tjrs)"
   ]
  },
  {
   "cell_type": "markdown",
   "id": "6dfb4ddd",
   "metadata": {},
   "source": [
    "#### a- adam solver"
   ]
  },
  {
   "cell_type": "code",
   "execution_count": 59,
   "id": "eccf9536",
   "metadata": {},
   "outputs": [
    {
     "name": "stdout",
     "output_type": "stream",
     "text": [
      "[148]\n",
      "temps ecoule = 0.008739709854125977\n",
      "12\n",
      " les valeurs des scores obtenue : [0.8444444444444444]\n",
      "[148]\n",
      "temps ecoule = 0.008193016052246094\n",
      "12\n",
      " les valeurs des scores obtenue : [0.8444444444444444, 0.8888888888888888]\n",
      "[148]\n",
      "temps ecoule = 0.008085966110229492\n",
      "12\n",
      " les valeurs des scores obtenue : [0.8444444444444444, 0.8888888888888888, 0.8444444444444444]\n",
      "[148]\n",
      "temps ecoule = 0.008420705795288086\n",
      "12\n",
      " les valeurs des scores obtenue : [0.8444444444444444, 0.8888888888888888, 0.8444444444444444, 0.8888888888888888]\n",
      "[148]\n",
      "temps ecoule = 0.007834672927856445\n",
      "12\n",
      " les valeurs des scores obtenue : [0.8444444444444444, 0.8888888888888888, 0.8444444444444444, 0.8888888888888888, 0.8666666666666667]\n",
      "[148]\n",
      "temps ecoule = 0.007418155670166016\n",
      "12\n",
      " les valeurs des scores obtenue : [0.8444444444444444, 0.8888888888888888, 0.8444444444444444, 0.8888888888888888, 0.8666666666666667, 0.8666666666666667]\n",
      "[148]\n",
      "temps ecoule = 0.0065996646881103516\n",
      "12\n",
      " les valeurs des scores obtenue : [0.8444444444444444, 0.8888888888888888, 0.8444444444444444, 0.8888888888888888, 0.8666666666666667, 0.8666666666666667, 0.8666666666666667]\n",
      "[148]\n",
      "temps ecoule = 0.006772518157958984\n",
      "12\n",
      " les valeurs des scores obtenue : [0.8444444444444444, 0.8888888888888888, 0.8444444444444444, 0.8888888888888888, 0.8666666666666667, 0.8666666666666667, 0.8666666666666667, 0.8888888888888888]\n",
      "[148]\n",
      "temps ecoule = 0.00687861442565918\n",
      "12\n",
      " les valeurs des scores obtenue : [0.8444444444444444, 0.8888888888888888, 0.8444444444444444, 0.8888888888888888, 0.8666666666666667, 0.8666666666666667, 0.8666666666666667, 0.8888888888888888, 0.8666666666666667]\n",
      "[148]\n",
      "temps ecoule = 0.006827592849731445\n",
      "12\n",
      " les valeurs des scores obtenue : [0.8444444444444444, 0.8888888888888888, 0.8444444444444444, 0.8888888888888888, 0.8666666666666667, 0.8666666666666667, 0.8666666666666667, 0.8888888888888888, 0.8666666666666667, 0.8666666666666667]\n",
      "[155, 210]\n",
      "temps ecoule = 0.01706099510192871\n",
      "12\n",
      " les valeurs des scores obtenue : [0.8444444444444444, 0.8888888888888888, 0.8444444444444444, 0.8888888888888888, 0.8666666666666667, 0.8666666666666667, 0.8666666666666667, 0.8888888888888888, 0.8666666666666667, 0.8666666666666667, 0.8888888888888888]\n",
      "[155, 210]\n",
      "temps ecoule = 0.01826786994934082\n",
      "12\n",
      " les valeurs des scores obtenue : [0.8444444444444444, 0.8888888888888888, 0.8444444444444444, 0.8888888888888888, 0.8666666666666667, 0.8666666666666667, 0.8666666666666667, 0.8888888888888888, 0.8666666666666667, 0.8666666666666667, 0.8888888888888888, 0.8888888888888888]\n",
      "[155, 210]\n",
      "temps ecoule = 0.017508983612060547\n",
      "12\n",
      " les valeurs des scores obtenue : [0.8444444444444444, 0.8888888888888888, 0.8444444444444444, 0.8888888888888888, 0.8666666666666667, 0.8666666666666667, 0.8666666666666667, 0.8888888888888888, 0.8666666666666667, 0.8666666666666667, 0.8888888888888888, 0.8888888888888888, 0.8888888888888888]\n",
      "[155, 210]\n",
      "temps ecoule = 0.01757025718688965\n",
      "12\n",
      " les valeurs des scores obtenue : [0.8444444444444444, 0.8888888888888888, 0.8444444444444444, 0.8888888888888888, 0.8666666666666667, 0.8666666666666667, 0.8666666666666667, 0.8888888888888888, 0.8666666666666667, 0.8666666666666667, 0.8888888888888888, 0.8888888888888888, 0.8888888888888888, 0.8888888888888888]\n",
      "[155, 210]\n",
      "temps ecoule = 0.017537355422973633\n",
      "12\n",
      " les valeurs des scores obtenue : [0.8444444444444444, 0.8888888888888888, 0.8444444444444444, 0.8888888888888888, 0.8666666666666667, 0.8666666666666667, 0.8666666666666667, 0.8888888888888888, 0.8666666666666667, 0.8666666666666667, 0.8888888888888888, 0.8888888888888888, 0.8888888888888888, 0.8888888888888888, 0.8888888888888888]\n",
      "[155, 210]\n",
      "temps ecoule = 0.017527341842651367\n",
      "12\n",
      " les valeurs des scores obtenue : [0.8444444444444444, 0.8888888888888888, 0.8444444444444444, 0.8888888888888888, 0.8666666666666667, 0.8666666666666667, 0.8666666666666667, 0.8888888888888888, 0.8666666666666667, 0.8666666666666667, 0.8888888888888888, 0.8888888888888888, 0.8888888888888888, 0.8888888888888888, 0.8888888888888888, 0.8666666666666667]\n",
      "[155, 210]\n",
      "temps ecoule = 0.017355680465698242\n",
      "12\n",
      " les valeurs des scores obtenue : [0.8444444444444444, 0.8888888888888888, 0.8444444444444444, 0.8888888888888888, 0.8666666666666667, 0.8666666666666667, 0.8666666666666667, 0.8888888888888888, 0.8666666666666667, 0.8666666666666667, 0.8888888888888888, 0.8888888888888888, 0.8888888888888888, 0.8888888888888888, 0.8888888888888888, 0.8666666666666667, 0.8666666666666667]\n",
      "[155, 210]\n",
      "temps ecoule = 0.03459763526916504\n",
      "12\n",
      " les valeurs des scores obtenue : [0.8444444444444444, 0.8888888888888888, 0.8444444444444444, 0.8888888888888888, 0.8666666666666667, 0.8666666666666667, 0.8666666666666667, 0.8888888888888888, 0.8666666666666667, 0.8666666666666667, 0.8888888888888888, 0.8888888888888888, 0.8888888888888888, 0.8888888888888888, 0.8888888888888888, 0.8666666666666667, 0.8666666666666667, 0.8666666666666667]\n",
      "[155, 210]\n",
      "temps ecoule = 0.02161383628845215\n",
      "12\n",
      " les valeurs des scores obtenue : [0.8444444444444444, 0.8888888888888888, 0.8444444444444444, 0.8888888888888888, 0.8666666666666667, 0.8666666666666667, 0.8666666666666667, 0.8888888888888888, 0.8666666666666667, 0.8666666666666667, 0.8888888888888888, 0.8888888888888888, 0.8888888888888888, 0.8888888888888888, 0.8888888888888888, 0.8666666666666667, 0.8666666666666667, 0.8666666666666667, 0.8666666666666667]\n",
      "[155, 210]\n",
      "temps ecoule = 0.017303466796875\n",
      "12\n",
      " les valeurs des scores obtenue : [0.8444444444444444, 0.8888888888888888, 0.8444444444444444, 0.8888888888888888, 0.8666666666666667, 0.8666666666666667, 0.8666666666666667, 0.8888888888888888, 0.8666666666666667, 0.8666666666666667, 0.8888888888888888, 0.8888888888888888, 0.8888888888888888, 0.8888888888888888, 0.8888888888888888, 0.8666666666666667, 0.8666666666666667, 0.8666666666666667, 0.8666666666666667, 0.8222222222222222]\n",
      "[246, 13, 114]\n",
      "temps ecoule = 0.014924764633178711\n",
      "12\n",
      " les valeurs des scores obtenue : [0.8444444444444444, 0.8888888888888888, 0.8444444444444444, 0.8888888888888888, 0.8666666666666667, 0.8666666666666667, 0.8666666666666667, 0.8888888888888888, 0.8666666666666667, 0.8666666666666667, 0.8888888888888888, 0.8888888888888888, 0.8888888888888888, 0.8888888888888888, 0.8888888888888888, 0.8666666666666667, 0.8666666666666667, 0.8666666666666667, 0.8666666666666667, 0.8222222222222222, 0.7333333333333333]\n",
      "[246, 13, 114]\n",
      "temps ecoule = 0.014832735061645508\n",
      "12\n",
      " les valeurs des scores obtenue : [0.8444444444444444, 0.8888888888888888, 0.8444444444444444, 0.8888888888888888, 0.8666666666666667, 0.8666666666666667, 0.8666666666666667, 0.8888888888888888, 0.8666666666666667, 0.8666666666666667, 0.8888888888888888, 0.8888888888888888, 0.8888888888888888, 0.8888888888888888, 0.8888888888888888, 0.8666666666666667, 0.8666666666666667, 0.8666666666666667, 0.8666666666666667, 0.8222222222222222, 0.7333333333333333, 0.6222222222222222]\n",
      "[246, 13, 114]\n",
      "temps ecoule = 0.015152215957641602\n",
      "12\n",
      " les valeurs des scores obtenue : [0.8444444444444444, 0.8888888888888888, 0.8444444444444444, 0.8888888888888888, 0.8666666666666667, 0.8666666666666667, 0.8666666666666667, 0.8888888888888888, 0.8666666666666667, 0.8666666666666667, 0.8888888888888888, 0.8888888888888888, 0.8888888888888888, 0.8888888888888888, 0.8888888888888888, 0.8666666666666667, 0.8666666666666667, 0.8666666666666667, 0.8666666666666667, 0.8222222222222222, 0.7333333333333333, 0.6222222222222222, 0.7111111111111111]\n",
      "[246, 13, 114]\n",
      "temps ecoule = 0.02045440673828125\n",
      "12\n",
      " les valeurs des scores obtenue : [0.8444444444444444, 0.8888888888888888, 0.8444444444444444, 0.8888888888888888, 0.8666666666666667, 0.8666666666666667, 0.8666666666666667, 0.8888888888888888, 0.8666666666666667, 0.8666666666666667, 0.8888888888888888, 0.8888888888888888, 0.8888888888888888, 0.8888888888888888, 0.8888888888888888, 0.8666666666666667, 0.8666666666666667, 0.8666666666666667, 0.8666666666666667, 0.8222222222222222, 0.7333333333333333, 0.6222222222222222, 0.7111111111111111, 0.35555555555555557]\n",
      "[246, 13, 114]\n",
      "temps ecoule = 0.015893220901489258\n",
      "12\n",
      " les valeurs des scores obtenue : [0.8444444444444444, 0.8888888888888888, 0.8444444444444444, 0.8888888888888888, 0.8666666666666667, 0.8666666666666667, 0.8666666666666667, 0.8888888888888888, 0.8666666666666667, 0.8666666666666667, 0.8888888888888888, 0.8888888888888888, 0.8888888888888888, 0.8888888888888888, 0.8888888888888888, 0.8666666666666667, 0.8666666666666667, 0.8666666666666667, 0.8666666666666667, 0.8222222222222222, 0.7333333333333333, 0.6222222222222222, 0.7111111111111111, 0.35555555555555557, 0.4444444444444444]\n",
      "[246, 13, 114]\n",
      "temps ecoule = 0.015011072158813477\n",
      "12\n",
      " les valeurs des scores obtenue : [0.8444444444444444, 0.8888888888888888, 0.8444444444444444, 0.8888888888888888, 0.8666666666666667, 0.8666666666666667, 0.8666666666666667, 0.8888888888888888, 0.8666666666666667, 0.8666666666666667, 0.8888888888888888, 0.8888888888888888, 0.8888888888888888, 0.8888888888888888, 0.8888888888888888, 0.8666666666666667, 0.8666666666666667, 0.8666666666666667, 0.8666666666666667, 0.8222222222222222, 0.7333333333333333, 0.6222222222222222, 0.7111111111111111, 0.35555555555555557, 0.4444444444444444, 0.6222222222222222]\n",
      "[246, 13, 114]\n",
      "temps ecoule = 0.01564788818359375\n",
      "12\n",
      " les valeurs des scores obtenue : [0.8444444444444444, 0.8888888888888888, 0.8444444444444444, 0.8888888888888888, 0.8666666666666667, 0.8666666666666667, 0.8666666666666667, 0.8888888888888888, 0.8666666666666667, 0.8666666666666667, 0.8888888888888888, 0.8888888888888888, 0.8888888888888888, 0.8888888888888888, 0.8888888888888888, 0.8666666666666667, 0.8666666666666667, 0.8666666666666667, 0.8666666666666667, 0.8222222222222222, 0.7333333333333333, 0.6222222222222222, 0.7111111111111111, 0.35555555555555557, 0.4444444444444444, 0.6222222222222222, 0.4]\n",
      "[246, 13, 114]\n",
      "temps ecoule = 0.015358686447143555\n",
      "12\n",
      " les valeurs des scores obtenue : [0.8444444444444444, 0.8888888888888888, 0.8444444444444444, 0.8888888888888888, 0.8666666666666667, 0.8666666666666667, 0.8666666666666667, 0.8888888888888888, 0.8666666666666667, 0.8666666666666667, 0.8888888888888888, 0.8888888888888888, 0.8888888888888888, 0.8888888888888888, 0.8888888888888888, 0.8666666666666667, 0.8666666666666667, 0.8666666666666667, 0.8666666666666667, 0.8222222222222222, 0.7333333333333333, 0.6222222222222222, 0.7111111111111111, 0.35555555555555557, 0.4444444444444444, 0.6222222222222222, 0.4, 0.6444444444444445]\n",
      "[246, 13, 114]\n",
      "temps ecoule = 0.015519857406616211\n",
      "12\n",
      " les valeurs des scores obtenue : [0.8444444444444444, 0.8888888888888888, 0.8444444444444444, 0.8888888888888888, 0.8666666666666667, 0.8666666666666667, 0.8666666666666667, 0.8888888888888888, 0.8666666666666667, 0.8666666666666667, 0.8888888888888888, 0.8888888888888888, 0.8888888888888888, 0.8888888888888888, 0.8888888888888888, 0.8666666666666667, 0.8666666666666667, 0.8666666666666667, 0.8666666666666667, 0.8222222222222222, 0.7333333333333333, 0.6222222222222222, 0.7111111111111111, 0.35555555555555557, 0.4444444444444444, 0.6222222222222222, 0.4, 0.6444444444444445, 0.7777777777777778]\n",
      "[246, 13, 114]\n"
     ]
    },
    {
     "name": "stdout",
     "output_type": "stream",
     "text": [
      "temps ecoule = 0.016776084899902344\n",
      "12\n",
      " les valeurs des scores obtenue : [0.8444444444444444, 0.8888888888888888, 0.8444444444444444, 0.8888888888888888, 0.8666666666666667, 0.8666666666666667, 0.8666666666666667, 0.8888888888888888, 0.8666666666666667, 0.8666666666666667, 0.8888888888888888, 0.8888888888888888, 0.8888888888888888, 0.8888888888888888, 0.8888888888888888, 0.8666666666666667, 0.8666666666666667, 0.8666666666666667, 0.8666666666666667, 0.8222222222222222, 0.7333333333333333, 0.6222222222222222, 0.7111111111111111, 0.35555555555555557, 0.4444444444444444, 0.6222222222222222, 0.4, 0.6444444444444445, 0.7777777777777778, 0.6222222222222222]\n",
      "[93, 149, 112, 138]\n",
      "temps ecoule = 0.037717342376708984\n",
      "12\n",
      " les valeurs des scores obtenue : [0.8444444444444444, 0.8888888888888888, 0.8444444444444444, 0.8888888888888888, 0.8666666666666667, 0.8666666666666667, 0.8666666666666667, 0.8888888888888888, 0.8666666666666667, 0.8666666666666667, 0.8888888888888888, 0.8888888888888888, 0.8888888888888888, 0.8888888888888888, 0.8888888888888888, 0.8666666666666667, 0.8666666666666667, 0.8666666666666667, 0.8666666666666667, 0.8222222222222222, 0.7333333333333333, 0.6222222222222222, 0.7111111111111111, 0.35555555555555557, 0.4444444444444444, 0.6222222222222222, 0.4, 0.6444444444444445, 0.7777777777777778, 0.6222222222222222, 0.9111111111111111]\n",
      "[93, 149, 112, 138]\n",
      "temps ecoule = 0.03061199188232422\n",
      "12\n",
      " les valeurs des scores obtenue : [0.8444444444444444, 0.8888888888888888, 0.8444444444444444, 0.8888888888888888, 0.8666666666666667, 0.8666666666666667, 0.8666666666666667, 0.8888888888888888, 0.8666666666666667, 0.8666666666666667, 0.8888888888888888, 0.8888888888888888, 0.8888888888888888, 0.8888888888888888, 0.8888888888888888, 0.8666666666666667, 0.8666666666666667, 0.8666666666666667, 0.8666666666666667, 0.8222222222222222, 0.7333333333333333, 0.6222222222222222, 0.7111111111111111, 0.35555555555555557, 0.4444444444444444, 0.6222222222222222, 0.4, 0.6444444444444445, 0.7777777777777778, 0.6222222222222222, 0.9111111111111111, 0.8444444444444444]\n",
      "[93, 149, 112, 138]\n",
      "temps ecoule = 0.022840023040771484\n",
      "12\n",
      " les valeurs des scores obtenue : [0.8444444444444444, 0.8888888888888888, 0.8444444444444444, 0.8888888888888888, 0.8666666666666667, 0.8666666666666667, 0.8666666666666667, 0.8888888888888888, 0.8666666666666667, 0.8666666666666667, 0.8888888888888888, 0.8888888888888888, 0.8888888888888888, 0.8888888888888888, 0.8888888888888888, 0.8666666666666667, 0.8666666666666667, 0.8666666666666667, 0.8666666666666667, 0.8222222222222222, 0.7333333333333333, 0.6222222222222222, 0.7111111111111111, 0.35555555555555557, 0.4444444444444444, 0.6222222222222222, 0.4, 0.6444444444444445, 0.7777777777777778, 0.6222222222222222, 0.9111111111111111, 0.8444444444444444, 0.8666666666666667]\n",
      "[93, 149, 112, 138]\n",
      "temps ecoule = 0.023017406463623047\n",
      "12\n",
      " les valeurs des scores obtenue : [0.8444444444444444, 0.8888888888888888, 0.8444444444444444, 0.8888888888888888, 0.8666666666666667, 0.8666666666666667, 0.8666666666666667, 0.8888888888888888, 0.8666666666666667, 0.8666666666666667, 0.8888888888888888, 0.8888888888888888, 0.8888888888888888, 0.8888888888888888, 0.8888888888888888, 0.8666666666666667, 0.8666666666666667, 0.8666666666666667, 0.8666666666666667, 0.8222222222222222, 0.7333333333333333, 0.6222222222222222, 0.7111111111111111, 0.35555555555555557, 0.4444444444444444, 0.6222222222222222, 0.4, 0.6444444444444445, 0.7777777777777778, 0.6222222222222222, 0.9111111111111111, 0.8444444444444444, 0.8666666666666667, 0.7777777777777778]\n",
      "[93, 149, 112, 138]\n",
      "temps ecoule = 0.022969722747802734\n",
      "12\n",
      " les valeurs des scores obtenue : [0.8444444444444444, 0.8888888888888888, 0.8444444444444444, 0.8888888888888888, 0.8666666666666667, 0.8666666666666667, 0.8666666666666667, 0.8888888888888888, 0.8666666666666667, 0.8666666666666667, 0.8888888888888888, 0.8888888888888888, 0.8888888888888888, 0.8888888888888888, 0.8888888888888888, 0.8666666666666667, 0.8666666666666667, 0.8666666666666667, 0.8666666666666667, 0.8222222222222222, 0.7333333333333333, 0.6222222222222222, 0.7111111111111111, 0.35555555555555557, 0.4444444444444444, 0.6222222222222222, 0.4, 0.6444444444444445, 0.7777777777777778, 0.6222222222222222, 0.9111111111111111, 0.8444444444444444, 0.8666666666666667, 0.7777777777777778, 0.8]\n",
      "[93, 149, 112, 138]\n",
      "temps ecoule = 0.023067712783813477\n",
      "12\n",
      " les valeurs des scores obtenue : [0.8444444444444444, 0.8888888888888888, 0.8444444444444444, 0.8888888888888888, 0.8666666666666667, 0.8666666666666667, 0.8666666666666667, 0.8888888888888888, 0.8666666666666667, 0.8666666666666667, 0.8888888888888888, 0.8888888888888888, 0.8888888888888888, 0.8888888888888888, 0.8888888888888888, 0.8666666666666667, 0.8666666666666667, 0.8666666666666667, 0.8666666666666667, 0.8222222222222222, 0.7333333333333333, 0.6222222222222222, 0.7111111111111111, 0.35555555555555557, 0.4444444444444444, 0.6222222222222222, 0.4, 0.6444444444444445, 0.7777777777777778, 0.6222222222222222, 0.9111111111111111, 0.8444444444444444, 0.8666666666666667, 0.7777777777777778, 0.8, 0.7777777777777778]\n",
      "[93, 149, 112, 138]\n",
      "temps ecoule = 0.022972583770751953\n",
      "12\n",
      " les valeurs des scores obtenue : [0.8444444444444444, 0.8888888888888888, 0.8444444444444444, 0.8888888888888888, 0.8666666666666667, 0.8666666666666667, 0.8666666666666667, 0.8888888888888888, 0.8666666666666667, 0.8666666666666667, 0.8888888888888888, 0.8888888888888888, 0.8888888888888888, 0.8888888888888888, 0.8888888888888888, 0.8666666666666667, 0.8666666666666667, 0.8666666666666667, 0.8666666666666667, 0.8222222222222222, 0.7333333333333333, 0.6222222222222222, 0.7111111111111111, 0.35555555555555557, 0.4444444444444444, 0.6222222222222222, 0.4, 0.6444444444444445, 0.7777777777777778, 0.6222222222222222, 0.9111111111111111, 0.8444444444444444, 0.8666666666666667, 0.7777777777777778, 0.8, 0.7777777777777778, 0.8666666666666667]\n",
      "[93, 149, 112, 138]\n",
      "temps ecoule = 0.037496089935302734\n",
      "12\n",
      " les valeurs des scores obtenue : [0.8444444444444444, 0.8888888888888888, 0.8444444444444444, 0.8888888888888888, 0.8666666666666667, 0.8666666666666667, 0.8666666666666667, 0.8888888888888888, 0.8666666666666667, 0.8666666666666667, 0.8888888888888888, 0.8888888888888888, 0.8888888888888888, 0.8888888888888888, 0.8888888888888888, 0.8666666666666667, 0.8666666666666667, 0.8666666666666667, 0.8666666666666667, 0.8222222222222222, 0.7333333333333333, 0.6222222222222222, 0.7111111111111111, 0.35555555555555557, 0.4444444444444444, 0.6222222222222222, 0.4, 0.6444444444444445, 0.7777777777777778, 0.6222222222222222, 0.9111111111111111, 0.8444444444444444, 0.8666666666666667, 0.7777777777777778, 0.8, 0.7777777777777778, 0.8666666666666667, 0.9111111111111111]\n",
      "[93, 149, 112, 138]\n",
      "temps ecoule = 0.023365497589111328\n",
      "12\n",
      " les valeurs des scores obtenue : [0.8444444444444444, 0.8888888888888888, 0.8444444444444444, 0.8888888888888888, 0.8666666666666667, 0.8666666666666667, 0.8666666666666667, 0.8888888888888888, 0.8666666666666667, 0.8666666666666667, 0.8888888888888888, 0.8888888888888888, 0.8888888888888888, 0.8888888888888888, 0.8888888888888888, 0.8666666666666667, 0.8666666666666667, 0.8666666666666667, 0.8666666666666667, 0.8222222222222222, 0.7333333333333333, 0.6222222222222222, 0.7111111111111111, 0.35555555555555557, 0.4444444444444444, 0.6222222222222222, 0.4, 0.6444444444444445, 0.7777777777777778, 0.6222222222222222, 0.9111111111111111, 0.8444444444444444, 0.8666666666666667, 0.7777777777777778, 0.8, 0.7777777777777778, 0.8666666666666667, 0.9111111111111111, 0.7333333333333333]\n",
      "[93, 149, 112, 138]\n",
      "temps ecoule = 0.022975683212280273\n",
      "12\n",
      " les valeurs des scores obtenue : [0.8444444444444444, 0.8888888888888888, 0.8444444444444444, 0.8888888888888888, 0.8666666666666667, 0.8666666666666667, 0.8666666666666667, 0.8888888888888888, 0.8666666666666667, 0.8666666666666667, 0.8888888888888888, 0.8888888888888888, 0.8888888888888888, 0.8888888888888888, 0.8888888888888888, 0.8666666666666667, 0.8666666666666667, 0.8666666666666667, 0.8666666666666667, 0.8222222222222222, 0.7333333333333333, 0.6222222222222222, 0.7111111111111111, 0.35555555555555557, 0.4444444444444444, 0.6222222222222222, 0.4, 0.6444444444444445, 0.7777777777777778, 0.6222222222222222, 0.9111111111111111, 0.8444444444444444, 0.8666666666666667, 0.7777777777777778, 0.8, 0.7777777777777778, 0.8666666666666667, 0.9111111111111111, 0.7333333333333333, 0.7333333333333333]\n",
      "[66, 150, 14, 152, 113]\n",
      "temps ecoule = 0.022309064865112305\n",
      "12\n",
      " les valeurs des scores obtenue : [0.8444444444444444, 0.8888888888888888, 0.8444444444444444, 0.8888888888888888, 0.8666666666666667, 0.8666666666666667, 0.8666666666666667, 0.8888888888888888, 0.8666666666666667, 0.8666666666666667, 0.8888888888888888, 0.8888888888888888, 0.8888888888888888, 0.8888888888888888, 0.8888888888888888, 0.8666666666666667, 0.8666666666666667, 0.8666666666666667, 0.8666666666666667, 0.8222222222222222, 0.7333333333333333, 0.6222222222222222, 0.7111111111111111, 0.35555555555555557, 0.4444444444444444, 0.6222222222222222, 0.4, 0.6444444444444445, 0.7777777777777778, 0.6222222222222222, 0.9111111111111111, 0.8444444444444444, 0.8666666666666667, 0.7777777777777778, 0.8, 0.7777777777777778, 0.8666666666666667, 0.9111111111111111, 0.7333333333333333, 0.7333333333333333, 0.26666666666666666]\n",
      "[66, 150, 14, 152, 113]\n",
      "temps ecoule = 0.022305727005004883\n",
      "12\n",
      " les valeurs des scores obtenue : [0.8444444444444444, 0.8888888888888888, 0.8444444444444444, 0.8888888888888888, 0.8666666666666667, 0.8666666666666667, 0.8666666666666667, 0.8888888888888888, 0.8666666666666667, 0.8666666666666667, 0.8888888888888888, 0.8888888888888888, 0.8888888888888888, 0.8888888888888888, 0.8888888888888888, 0.8666666666666667, 0.8666666666666667, 0.8666666666666667, 0.8666666666666667, 0.8222222222222222, 0.7333333333333333, 0.6222222222222222, 0.7111111111111111, 0.35555555555555557, 0.4444444444444444, 0.6222222222222222, 0.4, 0.6444444444444445, 0.7777777777777778, 0.6222222222222222, 0.9111111111111111, 0.8444444444444444, 0.8666666666666667, 0.7777777777777778, 0.8, 0.7777777777777778, 0.8666666666666667, 0.9111111111111111, 0.7333333333333333, 0.7333333333333333, 0.26666666666666666, 0.26666666666666666]\n",
      "[66, 150, 14, 152, 113]\n",
      "temps ecoule = 0.022382736206054688\n",
      "12\n",
      " les valeurs des scores obtenue : [0.8444444444444444, 0.8888888888888888, 0.8444444444444444, 0.8888888888888888, 0.8666666666666667, 0.8666666666666667, 0.8666666666666667, 0.8888888888888888, 0.8666666666666667, 0.8666666666666667, 0.8888888888888888, 0.8888888888888888, 0.8888888888888888, 0.8888888888888888, 0.8888888888888888, 0.8666666666666667, 0.8666666666666667, 0.8666666666666667, 0.8666666666666667, 0.8222222222222222, 0.7333333333333333, 0.6222222222222222, 0.7111111111111111, 0.35555555555555557, 0.4444444444444444, 0.6222222222222222, 0.4, 0.6444444444444445, 0.7777777777777778, 0.6222222222222222, 0.9111111111111111, 0.8444444444444444, 0.8666666666666667, 0.7777777777777778, 0.8, 0.7777777777777778, 0.8666666666666667, 0.9111111111111111, 0.7333333333333333, 0.7333333333333333, 0.26666666666666666, 0.26666666666666666, 0.26666666666666666]\n",
      "[66, 150, 14, 152, 113]\n",
      "temps ecoule = 0.0223541259765625\n",
      "12\n",
      " les valeurs des scores obtenue : [0.8444444444444444, 0.8888888888888888, 0.8444444444444444, 0.8888888888888888, 0.8666666666666667, 0.8666666666666667, 0.8666666666666667, 0.8888888888888888, 0.8666666666666667, 0.8666666666666667, 0.8888888888888888, 0.8888888888888888, 0.8888888888888888, 0.8888888888888888, 0.8888888888888888, 0.8666666666666667, 0.8666666666666667, 0.8666666666666667, 0.8666666666666667, 0.8222222222222222, 0.7333333333333333, 0.6222222222222222, 0.7111111111111111, 0.35555555555555557, 0.4444444444444444, 0.6222222222222222, 0.4, 0.6444444444444445, 0.7777777777777778, 0.6222222222222222, 0.9111111111111111, 0.8444444444444444, 0.8666666666666667, 0.7777777777777778, 0.8, 0.7777777777777778, 0.8666666666666667, 0.9111111111111111, 0.7333333333333333, 0.7333333333333333, 0.26666666666666666, 0.26666666666666666, 0.26666666666666666, 0.26666666666666666]\n",
      "[66, 150, 14, 152, 113]\n",
      "temps ecoule = 0.022337675094604492\n",
      "12\n",
      " les valeurs des scores obtenue : [0.8444444444444444, 0.8888888888888888, 0.8444444444444444, 0.8888888888888888, 0.8666666666666667, 0.8666666666666667, 0.8666666666666667, 0.8888888888888888, 0.8666666666666667, 0.8666666666666667, 0.8888888888888888, 0.8888888888888888, 0.8888888888888888, 0.8888888888888888, 0.8888888888888888, 0.8666666666666667, 0.8666666666666667, 0.8666666666666667, 0.8666666666666667, 0.8222222222222222, 0.7333333333333333, 0.6222222222222222, 0.7111111111111111, 0.35555555555555557, 0.4444444444444444, 0.6222222222222222, 0.4, 0.6444444444444445, 0.7777777777777778, 0.6222222222222222, 0.9111111111111111, 0.8444444444444444, 0.8666666666666667, 0.7777777777777778, 0.8, 0.7777777777777778, 0.8666666666666667, 0.9111111111111111, 0.7333333333333333, 0.7333333333333333, 0.26666666666666666, 0.26666666666666666, 0.26666666666666666, 0.26666666666666666, 0.26666666666666666]\n",
      "[66, 150, 14, 152, 113]\n",
      "temps ecoule = 0.02233576774597168\n",
      "12\n",
      " les valeurs des scores obtenue : [0.8444444444444444, 0.8888888888888888, 0.8444444444444444, 0.8888888888888888, 0.8666666666666667, 0.8666666666666667, 0.8666666666666667, 0.8888888888888888, 0.8666666666666667, 0.8666666666666667, 0.8888888888888888, 0.8888888888888888, 0.8888888888888888, 0.8888888888888888, 0.8888888888888888, 0.8666666666666667, 0.8666666666666667, 0.8666666666666667, 0.8666666666666667, 0.8222222222222222, 0.7333333333333333, 0.6222222222222222, 0.7111111111111111, 0.35555555555555557, 0.4444444444444444, 0.6222222222222222, 0.4, 0.6444444444444445, 0.7777777777777778, 0.6222222222222222, 0.9111111111111111, 0.8444444444444444, 0.8666666666666667, 0.7777777777777778, 0.8, 0.7777777777777778, 0.8666666666666667, 0.9111111111111111, 0.7333333333333333, 0.7333333333333333, 0.26666666666666666, 0.26666666666666666, 0.26666666666666666, 0.26666666666666666, 0.26666666666666666, 0.26666666666666666]\n",
      "[66, 150, 14, 152, 113]\n"
     ]
    },
    {
     "name": "stdout",
     "output_type": "stream",
     "text": [
      "temps ecoule = 0.028806447982788086\n",
      "12\n",
      " les valeurs des scores obtenue : [0.8444444444444444, 0.8888888888888888, 0.8444444444444444, 0.8888888888888888, 0.8666666666666667, 0.8666666666666667, 0.8666666666666667, 0.8888888888888888, 0.8666666666666667, 0.8666666666666667, 0.8888888888888888, 0.8888888888888888, 0.8888888888888888, 0.8888888888888888, 0.8888888888888888, 0.8666666666666667, 0.8666666666666667, 0.8666666666666667, 0.8666666666666667, 0.8222222222222222, 0.7333333333333333, 0.6222222222222222, 0.7111111111111111, 0.35555555555555557, 0.4444444444444444, 0.6222222222222222, 0.4, 0.6444444444444445, 0.7777777777777778, 0.6222222222222222, 0.9111111111111111, 0.8444444444444444, 0.8666666666666667, 0.7777777777777778, 0.8, 0.7777777777777778, 0.8666666666666667, 0.9111111111111111, 0.7333333333333333, 0.7333333333333333, 0.26666666666666666, 0.26666666666666666, 0.26666666666666666, 0.26666666666666666, 0.26666666666666666, 0.26666666666666666, 0.35555555555555557]\n",
      "[66, 150, 14, 152, 113]\n",
      "temps ecoule = 0.03629565238952637\n",
      "12\n",
      " les valeurs des scores obtenue : [0.8444444444444444, 0.8888888888888888, 0.8444444444444444, 0.8888888888888888, 0.8666666666666667, 0.8666666666666667, 0.8666666666666667, 0.8888888888888888, 0.8666666666666667, 0.8666666666666667, 0.8888888888888888, 0.8888888888888888, 0.8888888888888888, 0.8888888888888888, 0.8888888888888888, 0.8666666666666667, 0.8666666666666667, 0.8666666666666667, 0.8666666666666667, 0.8222222222222222, 0.7333333333333333, 0.6222222222222222, 0.7111111111111111, 0.35555555555555557, 0.4444444444444444, 0.6222222222222222, 0.4, 0.6444444444444445, 0.7777777777777778, 0.6222222222222222, 0.9111111111111111, 0.8444444444444444, 0.8666666666666667, 0.7777777777777778, 0.8, 0.7777777777777778, 0.8666666666666667, 0.9111111111111111, 0.7333333333333333, 0.7333333333333333, 0.26666666666666666, 0.26666666666666666, 0.26666666666666666, 0.26666666666666666, 0.26666666666666666, 0.26666666666666666, 0.35555555555555557, 0.26666666666666666]\n",
      "[66, 150, 14, 152, 113]\n",
      "temps ecoule = 0.026523113250732422\n",
      "12\n",
      " les valeurs des scores obtenue : [0.8444444444444444, 0.8888888888888888, 0.8444444444444444, 0.8888888888888888, 0.8666666666666667, 0.8666666666666667, 0.8666666666666667, 0.8888888888888888, 0.8666666666666667, 0.8666666666666667, 0.8888888888888888, 0.8888888888888888, 0.8888888888888888, 0.8888888888888888, 0.8888888888888888, 0.8666666666666667, 0.8666666666666667, 0.8666666666666667, 0.8666666666666667, 0.8222222222222222, 0.7333333333333333, 0.6222222222222222, 0.7111111111111111, 0.35555555555555557, 0.4444444444444444, 0.6222222222222222, 0.4, 0.6444444444444445, 0.7777777777777778, 0.6222222222222222, 0.9111111111111111, 0.8444444444444444, 0.8666666666666667, 0.7777777777777778, 0.8, 0.7777777777777778, 0.8666666666666667, 0.9111111111111111, 0.7333333333333333, 0.7333333333333333, 0.26666666666666666, 0.26666666666666666, 0.26666666666666666, 0.26666666666666666, 0.26666666666666666, 0.26666666666666666, 0.35555555555555557, 0.26666666666666666, 0.37777777777777777]\n",
      "[66, 150, 14, 152, 113]\n",
      "temps ecoule = 0.0247037410736084\n",
      "12\n",
      " les valeurs des scores obtenue : [0.8444444444444444, 0.8888888888888888, 0.8444444444444444, 0.8888888888888888, 0.8666666666666667, 0.8666666666666667, 0.8666666666666667, 0.8888888888888888, 0.8666666666666667, 0.8666666666666667, 0.8888888888888888, 0.8888888888888888, 0.8888888888888888, 0.8888888888888888, 0.8888888888888888, 0.8666666666666667, 0.8666666666666667, 0.8666666666666667, 0.8666666666666667, 0.8222222222222222, 0.7333333333333333, 0.6222222222222222, 0.7111111111111111, 0.35555555555555557, 0.4444444444444444, 0.6222222222222222, 0.4, 0.6444444444444445, 0.7777777777777778, 0.6222222222222222, 0.9111111111111111, 0.8444444444444444, 0.8666666666666667, 0.7777777777777778, 0.8, 0.7777777777777778, 0.8666666666666667, 0.9111111111111111, 0.7333333333333333, 0.7333333333333333, 0.26666666666666666, 0.26666666666666666, 0.26666666666666666, 0.26666666666666666, 0.26666666666666666, 0.26666666666666666, 0.35555555555555557, 0.26666666666666666, 0.37777777777777777, 0.37777777777777777]\n"
     ]
    },
    {
     "data": {
      "text/plain": [
       "{'architecture_11': [66, 150, 14, 152, 113],\n",
       " 'architecture_10': [66, 150, 14, 152, 113],\n",
       " 'architecture_9': [66, 150, 14, 152, 113],\n",
       " 'architecture_8': [66, 150, 14, 152, 113],\n",
       " 'architecture_7': [66, 150, 14, 152, 113],\n",
       " 'architecture_6': [66, 150, 14, 152, 113],\n",
       " 'architecture_5': [66, 150, 14, 152, 113],\n",
       " 'architecture_4': [66, 150, 14, 152, 113],\n",
       " 'architecture_3': [66, 150, 14, 152, 113],\n",
       " 'architecture_2': [66, 150, 14, 152, 113]}"
      ]
     },
     "execution_count": 59,
     "metadata": {},
     "output_type": "execute_result"
    }
   ],
   "source": [
    "test_scorekk=[]\n",
    "nmbr_iterationkk=[]\n",
    "tempskk=[]\n",
    "dictresultatkk={}\n",
    "k=0\n",
    "for i in dictresultat.keys(): \n",
    "    for j in range(11,1,-1):\n",
    "        start_time = time.time()\n",
    "        clf_adam = MLPClassifier(solver='adam', hidden_layer_sizes=(dictresultat[i]), random_state=1,learning_rate_init=j) \n",
    "        print(dictresultat[i])\n",
    "        clf_adam.fit(X_train,y_train)\n",
    "        clf_adam.predict(X_test)\n",
    "        test_scorekk.append(clf_adam.score(X_test, y_test))\n",
    "        end_time = time.time()\n",
    "        print('temps ecoule = '+str(end_time - start_time))\n",
    "        print(clf_adam.n_iter_)\n",
    "        tempskk.append(end_time - start_time)\n",
    "        nmbr_iterationkk.append(clf_adam.n_iter_)\n",
    "        dictresultatkk['architecture_'+str(j)]=dictresultat[i]\n",
    "        k=k+1\n",
    "        print(\" les valeurs des scores obtenue :\" ,test_scorekk)\n",
    "dictresultatkk "
   ]
  },
  {
   "cell_type": "markdown",
   "id": "80465d86",
   "metadata": {},
   "source": [
    "Nous avons affiché les résultats sous forme du tableau suivant:"
   ]
  },
  {
   "cell_type": "code",
   "execution_count": 61,
   "id": "1a32d678",
   "metadata": {},
   "outputs": [
    {
     "data": {
      "text/html": [
       "<div>\n",
       "<style scoped>\n",
       "    .dataframe tbody tr th:only-of-type {\n",
       "        vertical-align: middle;\n",
       "    }\n",
       "\n",
       "    .dataframe tbody tr th {\n",
       "        vertical-align: top;\n",
       "    }\n",
       "\n",
       "    .dataframe thead th {\n",
       "        text-align: right;\n",
       "    }\n",
       "</style>\n",
       "<table border=\"1\" class=\"dataframe\">\n",
       "  <thead>\n",
       "    <tr style=\"text-align: right;\">\n",
       "      <th></th>\n",
       "      <th>model_adam_1</th>\n",
       "      <th>model_adam_2</th>\n",
       "      <th>model_adam_3</th>\n",
       "      <th>model_adam_4</th>\n",
       "      <th>model_adam_5</th>\n",
       "      <th>model_adam_6</th>\n",
       "      <th>model_adam_7</th>\n",
       "      <th>model_adam_8</th>\n",
       "      <th>model_adam_9</th>\n",
       "      <th>model_adam_10</th>\n",
       "      <th>...</th>\n",
       "      <th>model_adam_41</th>\n",
       "      <th>model_adam_42</th>\n",
       "      <th>model_adam_43</th>\n",
       "      <th>model_adam_44</th>\n",
       "      <th>model_adam_45</th>\n",
       "      <th>model_adam_46</th>\n",
       "      <th>model_adam_47</th>\n",
       "      <th>model_adam_48</th>\n",
       "      <th>model_adam_49</th>\n",
       "      <th>model_adam_50</th>\n",
       "    </tr>\n",
       "  </thead>\n",
       "  <tbody>\n",
       "    <tr>\n",
       "      <th>performances</th>\n",
       "      <td>0.844444</td>\n",
       "      <td>0.888889</td>\n",
       "      <td>0.844444</td>\n",
       "      <td>0.888889</td>\n",
       "      <td>0.866667</td>\n",
       "      <td>0.866667</td>\n",
       "      <td>0.866667</td>\n",
       "      <td>0.888889</td>\n",
       "      <td>0.866667</td>\n",
       "      <td>0.866667</td>\n",
       "      <td>...</td>\n",
       "      <td>0.266667</td>\n",
       "      <td>0.266667</td>\n",
       "      <td>0.266667</td>\n",
       "      <td>0.266667</td>\n",
       "      <td>0.266667</td>\n",
       "      <td>0.266667</td>\n",
       "      <td>0.355556</td>\n",
       "      <td>0.266667</td>\n",
       "      <td>0.377778</td>\n",
       "      <td>0.377778</td>\n",
       "    </tr>\n",
       "    <tr>\n",
       "      <th>nombre d'itérations</th>\n",
       "      <td>12.000000</td>\n",
       "      <td>12.000000</td>\n",
       "      <td>12.000000</td>\n",
       "      <td>12.000000</td>\n",
       "      <td>12.000000</td>\n",
       "      <td>12.000000</td>\n",
       "      <td>12.000000</td>\n",
       "      <td>12.000000</td>\n",
       "      <td>12.000000</td>\n",
       "      <td>12.000000</td>\n",
       "      <td>...</td>\n",
       "      <td>12.000000</td>\n",
       "      <td>12.000000</td>\n",
       "      <td>12.000000</td>\n",
       "      <td>12.000000</td>\n",
       "      <td>12.000000</td>\n",
       "      <td>12.000000</td>\n",
       "      <td>12.000000</td>\n",
       "      <td>12.000000</td>\n",
       "      <td>12.000000</td>\n",
       "      <td>12.000000</td>\n",
       "    </tr>\n",
       "    <tr>\n",
       "      <th>temps de convergence</th>\n",
       "      <td>0.008740</td>\n",
       "      <td>0.008193</td>\n",
       "      <td>0.008086</td>\n",
       "      <td>0.008421</td>\n",
       "      <td>0.007835</td>\n",
       "      <td>0.007418</td>\n",
       "      <td>0.006600</td>\n",
       "      <td>0.006773</td>\n",
       "      <td>0.006879</td>\n",
       "      <td>0.006828</td>\n",
       "      <td>...</td>\n",
       "      <td>0.022309</td>\n",
       "      <td>0.022306</td>\n",
       "      <td>0.022383</td>\n",
       "      <td>0.022354</td>\n",
       "      <td>0.022338</td>\n",
       "      <td>0.022336</td>\n",
       "      <td>0.028806</td>\n",
       "      <td>0.036296</td>\n",
       "      <td>0.026523</td>\n",
       "      <td>0.024704</td>\n",
       "    </tr>\n",
       "  </tbody>\n",
       "</table>\n",
       "<p>3 rows × 50 columns</p>\n",
       "</div>"
      ],
      "text/plain": [
       "                       model_adam_1   model_adam_2   model_adam_3  \\\n",
       "performances               0.844444       0.888889       0.844444   \n",
       "nombre d'itérations       12.000000      12.000000      12.000000   \n",
       "temps de convergence       0.008740       0.008193       0.008086   \n",
       "\n",
       "                       model_adam_4   model_adam_5   model_adam_6  \\\n",
       "performances               0.888889       0.866667       0.866667   \n",
       "nombre d'itérations       12.000000      12.000000      12.000000   \n",
       "temps de convergence       0.008421       0.007835       0.007418   \n",
       "\n",
       "                       model_adam_7   model_adam_8   model_adam_9  \\\n",
       "performances               0.866667       0.888889       0.866667   \n",
       "nombre d'itérations       12.000000      12.000000      12.000000   \n",
       "temps de convergence       0.006600       0.006773       0.006879   \n",
       "\n",
       "                       model_adam_10  ...   model_adam_41   model_adam_42  \\\n",
       "performances                0.866667  ...        0.266667        0.266667   \n",
       "nombre d'itérations        12.000000  ...       12.000000       12.000000   \n",
       "temps de convergence        0.006828  ...        0.022309        0.022306   \n",
       "\n",
       "                       model_adam_43   model_adam_44   model_adam_45  \\\n",
       "performances                0.266667        0.266667        0.266667   \n",
       "nombre d'itérations        12.000000       12.000000       12.000000   \n",
       "temps de convergence        0.022383        0.022354        0.022338   \n",
       "\n",
       "                       model_adam_46   model_adam_47   model_adam_48  \\\n",
       "performances                0.266667        0.355556        0.266667   \n",
       "nombre d'itérations        12.000000       12.000000       12.000000   \n",
       "temps de convergence        0.022336        0.028806        0.036296   \n",
       "\n",
       "                       model_adam_49   model_adam_50  \n",
       "performances                0.377778        0.377778  \n",
       "nombre d'itérations        12.000000       12.000000  \n",
       "temps de convergence        0.026523        0.024704  \n",
       "\n",
       "[3 rows x 50 columns]"
      ]
     },
     "execution_count": 61,
     "metadata": {},
     "output_type": "execute_result"
    }
   ],
   "source": [
    "liste=[]\n",
    "for i in range(1,51):\n",
    "    liste.append(\" model_adam_\"+str(i))   \n",
    "arkk = np.array([test_scorekk, nmbr_iterationkk, tempskk])\n",
    "dfkk = pd.DataFrame(arkk, index = ['performances', \n",
    "    \"nombre d'itérations\", 'temps de convergence'], columns = liste)\n",
    "dfkk"
   ]
  },
  {
   "cell_type": "code",
   "execution_count": 62,
   "id": "8afefd16",
   "metadata": {},
   "outputs": [
    {
     "data": {
      "text/plain": [
       "Text(0, 0.5, 'score de test')"
      ]
     },
     "execution_count": 62,
     "metadata": {},
     "output_type": "execute_result"
    },
    {
     "data": {
      "image/png": "[encoded data removed]",
      "text/plain": [
       "<Figure size 432x288 with 1 Axes>"
      ]
     },
     "metadata": {
      "needs_background": "light"
     },
     "output_type": "display_data"
    }
   ],
   "source": [
    "import matplotlib.pyplot as plt\n",
    "plt.plot(range(len(dfkk.loc['temps de convergence'])), dfkk.loc['performances'])\n",
    "#plt.plot(range(len(dfk.loc['performances'])), dfk.loc[\"nombre d'itérations\"])\n",
    "plt.xlabel(\"temps de convergence\")\n",
    "plt.ylabel('score de test')"
   ]
  },
  {
   "cell_type": "markdown",
   "id": "b550a0f8",
   "metadata": {},
   "source": [
    "pour le classiffieur adam il nous a donnée  des résultats \n",
    "\n",
    "beacoup mieux  pour une valeure de LR  plus elevé"
   ]
  },
  {
   "cell_type": "markdown",
   "id": "1cc851d4",
   "metadata": {},
   "source": [
    "#### Remarque :\n",
    "    \n",
    "- cas de sgd:\n",
    "\n",
    "   -Nous avons  obtenus des resultat de score sont plus \n",
    "   \n",
    "    en plus meilleur que celles du svm(m) qui a depassé \n",
    "    \n",
    "    97 pourcent, mais il prend un peu plus de temps.\n",
    "    \n",
    "   \n",
    "- cas de adam:\n",
    "\n",
    "   -Nous avons  realisé un trés bon score qui dépasse 95 \n",
    "   \n",
    "     pourcent dans un court laps de temps (0.02s)\n"
   ]
  },
  {
   "cell_type": "markdown",
   "id": "299889f1",
   "metadata": {},
   "source": [
    "#### la meilleur architechture qu'on a obtenu:    "
   ]
  },
  {
   "cell_type": "code",
   "execution_count": 63,
   "id": "fc1c71f6",
   "metadata": {},
   "outputs": [
    {
     "data": {
      "text/plain": [
       "{'n_layers_:': 4,\n",
       " ' n_outputs_,:': 3,\n",
       " 'out_activation_:': 'softmax',\n",
       " 'coefs_:': [array([[ 15.26124762,   6.62949586,   6.80201705,   5.27070518,\n",
       "            6.54032508,  -2.33821296,  10.2302044 ,  19.74552033,\n",
       "            3.99493411,  15.53770749,  16.03535247,  14.76831971,\n",
       "            0.43874201,  -2.55118081,   0.34506054,   6.48657298,\n",
       "            1.69592149,  16.61012889,  -1.4779928 ,  10.02982725,\n",
       "           10.61810904, -11.97613139,   7.32747069,   8.05798675,\n",
       "           16.01206217,   9.36295827,   5.93052821,   1.06430735,\n",
       "          -20.84633143,  11.44929634,  14.64238579,   2.45129301,\n",
       "           14.06380522,   4.15408972,   7.93781282,  -3.14266135,\n",
       "           17.17638969,  26.64535091,   2.13741466,   7.27616114,\n",
       "            5.37367255,   5.23754594,   7.71732889,   7.08003931,\n",
       "           -0.50136124,   9.86547001,   0.83608156,   6.41494386,\n",
       "            4.47814057, -21.16589566,   9.20542381,   5.93627516,\n",
       "            2.97759669,  10.82813803,   4.94944466, -13.32162333,\n",
       "          -14.25507883,   6.10720246,   8.26830638, -10.70887053,\n",
       "          -18.29825812,  19.05697094,   3.80961686,   8.29048662,\n",
       "           17.91776068,   4.63188437,   8.55708955,  13.95713801,\n",
       "           13.28894237,   7.80266921,  16.97700353, -13.33546964,\n",
       "            6.26820135,   9.85208852,   6.69855571,   4.54133467,\n",
       "           16.5476638 ,   9.85070811,  -4.08056091,   6.67421336,\n",
       "            7.03983671,   5.82595257,  -0.92443226,   7.79426005,\n",
       "            2.38218354,   6.07889529,   9.5676151 ,   6.2319573 ,\n",
       "            8.57554376,   8.62512581,   3.5509369 ,   5.33291268,\n",
       "            7.08503534,  16.84981149,  -0.11163549,   3.40063284,\n",
       "           10.5804994 ,  15.4539121 ,   8.12442945,  16.48447373,\n",
       "            6.79638547,   6.51947451,  16.9295705 ,  10.96391586,\n",
       "            7.86317519,   9.24937098,   5.84859002,  17.29584856,\n",
       "           14.76539432,   8.17929363,   1.97788889,  -1.07444716,\n",
       "           19.62519885,   7.34848233,   9.86921296,  16.40708087,\n",
       "            8.7954674 ,   9.82037919,   5.59971855,  11.40534259,\n",
       "           -0.67583151,  15.36998215,  18.59828886,   5.54727441,\n",
       "            2.08226508,   2.34759884, -10.32701416,  19.97878991,\n",
       "            9.53977345,  18.91876538,   8.44173577,   7.78959378,\n",
       "           11.50308117,   7.6982668 ,  17.81386661,  14.70857066,\n",
       "            4.72607823,   7.34758153,  -4.93585637,  20.10694454,\n",
       "           10.91944926, -11.67951311,  16.21324091,   5.71430228,\n",
       "           12.86168501,   6.87375232,   8.99896738,  15.95063257,\n",
       "           -2.56521569,   6.51175268,   6.08715647,   9.31720264,\n",
       "           19.03096604,   5.16236892,  17.17051222],\n",
       "         [-14.68352548, -10.30086788,   9.03778977,  -1.38480242,\n",
       "          -11.69178841, -11.19864923, -12.13686119,  -6.08619962,\n",
       "          -17.02846679,   4.6286894 ,  -2.35554812,  10.76987668,\n",
       "          -11.74416956,  16.02637901, -13.17762037,  -5.14153484,\n",
       "           24.52982303, -19.12517784,  -7.63475608,  16.03972406,\n",
       "          -11.46746916,   5.88349583, -12.16199377,  -6.00015356,\n",
       "          -32.32522671, -11.48879536, -12.8762406 ,  13.41281174,\n",
       "           22.24541404,  16.67381458,  -4.46932181,  -8.13562513,\n",
       "          -14.24631274,  16.88718903, -11.66942875,  -3.03942195,\n",
       "          -26.18669571,   1.69677466, -14.28633927,  -7.18594564,\n",
       "          -11.65580225,  -4.82852723, -12.04833868,  -9.73835288,\n",
       "           14.11471724, -11.40817076,  -9.79161151,  13.87038563,\n",
       "          -13.29255665,  26.33762061,   0.78029435,  -7.67174846,\n",
       "          -14.37977821,   2.00096345, -11.19776798,   9.46183424,\n",
       "           -2.77290117, -14.88674408,  -6.65855669,  15.14493098,\n",
       "            6.9832412 ,  -5.98559892,   9.02837926, -15.82220545,\n",
       "           -4.42879254,  -5.24580963,  -6.84770241, -30.2329641 ,\n",
       "           18.49298401,  -5.34616046, -11.15276145,  25.64391083,\n",
       "          -12.86162169,   4.75654627, -11.14698434,   6.66731183,\n",
       "           19.65192799, -11.7804925 , -12.33506669, -11.51054451,\n",
       "           13.2127721 , -13.93456421, -12.36459899,   9.97797376,\n",
       "          -18.41543636,  -5.94533602,   3.71024644, -12.72774859,\n",
       "           -6.43963545, -11.49629118,  -3.88354484,  -9.28694965,\n",
       "          -11.68446224, -10.23610288, -12.34578478,  -9.60348543,\n",
       "          -13.95622083,   5.13451302,  11.74926626, -18.77011173,\n",
       "          -11.12751474, -10.0800894 , -19.92353017, -17.33483479,\n",
       "          -13.59612492,  -3.66536363, -12.78424563, -19.27801099,\n",
       "           17.38268214, -12.66301167,  21.61923842,  14.71374938,\n",
       "           -2.27635469, -12.6489732 , -12.19373544, -19.68188517,\n",
       "          -12.21855162, -19.34788845,   6.9601095 , -11.28720969,\n",
       "          -12.83163925, -23.55789645,  -4.79851882,   4.01614002,\n",
       "           20.2664308 ,  -7.85584902,   4.75499737,   0.31846266,\n",
       "          -12.01163659,  -5.76926306, -11.2310996 ,  12.447142  ,\n",
       "          -11.96259654, -11.97620042, -19.67292726, -17.81145787,\n",
       "          -12.00576721,  10.68062515,  16.32905914,  -5.67526363,\n",
       "            4.09876025,   6.37037306, -27.14442721,   7.44540518,\n",
       "          -15.05228413, -11.32904897,  15.82429648, -14.10499048,\n",
       "          -11.37852578, -16.70559999, -12.18387341,  -8.19995179,\n",
       "           -5.6043041 ,   9.18050785, -26.14115149],\n",
       "         [  7.24182426,   9.20139521,  -4.19656804,  -6.22654432,\n",
       "            7.90212808,   6.2390528 ,  10.9737457 ,  16.66708528,\n",
       "            4.53855526,   6.91263858,  11.47662599,   5.65901564,\n",
       "            5.30611426, -12.93200945,   6.18540254,   7.34168526,\n",
       "           -1.74794038,   8.13740357,  -1.31421412,  -5.48503916,\n",
       "           10.85626718, -18.16055241,   8.50658619,   7.98396073,\n",
       "           15.68149293,   9.79127411,   0.49063629,  -9.11365739,\n",
       "          -21.03379694,   6.51211085,   5.99121013,   6.3754748 ,\n",
       "            8.85200862,  -0.76825062,   8.81934934,  -4.88328794,\n",
       "           16.01878453,  27.38985528,   5.64682208,   1.02665596,\n",
       "            9.10669286,   6.17080924,   8.78921648,  15.38619039,\n",
       "          -10.38864077,  10.4146763 ,   4.42006843,  -6.71713571,\n",
       "            7.94176197, -23.87979784,   1.68302778,  12.31309762,\n",
       "            6.70011988,   2.66856372,   8.92490236, -16.68706163,\n",
       "          -12.84647747,   4.24204623,   8.62262331, -11.29821145,\n",
       "          -15.25862388,  16.13619763,  -5.5925981 ,  12.50049239,\n",
       "           14.52193305,   5.74847592,   8.66985902,  13.51124796,\n",
       "            3.74579617,   7.7322539 ,  14.78348403, -17.02710205,\n",
       "           10.37762089,   0.53527794,   7.92198802,  -3.65539687,\n",
       "            7.69807991,  10.52558758,   1.07966612,   7.93253863,\n",
       "           -6.29731319,   3.82417672,   4.24369078,  -3.86754107,\n",
       "            3.13224009,   6.02237195,   0.81217946,   9.88206909,\n",
       "            8.50768742,   9.51713525,  -7.43103314,   7.99090829,\n",
       "            8.16611168,  10.28650439,   3.98885248,  -5.15140474,\n",
       "           11.36857531,   6.31139254,  -4.520545  ,   7.8638484 ,\n",
       "            7.98431375,   9.31301961,   8.56385835,   6.75157715,\n",
       "           11.24048877,  -0.17598499,  10.07715868,   8.68459471,\n",
       "            6.0639043 ,  11.09429343,   6.09635709, -11.31765146,\n",
       "            8.83086708,   7.5984317 ,  10.61318421,   7.97497304,\n",
       "            9.44446301,   8.28548915,  -2.76669814,  11.74985731,\n",
       "            5.18931642,  13.89455191,  15.77004919,  -2.16303258,\n",
       "           -4.88875626,  12.45310387, -11.78139938,   7.77040943,\n",
       "            9.91817354,  16.10401917,   9.40151251,  -5.51979726,\n",
       "           11.76459198,   8.78860298,   9.45682972,   7.16522596,\n",
       "            8.85116556,  -4.17184843, -14.71204326,  16.40517249,\n",
       "            1.83037325, -17.99871024,  15.44689228,  -2.32852747,\n",
       "            7.40227759,   8.33169375,  -1.27651841,   7.63370935,\n",
       "            2.61222398,   6.9585476 ,   8.71173832,   9.70488599,\n",
       "           15.91657385,  -4.91290117,  16.2061619 ],\n",
       "         [ 16.17851863,   9.84264639,  -4.58937128,  -4.27747896,\n",
       "            7.43225774,   7.36216686,  10.72718139,   8.21993543,\n",
       "            4.1610878 ,  10.14060498,   3.41416182,  10.36163594,\n",
       "            7.61245737, -12.74658444,   8.43474805,   9.58455126,\n",
       "           23.96555092,  16.91064439,  -1.49330817,  -5.77722693,\n",
       "           11.05865966, -12.62719316,   7.96663477,   8.04084726,\n",
       "           10.35919931,   9.83690939,   1.25635807,  -9.22878594,\n",
       "          -21.3176399 ,  10.43375223,  14.73115581,   7.55549362,\n",
       "           10.17647016,   4.05927487,   8.51600645,  -4.38141406,\n",
       "           11.523898  ,  26.47138657,   4.45865704,   3.65773148,\n",
       "           10.49657518,   6.60981767,   8.33896432,  20.06406227,\n",
       "          -10.35722353,  10.43066484,  24.45934492,  -7.08938718,\n",
       "            8.18469372, -24.14128882,   2.45903676,  12.81795702,\n",
       "            5.7326341 ,   3.42270477,  10.20604945, -10.70687522,\n",
       "            3.12810918,   0.68770334,   8.92177482,  -9.23083426,\n",
       "          -15.11870529,   7.99307506,  -4.62428371,  13.44567487,\n",
       "            6.85637937,   6.3853327 ,   8.43892779,   8.30434093,\n",
       "            9.11280439,   8.03270363,  15.40065197,  -4.68047395,\n",
       "           11.59120901,   1.35647552,   7.55914518,  -2.50061149,\n",
       "            0.2546411 ,  10.38149566,   2.13261648,   7.35481503,\n",
       "           -6.60462832,   0.46394317,   6.57062711,  -3.60310245,\n",
       "            2.44974492,   5.38534503,   1.60049876,  11.02842324,\n",
       "            8.57794787,   9.14955306,  -7.48166933,   8.51914803,\n",
       "            7.99810583,  14.66160509,   5.79751207,  -6.69630016,\n",
       "           12.26120744,  10.16748886,  -4.7391463 ,  16.82752808,\n",
       "            7.8449902 ,  10.0851567 ,  17.4319191 ,   9.15682052,\n",
       "           12.09903047,   1.75853762,  11.56273971,  17.59777027,\n",
       "           11.59847126,  12.13975496,   2.47216927, -11.07437503,\n",
       "            9.242837  ,   7.55992306,  10.39759982,  17.2033296 ,\n",
       "            9.19448034,   4.54582097,  -1.76581366,  11.79589612,\n",
       "            7.37249545,   8.95998921,   7.72795425,  -1.29059481,\n",
       "           -0.60440327,  14.42845878,  -7.71199745,   8.11258715,\n",
       "            9.66475678,   8.07668399,   9.04756423,  -5.67100115,\n",
       "           11.70949171,   8.40713446,  18.19408697,  16.08654554,\n",
       "           10.46152628,  -4.32658166, -14.66621309,   7.89916914,\n",
       "            5.07607697, -12.57363681,   9.89970866,  -1.57445747,\n",
       "            9.06220011,   7.80876587,   2.81502341,  17.23867031,\n",
       "            5.47509491,   6.60393132,   9.79531651,   9.63356411,\n",
       "            7.85957817,  -4.84946707,  10.99773702]]),\n",
       "  array([[-11.85087683, -29.40767783,   0.63999153, ..., -21.34730303,\n",
       "            5.12755118, -11.15555185],\n",
       "         [-12.97972655, -26.63932687,   0.75687506, ..., -30.99173354,\n",
       "           -9.83836782, -15.73402663],\n",
       "         [-19.31960736, -17.40901363, -17.49124171, ..., -10.85443795,\n",
       "           -0.75872597, -28.10644885],\n",
       "         ...,\n",
       "         [-11.9187108 , -17.27556201, -17.45055034, ..., -13.12367672,\n",
       "            0.80632873, -19.79188331],\n",
       "         [-17.94092829, -17.26734145, -17.49732013, ..., -10.84742308,\n",
       "           -0.46045228, -28.16383535],\n",
       "         [-12.21894882, -17.29676671, -29.35373578, ..., -21.81832603,\n",
       "           -0.25267989, -11.20772282]]),\n",
       "  array([[ 7.40267495e+00, -7.15301922e+00,  1.59878640e+00],\n",
       "         [-1.72194425e+01,  1.74033416e+01,  1.71294441e+01],\n",
       "         [-1.73517984e+01,  1.73732795e+01,  1.74526291e+01],\n",
       "         [ 1.03474278e+01, -1.33940789e+01,  7.98600396e+00],\n",
       "         [-1.74203718e+01,  1.72101298e+01,  1.72965613e+01],\n",
       "         [-1.75280170e+01,  1.96683831e+01, -3.70235550e+01],\n",
       "         [ 1.71698276e+01, -2.02058035e+01,  1.18339025e+00],\n",
       "         [ 3.67870201e+01, -2.63607329e+01, -6.54750004e+00],\n",
       "         [ 1.00664081e+01, -8.98828483e+00,  5.74859194e-01],\n",
       "         [ 1.71043431e+00, -2.61069425e+01, -1.73250083e+00],\n",
       "         [ 2.01090320e+01, -3.11266295e+01, -9.60755159e+00],\n",
       "         [ 1.85904374e+01, -1.45502575e+01, -1.13853713e+01],\n",
       "         [ 2.68164151e+01, -2.66103783e+01, -1.54925441e+01],\n",
       "         [ 1.61530643e+01, -1.55873342e+01, -7.45487782e+00],\n",
       "         [ 1.42129576e+01, -2.34705381e+01, -2.34912547e+00],\n",
       "         [ 6.48771264e+00, -4.25232845e-03,  9.53533254e+00],\n",
       "         [ 2.74307636e+01, -2.78516010e+01, -3.16569224e+00],\n",
       "         [-2.68964543e+01, -2.66218749e+01,  2.68089208e+01],\n",
       "         [ 1.24920116e+01,  1.73849405e+01, -3.29361363e+01],\n",
       "         [-1.76098253e+01,  1.83440817e+01,  2.31677934e+01],\n",
       "         [-2.67384914e+01,  2.30310232e+01,  2.69111801e+01],\n",
       "         [ 9.59182563e+00, -9.11126666e+00,  1.77193659e+00],\n",
       "         [-2.52910601e+01,  2.74496395e+00,  1.18957351e+01],\n",
       "         [ 1.46228070e+01, -5.14492474e+00, -1.57725887e+00],\n",
       "         [-1.74683330e+01,  2.25561429e+01, -3.85373617e+01],\n",
       "         [-5.74848165e+00, -8.63977422e+00,  1.41494657e+01],\n",
       "         [ 8.93724825e+00, -9.36868866e+00, -6.27951990e+00],\n",
       "         [ 1.74670244e+01, -1.74773969e+01, -6.58899270e+00],\n",
       "         [ 1.25326079e+01,  1.72501899e+01, -3.30442734e+01],\n",
       "         [ 2.66573991e+01, -2.63369458e+01, -2.64797673e+01],\n",
       "         [-1.72716416e+01,  1.73461954e+01,  1.72043261e+01],\n",
       "         [-1.72390457e+01,  2.93202533e+01,  1.72829143e+01],\n",
       "         [ 2.61499642e+01, -2.62856572e+01, -1.50016247e+01],\n",
       "         [-6.74165744e-01,  2.70026633e+01, -1.40991721e+00],\n",
       "         [ 2.50898427e+00, -9.25181643e-01, -8.33313383e+00],\n",
       "         [ 1.48155080e+01, -3.08776305e+01, -1.72340058e+00],\n",
       "         [-1.71525460e+01,  2.95476773e+01,  1.71993830e+01],\n",
       "         [ 1.25388597e+01, -1.35479111e+01, -8.03452144e+00],\n",
       "         [ 8.96415620e+00,  1.74769716e+01, -3.68236934e+01],\n",
       "         [-1.12729858e+01,  1.72268358e+01, -4.46911661e+01],\n",
       "         [ 1.40544981e+01, -1.10585696e+01, -1.86480236e+00],\n",
       "         [-1.73671995e+01,  1.72616475e+01,  1.73308916e+01],\n",
       "         [ 1.77628980e+01, -1.71013689e+01,  4.43614054e+00],\n",
       "         [-1.25052520e+01,  3.17726335e+01, -1.72263364e+01],\n",
       "         [-2.67901827e+01, -2.62757630e+01,  2.68580733e+01],\n",
       "         [ 1.41301576e+01, -1.08631242e+01, -3.29833731e+01],\n",
       "         [ 3.88479028e+00, -3.13467590e+00, -7.12765089e+00],\n",
       "         [ 1.64585748e+01, -1.55491598e+01, -7.78925471e+00],\n",
       "         [-1.73071147e+01,  1.72844358e+01,  1.74073565e+01],\n",
       "         [ 1.71655366e+00,  2.68387316e+01, -1.70467032e+00],\n",
       "         [ 2.64424475e+01, -2.56503879e+01, -2.59544980e+01],\n",
       "         [-2.68311674e+01,  4.09333965e+00,  1.16422859e+01],\n",
       "         [ 1.77890735e+01, -1.50621317e+01,  2.20324184e+01],\n",
       "         [ 2.68507063e+01, -2.69893021e+01, -2.67792673e+01],\n",
       "         [ 2.67747750e+01,  1.65047076e+01, -2.84568025e+01],\n",
       "         [-2.30425823e+01,  2.15692816e+01, -2.16324003e+01],\n",
       "         [-1.73253461e+01,  1.72964667e+01,  1.74928233e+01],\n",
       "         [ 1.65428614e+01, -1.54422446e+01, -7.32841339e+00],\n",
       "         [ 1.89783179e+01, -2.28583576e+01,  1.91893131e+01],\n",
       "         [ 1.31113039e+01, -8.65717102e+00, -5.01057254e-01],\n",
       "         [-1.71909499e+01,  1.70824721e+01,  1.73915049e+01],\n",
       "         [-8.21840659e+00, -6.30514377e+00,  1.40217397e+01],\n",
       "         [-3.79879296e+00, -1.03593944e+01,  4.42485567e+00],\n",
       "         [ 2.32242470e+01, -9.95063347e+00, -7.96115167e+00],\n",
       "         [-1.73085353e+01,  1.75695778e+01, -2.93336118e+01],\n",
       "         [ 1.44581791e+01, -4.61005974e+00, -1.73378005e+01],\n",
       "         [ 5.17407719e+00, -4.47206313e+00, -2.19618712e+01],\n",
       "         [ 1.63261901e+01, -1.57050553e+01, -7.61487791e+00],\n",
       "         [-2.67985344e+01,  2.93192596e+01, -1.71795461e+01],\n",
       "         [-1.73949688e+01,  2.19898003e+01, -3.86327488e+01],\n",
       "         [-1.72406175e+01,  1.74718605e+01,  1.74107432e+01],\n",
       "         [-2.68813314e+01,  2.60557019e+01,  2.69583090e+01],\n",
       "         [ 6.46281573e+00, -2.99669725e+00,  8.70894089e+00],\n",
       "         [ 1.80756293e+00,  2.65017139e+01, -3.29020133e+01],\n",
       "         [-7.80957098e+00, -7.12005737e+00,  1.43930584e+01],\n",
       "         [-2.19178852e+01,  1.68159405e+01, -1.79026347e+01],\n",
       "         [ 8.94001548e+00,  8.44598905e+00, -1.05914613e+01],\n",
       "         [-9.79401099e+00, -3.93791870e+00,  1.27424573e+01],\n",
       "         [ 2.12843964e+01, -1.85870095e+01, -1.04927248e+01],\n",
       "         [ 8.94191737e+00, -4.86359076e+00,  8.95653717e+00],\n",
       "         [ 2.67699934e+01,  1.64265000e+01, -2.82451646e+01],\n",
       "         [ 1.71218687e+01, -1.10825429e+01, -1.71201487e+00],\n",
       "         [ 1.79171119e+00, -2.68493304e+01, -1.67353784e+00],\n",
       "         [-1.72195600e+01,  1.73635563e+01,  1.72226040e+01],\n",
       "         [ 1.76791813e-01, -1.75914378e+01, -4.19675212e-01],\n",
       "         [-3.75126848e-01, -1.22366829e+01,  1.27349443e+01],\n",
       "         [ 1.62450486e+01, -1.55861763e+01, -7.15718510e+00],\n",
       "         [-2.15869414e+01,  2.29954667e+01, -2.28999358e+01],\n",
       "         [ 7.41398565e+00,  5.58808160e+00,  5.82570594e+00],\n",
       "         [ 1.41991818e+01, -2.40965114e+01, -2.58508866e+00],\n",
       "         [ 3.54089275e+01, -2.53441459e+01, -3.14679088e+01],\n",
       "         [-2.17053740e+01,  2.17934651e+01, -2.28506797e+01],\n",
       "         [ 1.72337571e+01, -1.22770498e+01,  3.44678509e+00],\n",
       "         [ 3.28209663e+00, -5.85693457e+00,  1.34303724e+01],\n",
       "         [ 1.43937790e+01, -2.39009360e+01, -2.68773981e+00],\n",
       "         [-2.27273994e+00, -1.45922324e+00, -5.05533059e+00],\n",
       "         [-1.73934240e+01,  1.72143310e+01,  1.73619975e+01],\n",
       "         [ 1.84389444e+01, -1.16452022e+01,  4.77995578e+00],\n",
       "         [ 6.61398371e+00, -6.72010858e+00,  2.13921147e+00],\n",
       "         [-1.74346368e+01,  1.71412266e+01,  1.71960463e+01],\n",
       "         [ 7.62840307e+00, -1.03113481e+00,  9.58181789e+00],\n",
       "         [-2.66855193e+01,  3.09369965e+01, -1.08626925e+01],\n",
       "         [ 2.12377428e+01, -8.60717966e+00, -4.94731733e+00],\n",
       "         [-2.16304828e+01, -1.86637930e+01,  2.36577520e+01],\n",
       "         [-2.60255214e+01,  2.64677536e+01, -2.57946709e+01],\n",
       "         [ 2.61892895e+01, -1.15224277e+01, -8.29521698e+00],\n",
       "         [ 1.05517115e+01, -1.25758829e+01,  6.53812859e+00],\n",
       "         [ 1.34158890e+01, -6.34981036e+00, -3.78353126e+00],\n",
       "         [-2.78881740e+00,  1.02521235e+01, -1.58238503e+01],\n",
       "         [-1.35667172e+01,  1.90709986e+01, -1.20532177e+01],\n",
       "         [-2.65243259e+01, -2.64750852e+01,  2.69150624e+01],\n",
       "         [-2.31233283e+01,  2.23129369e+01, -2.17219349e+01],\n",
       "         [ 1.41448643e+01, -1.09196505e+01, -7.62963328e+00],\n",
       "         [ 1.54068787e+01, -8.80502152e+00, -3.90541199e+00],\n",
       "         [-2.36785785e+01,  1.78100170e+00,  9.08407839e+00],\n",
       "         [ 2.68496821e+01, -2.75221105e+01, -1.49319603e+01],\n",
       "         [ 1.61065812e+01, -1.66485522e+01, -8.58942050e+00],\n",
       "         [ 2.69515042e+01, -2.68172222e+01, -2.70530788e+01],\n",
       "         [ 1.72793883e+01, -1.80515365e+01, -1.13095377e+01],\n",
       "         [-1.73109521e+01,  1.73164379e+01,  1.75258730e+01],\n",
       "         [ 1.60233463e+01, -1.53466619e+01, -7.11116898e+00],\n",
       "         [ 1.98663243e+01, -1.80739358e+01, -1.02919785e+01],\n",
       "         [ 2.52903712e+01, -2.33684644e+01, -2.35563757e+01],\n",
       "         [ 7.82599394e+00, -7.22910952e+00,  1.15442939e+00],\n",
       "         [-2.69929705e+01,  1.80170082e+00, -1.63038094e+00],\n",
       "         [-1.08628406e+01,  1.94839842e+01, -2.91456431e+01],\n",
       "         [ 4.56211439e+00, -5.50396658e+00,  3.25149979e+00],\n",
       "         [ 2.18305856e+01, -3.10735564e+01, -9.07312657e+00],\n",
       "         [ 1.20887946e+01, -1.21986945e+01, -8.84726657e+00],\n",
       "         [-1.73613233e+01,  1.72124311e+01,  1.74282855e+01],\n",
       "         [-2.57342570e+01,  2.63027671e+01, -2.57440968e+01],\n",
       "         [-1.72568948e+01,  1.75348736e+01,  1.73427771e+01],\n",
       "         [ 1.61241301e+01, -1.63502096e+01, -8.17953953e+00],\n",
       "         [-2.67773675e+01, -2.66519869e+01,  2.69123371e+01],\n",
       "         [-1.43949742e+01,  1.73776978e+01, -2.92260757e+01],\n",
       "         [ 1.43779035e+01, -3.92873793e+00, -1.60837791e+01],\n",
       "         [ 1.59989916e+01, -1.46494760e+01, -8.80964685e+00],\n",
       "         [-2.47878529e+01,  2.74877082e+00,  9.79637683e+00],\n",
       "         [-1.73791968e+01,  1.97930400e+01, -3.44410023e+01],\n",
       "         [-1.72952740e+01,  2.29174760e+01, -3.72354734e+01],\n",
       "         [-1.93143606e+01, -4.45994812e+00,  5.29096182e+00],\n",
       "         [ 6.96395326e+00, -2.51391175e+00,  8.61551683e+00],\n",
       "         [-2.64867375e+01,  2.48375570e+01,  2.64687247e+01],\n",
       "         [-3.41317099e+01,  8.25729827e-01, -5.39972848e-01],\n",
       "         [-1.73584369e+01, -7.14056280e+00, -3.73565265e+00],\n",
       "         [ 2.68541634e+01, -2.69483162e+01, -2.70546774e+01],\n",
       "         [ 1.75900229e+01, -1.58184539e+01, -1.49126791e+01],\n",
       "         [-3.12536382e+00, -1.05170954e+01,  1.37317084e+01],\n",
       "         [ 2.68692710e+01, -2.66224112e+01, -2.66881909e+01],\n",
       "         [-2.95242160e+01,  1.74765583e+01, -1.74079934e+01],\n",
       "         [-1.13565232e+01, -2.45328197e+00,  1.28480494e+01],\n",
       "         [-2.68595151e+01, -2.63976991e+01,  2.68196314e+01],\n",
       "         [ 1.21767669e+01, -4.88582408e+00,  4.99850174e+00],\n",
       "         [-2.69146596e+01, -2.67464604e+01,  2.69468438e+01],\n",
       "         [ 2.69827860e+01, -2.70601623e+01, -2.69491151e+01],\n",
       "         [-1.72237770e+01,  1.73312739e+01,  1.73229380e+01],\n",
       "         [-2.68724921e+01,  2.68278571e+01, -2.65982064e+01],\n",
       "         [ 4.38980125e+00, -2.93780673e+00,  1.04178493e+01],\n",
       "         [ 2.21382877e+01, -1.00838662e+01, -2.87601312e+00],\n",
       "         [-1.74671798e+01,  2.19980335e+01, -3.63867222e+01],\n",
       "         [ 5.64479741e+00, -1.72613441e+00,  1.04666272e+01],\n",
       "         [-1.21431533e+00, -1.18019600e+01,  1.31113711e+01],\n",
       "         [-1.68351486e+01, -9.56603316e+00, -1.48953256e+00],\n",
       "         [ 1.64793541e+01, -1.60219516e+01, -6.60424156e+00],\n",
       "         [ 1.76234188e+01, -1.46801377e+01,  2.16561081e+01],\n",
       "         [ 1.83393818e+01, -1.60511094e+01, -9.00137028e+00],\n",
       "         [ 1.74620600e+01, -1.64445884e+01, -7.86098895e+00],\n",
       "         [ 8.73745243e+00,  2.34243464e+01, -8.65148538e+00],\n",
       "         [ 3.50495063e+01,  2.66578493e+01, -3.50081120e+01],\n",
       "         [ 2.68741694e+01, -1.18361286e+01, -7.93043602e+00],\n",
       "         [ 2.22278028e+01, -9.85671533e+00, -4.75983007e+00],\n",
       "         [ 1.39377282e+01, -1.19169697e+01,  1.98217670e+00],\n",
       "         [ 8.04279507e+00, -2.65251159e+01, -7.90370369e+00],\n",
       "         [-3.77636794e+01,  2.99637347e+00, -5.55186552e-01],\n",
       "         [-2.07577864e+01, -4.30628616e+00,  5.40633165e+00],\n",
       "         [ 1.75464306e+01, -1.62045855e+01, -8.46278355e+00],\n",
       "         [-2.45667027e+01,  1.80108394e+00,  9.37774384e+00],\n",
       "         [ 1.34215279e+01, -8.94609606e+00,  5.22788266e+00],\n",
       "         [ 1.12848259e+01, -1.09192561e+01, -2.44083838e+01],\n",
       "         [-2.52085300e+00,  2.30203368e+00, -3.59535003e-01],\n",
       "         [ 1.06460109e+01, -6.22768985e+00,  6.25751064e+00],\n",
       "         [ 7.67508812e+00, -6.96680695e+00,  1.66790178e+00],\n",
       "         [ 1.60245722e+01, -1.54564645e+01, -7.64939485e+00],\n",
       "         [ 3.72745402e+01, -2.69153234e+01, -6.79152061e+00],\n",
       "         [ 1.53074298e+01, -1.52416031e+01, -6.48981113e+00],\n",
       "         [ 1.39974683e+01, -6.62579821e+00, -4.18736393e+00],\n",
       "         [-2.60809949e+01,  1.65487959e+00,  1.01774052e+01],\n",
       "         [-2.57106689e+01,  1.73210188e+00,  1.01874944e+01],\n",
       "         [ 4.94974492e+00, -4.69067415e-01,  2.75678044e+00],\n",
       "         [-1.46454924e+01,  1.73490671e+01, -2.93159747e+01],\n",
       "         [ 1.51057160e+01, -1.10193856e+01, -3.30987577e+01],\n",
       "         [-2.68904609e+01, -2.65308365e+01,  2.69147667e+01],\n",
       "         [-1.98444595e+01, -4.00210547e+00,  5.08380475e+00],\n",
       "         [-1.74390858e+01,  2.01474062e+01, -3.06066125e+00],\n",
       "         [ 1.41681328e+01, -1.09941967e+01, -1.73583762e+00],\n",
       "         [-3.16054034e+00, -1.02929157e+01,  1.35770000e+01],\n",
       "         [ 2.26066348e+01, -1.04233579e+01,  1.71202911e+01],\n",
       "         [-5.06804885e+00, -8.63729821e+00,  1.37682208e+01],\n",
       "         [-1.65470941e+01,  1.01459759e+00,  1.24530500e+01],\n",
       "         [-2.18067735e+01,  2.33685901e+01, -1.63141326e+01],\n",
       "         [ 6.58501053e+00, -2.34403556e+00,  8.73610801e+00],\n",
       "         [ 1.71369276e+01, -1.57136059e+01, -8.02604754e+00],\n",
       "         [-1.66009909e+01, -1.20557527e+01,  2.02998843e+01],\n",
       "         [-1.73585242e+01,  1.74414023e+01,  2.92850435e+01],\n",
       "         [-8.51125716e+00, -5.20366001e+00,  1.31718724e+01],\n",
       "         [-2.62181734e+01,  1.67226109e+01,  2.50013859e+00],\n",
       "         [ 1.71721171e+01, -1.60690218e+01, -7.84372928e+00],\n",
       "         [ 1.15730426e+01, -3.86330840e+00,  4.62170896e+00],\n",
       "         [-1.00800488e+01, -3.24541706e+00,  1.51346184e+01],\n",
       "         [ 3.87665351e+00, -5.54369080e-01,  1.02960440e+01]])],\n",
       " 'intercepts_:': [array([-37.30399692, -35.38000632,  -6.83708261, -26.09615734,\n",
       "         -37.22953491,  -2.26779128, -35.76776859, -10.91015363,\n",
       "         -38.10708143,  -8.25099562, -19.71343396,  -9.50925011,\n",
       "         -44.03782355,   1.88407434, -43.0382909 , -36.6096465 ,\n",
       "         -32.42303867, -35.02024823, -37.99502933,  -0.24510868,\n",
       "         -36.17887017, -36.82475413, -37.09195124, -29.94137122,\n",
       "           8.2914781 , -36.72879437,  -6.24427944,  -1.84712749,\n",
       "           1.22585351, -21.67919729, -23.88871136, -38.12607875,\n",
       "          -1.42755329, -20.13216015, -36.79034138, -16.6707363 ,\n",
       "           3.24187252, -10.67703544, -30.41359872, -38.71567478,\n",
       "         -41.03237883, -38.03081409, -37.07886307, -27.93019605,\n",
       "          -0.57456429, -36.20324839, -36.73071854,  -0.64731051,\n",
       "         -31.56329705,   4.13447442, -21.74304294, -25.28481274,\n",
       "         -30.25500744, -23.49424673, -39.29429882, -36.01055037,\n",
       "         -35.41512191, -17.7553405 , -31.45065199, -28.34803129,\n",
       "          -5.35817841, -16.743702  , -13.91879433, -43.19174885,\n",
       "         -21.13863774, -37.94802728, -30.08173323,   7.06475246,\n",
       "         -14.73149518, -30.39346723, -27.85221738, -37.83559012,\n",
       "         -41.02334402, -21.74039331, -37.61233014, -15.7493075 ,\n",
       "          -9.86616908, -35.92471621, -22.82791847, -37.55300087,\n",
       "          -0.87905423, -18.28427694, -43.69113177,  -8.71093431,\n",
       "         -38.17733582, -35.88254547, -18.28375195, -42.0665294 ,\n",
       "         -29.8727578 , -36.78073844, -11.35333565, -35.02673238,\n",
       "         -37.34903933, -16.01164824, -35.96526016,  -7.63080626,\n",
       "         -29.87506423,  -8.6308174 ,  -1.89708196, -35.29686879,\n",
       "         -37.47533507, -36.7373326 , -34.22485095,  -2.34652259,\n",
       "         -40.53275981, -32.55708788, -41.3706833 , -34.43194641,\n",
       "         -10.93367797, -39.06842901, -37.6524285 ,  -0.19960492,\n",
       "         -22.51736027, -37.67653037, -35.85394701, -34.4279161 ,\n",
       "         -36.36561783, -15.1682679 , -15.58235465, -35.88614848,\n",
       "         -44.19558076,   5.94051798, -17.46339667, -16.28371576,\n",
       "         -24.10063281, -28.21701744, -37.07925034, -23.09274305,\n",
       "         -36.88964841, -16.74814565, -36.99010392,  -1.73727497,\n",
       "         -34.96124709, -36.75151838, -33.62783765, -35.54486272,\n",
       "         -42.17530449,  -4.26313311,   3.99453078, -11.00033136,\n",
       "         -11.14569577, -35.206575  ,   8.90904191, -18.80989614,\n",
       "          -2.61553394, -37.53553637, -14.758748  , -36.75297482,\n",
       "         -41.76829073, -37.76180482, -32.3978497 , -32.14957496,\n",
       "         -14.7659243 ,  -8.0458897 ,   7.6482738 ]),\n",
       "  array([-11.47413027, -29.21321299, -17.45604274, -26.73516051,\n",
       "         -29.43868242, -11.12592892, -11.47552936,  -7.52091278,\n",
       "         -10.7957728 , -33.0565708 , -33.44923851, -12.12420011,\n",
       "          -8.51691715, -17.88532122, -18.11910878, -10.77581467,\n",
       "         -21.51029308, -27.16274595,  11.15477326, -28.49916103,\n",
       "         -26.94634702, -11.46750045, -12.36163326, -32.33793079,\n",
       "         -22.22505161, -17.69996206, -15.06074383, -14.01279264,\n",
       "          -1.6582596 , -27.11625755, -17.11823687, -17.4084906 ,\n",
       "          -7.69092027, -34.28000566,  13.17791149, -33.2969502 ,\n",
       "         -29.88993675, -13.99953228,   7.83303231,   5.13067118,\n",
       "         -38.75841786, -17.47122691, -21.64701696,   5.75095807,\n",
       "         -27.12494384, -20.99846203,   6.91396636, -12.93031258,\n",
       "         -29.39569204, -32.98890314, -27.14218994, -14.83258292,\n",
       "         -27.27181375, -27.09952759, -39.11966291, -23.39535057,\n",
       "         -29.5079927 , -17.7808168 , -21.1172861 , -22.15747021,\n",
       "         -29.51642209, -18.51237869, -31.80205354, -20.58955125,\n",
       "         -26.21578785, -37.75978673, -33.67924549, -17.96750041,\n",
       "         -31.46956041, -10.14086194, -17.36108941, -26.97206816,\n",
       "         -16.40263282,  -0.52417969, -16.61677857, -22.10183148,\n",
       "         -17.41042712, -16.6746218 , -10.17018042, -18.29313129,\n",
       "         -39.00520698, -39.08129209, -33.05484847, -17.33341839,\n",
       "         -16.36750739, -26.98378583, -14.76765445, -23.42587296,\n",
       "           0.38544474, -17.87161232,   3.44349007, -23.42423427,\n",
       "         -31.91925882, -23.65732019, -17.48243848,   0.86998363,\n",
       "         -29.3429539 , -30.8875415 ,  -9.64830104, -17.29151173,\n",
       "         -11.38693559, -31.19590857, -23.25013032, -27.16418109,\n",
       "         -27.04935351, -25.88790117, -27.14999389, -21.98489637,\n",
       "         -33.72132311, -26.95562171, -27.14155516, -23.41049368,\n",
       "         -38.47074476, -12.64441228, -13.82051932,  -8.32258082,\n",
       "         -12.18563949, -27.03268589, -13.69833199, -29.4938017 ,\n",
       "         -14.75530931,  -9.76245742, -27.16863849, -11.77965563,\n",
       "         -33.06682966, -20.8583491 ,  -7.51120571, -34.04069124,\n",
       "         -14.48547848, -29.43250714, -27.0516288 , -17.48158531,\n",
       "         -11.33288133, -27.11598975, -30.39981858, -37.53593062,\n",
       "         -11.41220513, -13.37961028, -21.67061854, -10.28813072,\n",
       "         -16.22165822, -15.65368069, -26.96169276,  -0.48621091,\n",
       "         -18.90679163, -27.05195177, -15.62561049, -25.11787788,\n",
       "         -27.11133626, -17.0649725 , -16.97427414, -27.00728968,\n",
       "         -14.56907922, -27.15220731, -27.13103419, -17.3338725 ,\n",
       "         -26.94309058, -14.87664795, -20.84887664, -11.5609646 ,\n",
       "         -17.18686606, -26.89640893, -29.55471434, -15.63584257,\n",
       "         -26.95349925, -16.12546229, -12.42830327, -36.98424427,\n",
       "           9.98390002, -29.18753004, -18.50175128, -31.08545391,\n",
       "         -35.2674599 , -18.47744849, -15.61165781, -13.11588267,\n",
       "         -25.51656808, -18.99818315,  -9.94256978,   2.64156222,\n",
       "         -31.53408233, -10.40753176, -18.08423971,  -8.00588885,\n",
       "         -18.04185226,  -9.69469786, -13.74318716, -13.29201013,\n",
       "           2.75117412, -31.57853129, -20.90416429, -26.93972234,\n",
       "         -14.02602042, -24.39416447, -38.59131169, -24.30509624,\n",
       "         -33.06800944, -20.03193844, -18.22035554, -27.01687061,\n",
       "         -16.68924706, -14.5438793 , -27.06560504, -17.28736498,\n",
       "         -18.23348914,   5.70728629, -13.10253933, -14.1135735 ,\n",
       "         -27.03344526, -15.76674598]),\n",
       "  array([-16.78284491,  34.99886022,  -9.06060529])],\n",
       " 'classes_:': array([0, 1, 2]),\n",
       " ' loss_:': 11.068266003759186,\n",
       " 'n_iter_ :': 12}"
      ]
     },
     "execution_count": 63,
     "metadata": {},
     "output_type": "execute_result"
    }
   ],
   "source": [
    "def get_the_other_components(k,j):\n",
    "    dictionnaire={}\n",
    "    #clf = MLPClassifier(solver='lbfgs', hidden_layer_sizes=(list(dict.values())[k]), random_state=1)\n",
    "    clf = MLPClassifier(solver='adam', hidden_layer_sizes=(list(dictresultat.values())[k]), random_state=1,learning_rate_init=j)\n",
    "    clf.fit(X_train,y_train)\n",
    "    clf.predict(X_test)\n",
    "    dictionnaire['n_layers_:']=clf.n_layers_\n",
    "    dictionnaire[' n_outputs_,:']=clf. n_outputs_ \n",
    "    dictionnaire['out_activation_:']=clf.out_activation_                    \n",
    "    dictionnaire['coefs_:']=clf.coefs_\n",
    "    dictionnaire['intercepts_:']=clf.intercepts_ \n",
    "    dictionnaire['classes_:']=clf.classes_ \n",
    "    dictionnaire[' loss_:']=clf.loss_ \n",
    "    dictionnaire['n_iter_ :']=clf.n_iter_\n",
    "    \n",
    "    return dictionnaire                                           \n",
    "#Example                        \n",
    "get_the_other_components(1,6)"
   ]
  },
  {
   "cell_type": "code",
   "execution_count": null,
   "id": "5e79ae1a",
   "metadata": {},
   "outputs": [],
   "source": []
  },
  {
   "cell_type": "code",
   "execution_count": null,
   "id": "ccd83304",
   "metadata": {},
   "outputs": [],
   "source": []
  },
  {
   "cell_type": "code",
   "execution_count": null,
   "id": "01e66582",
   "metadata": {},
   "outputs": [],
   "source": []
  }
 ],
 "metadata": {
  "kernelspec": {
   "display_name": "Python 3 (ipykernel)",
   "language": "python",
   "name": "python3"
  },
  "language_info": {
   "codemirror_mode": {
    "name": "ipython",
    "version": 3
   },
   "file_extension": ".py",
   "mimetype": "text/x-python",
   "name": "python",
   "nbconvert_exporter": "python",
   "pygments_lexer": "ipython3",
   "version": "3.9.12"
  }
 },
 "nbformat": 4,
 "nbformat_minor": 5
}
